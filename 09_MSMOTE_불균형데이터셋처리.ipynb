{
 "cells": [
  {
   "cell_type": "markdown",
   "metadata": {},
   "source": [
    "## MSMOTE\n",
    "http://sherry-data.tistory.com/22"
   ]
  },
  {
   "cell_type": "markdown",
   "metadata": {},
   "source": [
    "https://datascienceschool.net/view-notebook/c1a8dad913f74811ae8eef5d3bedc0c3/"
   ]
  },
  {
   "cell_type": "code",
   "execution_count": null,
   "metadata": {},
   "outputs": [],
   "source": []
  },
  {
   "cell_type": "code",
   "execution_count": null,
   "metadata": {},
   "outputs": [],
   "source": []
  },
  {
   "cell_type": "code",
   "execution_count": null,
   "metadata": {},
   "outputs": [],
   "source": []
  },
  {
   "cell_type": "code",
   "execution_count": 20,
   "metadata": {},
   "outputs": [],
   "source": [
    "from imblearn.over_sampling import *\n",
    "import pandas as pd"
   ]
  },
  {
   "cell_type": "code",
   "execution_count": null,
   "metadata": {},
   "outputs": [],
   "source": []
  },
  {
   "cell_type": "markdown",
   "metadata": {},
   "source": [
    "## 1. 언더샘플링하지 않은 전체 데이터 가져오기"
   ]
  },
  {
   "cell_type": "code",
   "execution_count": 4,
   "metadata": {},
   "outputs": [],
   "source": [
    "# 구분 최초 설정 필요\n",
    "\n",
    "df = 'all'\n",
    "target_temp_df = 'N'  # 정상:부실의 데이터 비율을 맞추기 위한 데이터셋을 사용할 건지 여부 (데이터스케일링 쥬피터 결과 기준)\n",
    "\n",
    "# main/all/core 3가지로 설정 \n",
    "\n",
    "\n",
    "# core설정시 확인해야 함\n",
    "# R을 통해 확인한 stepwise 유의 변수 리스트\n",
    "core_factors = ['DR00000136','6000201001O0','6000903016D1','FNMKFN02','6000901002D1','S41000210FD1',\n",
    "'6000207003O0','DR00000052','6000906001D6','DR00000156','6000901001D3','DR00000082',\n",
    "'S41000210FD2','6000902001D2','6000908001D3','6000904001D3','6000908001D2','S41B0D1009O0',\n",
    "'6000901002D3','6000903001D2','6000403001O0','CO10100170O0','DR00000113','6000908001D7']\n",
    "\n",
    "#  키별로 비율 배분이 잘 됐는지 확인\n",
    "if df == 'all':\n",
    "    max_idx = 707\n",
    "else:\n",
    "    max_idx = 123\n",
    "    "
   ]
  },
  {
   "cell_type": "markdown",
   "metadata": {},
   "source": [
    "### 1). 데이터셋 셋팅"
   ]
  },
  {
   "cell_type": "code",
   "execution_count": 12,
   "metadata": {},
   "outputs": [],
   "source": [
    "import pickle # 파이썬 객체저장을 위한 모듈\n",
    "\n",
    "# 파이썬 객체 읽어오기\n",
    "\n",
    "if target_temp_df != 'Y':\n",
    "    if df == 'all':\n",
    "        with open('./pickles/dataset_all.p', 'rb') as file:    # hello.txt 파일을 바이너리 읽기 모드(rb)로 열기\n",
    "            train_set = pickle.load(file)\n",
    "            test_set = pickle.load(file)\n",
    "    else:\n",
    "        with open('./pickles/dataset_main.p', 'rb') as file:    # hello.txt 파일을 바이너리 읽기 모드(rb)로 열기\n",
    "            train_set = pickle.load(file)\n",
    "            test_set = pickle.load(file)\n",
    "else:\n",
    "# 정상:부실의 데이터 비율 조정 기준\n",
    "    if df == 'all':\n",
    "        with open('./pickles/data6vs4_all.p', 'rb') as file:    # hello.txt 파일을 바이너리 읽기 모드(rb)로 열기\n",
    "            temp_train_set = pickle.load(file)\n",
    "            temp_test_set = pickle.load(file)\n",
    "            af_cols = pickle.load(file)\n",
    "    else:\n",
    "        with open('./pickles/data6vs4_main.p', 'rb') as file:    # hello.txt 파일을 바이너리 읽기 모드(rb)로 열기\n",
    "            temp_train_set = pickle.load(file)\n",
    "            temp_test_set = pickle.load(file)\n",
    "            af_cols = pickle.load(file)\n",
    "            \n",
    "# 필요없는 열 삭제\n",
    "if target_temp_df == 'Y':\n",
    "    train_set = temp_train_set.drop(['index', 0, max_idx-1,max_idx],axis=1)  # 열삭제\n",
    "    test_set = temp_test_set.drop(['index', 0, max_idx-1,max_idx],axis=1)  # 열삭제\n",
    "\n",
    "\n",
    "# 항목명 (열명) 셋팅\n",
    "if target_temp_df == 'Y':\n",
    "    factor_cols = list(af_cols[1:-2])\n",
    "    train_set.columns = factor_cols\n",
    "    test_set.columns = factor_cols\n"
   ]
  },
  {
   "cell_type": "code",
   "execution_count": 13,
   "metadata": {},
   "outputs": [],
   "source": [
    "# core인 경우 main에서 핵심 변수만 추림\n",
    "\n",
    "if df == 'core':\n",
    "    final_factors = ['key', 'industry', 'label']\n",
    "    final_factors = final_factors + core_factors\n",
    "    train_set = train_set[final_factors]\n",
    "    test_set = test_set[final_factors]\n",
    "else:\n",
    "    pass"
   ]
  },
  {
   "cell_type": "code",
   "execution_count": 14,
   "metadata": {},
   "outputs": [
    {
     "data": {
      "text/plain": [
       "('all', (5290, 705), (2336, 705))"
      ]
     },
     "execution_count": 14,
     "metadata": {},
     "output_type": "execute_result"
    }
   ],
   "source": [
    "df, train_set.shape, test_set.shape"
   ]
  },
  {
   "cell_type": "markdown",
   "metadata": {},
   "source": [
    "### 2) 데이터 분리 및 타입변경"
   ]
  },
  {
   "cell_type": "code",
   "execution_count": 21,
   "metadata": {},
   "outputs": [],
   "source": [
    "# 데이터 분리\n",
    "cols = train_set.columns.values\n",
    "train_info = train_set[cols[0:3]]\n",
    "X_train = train_set[cols[3:]]\n",
    "Y_train = train_set['label']\n",
    "train_len = X_train.shape[0]\n",
    "\n",
    "cols = test_set.columns.values\n",
    "test_info = test_set[cols[0:3]]\n",
    "X_test = test_set[cols[3:]]\n",
    "Y_test = test_set['label']\n",
    "test_len = X_test.shape[0]"
   ]
  },
  {
   "cell_type": "code",
   "execution_count": 16,
   "metadata": {
    "scrolled": true
   },
   "outputs": [
    {
     "data": {
      "text/plain": [
       "((5290, 702), (5290,))"
      ]
     },
     "execution_count": 16,
     "metadata": {},
     "output_type": "execute_result"
    }
   ],
   "source": [
    "X_train.shape, Y_train.shape"
   ]
  },
  {
   "cell_type": "code",
   "execution_count": null,
   "metadata": {},
   "outputs": [],
   "source": []
  },
  {
   "cell_type": "markdown",
   "metadata": {},
   "source": [
    "## 2. 분리전 전처리된 데이터 가져오기"
   ]
  },
  {
   "cell_type": "code",
   "execution_count": 22,
   "metadata": {},
   "outputs": [],
   "source": [
    "if df == 'all':\n",
    "    address = './datas/raw_all_preprocessing.csv'\n",
    "else:\n",
    "    address = './datas/raw_main_preprocessing.csv'\n",
    "\n",
    "data = pd.read_csv(address, header=0)  \n",
    "cols = data.columns.values\n",
    "cols = cols[1:].tolist()  # 주의! \n"
   ]
  },
  {
   "cell_type": "code",
   "execution_count": 23,
   "metadata": {},
   "outputs": [
    {
     "data": {
      "text/plain": [
       "(7626, 706)"
      ]
     },
     "execution_count": 23,
     "metadata": {},
     "output_type": "execute_result"
    }
   ],
   "source": [
    "data.shape"
   ]
  },
  {
   "cell_type": "code",
   "execution_count": 24,
   "metadata": {},
   "outputs": [
    {
     "data": {
      "text/html": [
       "<div>\n",
       "<style scoped>\n",
       "    .dataframe tbody tr th:only-of-type {\n",
       "        vertical-align: middle;\n",
       "    }\n",
       "\n",
       "    .dataframe tbody tr th {\n",
       "        vertical-align: top;\n",
       "    }\n",
       "\n",
       "    .dataframe thead th {\n",
       "        text-align: right;\n",
       "    }\n",
       "</style>\n",
       "<table border=\"1\" class=\"dataframe\">\n",
       "  <thead>\n",
       "    <tr style=\"text-align: right;\">\n",
       "      <th></th>\n",
       "      <th>Unnamed: 0</th>\n",
       "      <th>key</th>\n",
       "      <th>industry</th>\n",
       "      <th>label</th>\n",
       "      <th>S430000600O0</th>\n",
       "      <th>3001104004O0</th>\n",
       "      <th>3001212005O0</th>\n",
       "      <th>3001403004O0</th>\n",
       "      <th>3001111005O0</th>\n",
       "      <th>S430000100O0</th>\n",
       "      <th>...</th>\n",
       "      <th>DR00000157</th>\n",
       "      <th>DR00000158</th>\n",
       "      <th>DR00000159</th>\n",
       "      <th>DR00000160</th>\n",
       "      <th>DR00000161</th>\n",
       "      <th>DR00000162</th>\n",
       "      <th>DR00000163</th>\n",
       "      <th>DR00000164</th>\n",
       "      <th>DR00000165</th>\n",
       "      <th>DR00000166</th>\n",
       "    </tr>\n",
       "  </thead>\n",
       "  <tbody>\n",
       "    <tr>\n",
       "      <th>0</th>\n",
       "      <td>0</td>\n",
       "      <td>2013000020</td>\n",
       "      <td>C</td>\n",
       "      <td>0</td>\n",
       "      <td>11.716837</td>\n",
       "      <td>2.969817</td>\n",
       "      <td>0.802569</td>\n",
       "      <td>0.416889</td>\n",
       "      <td>-1.886927</td>\n",
       "      <td>2.225912</td>\n",
       "      <td>...</td>\n",
       "      <td>3.0</td>\n",
       "      <td>0.0</td>\n",
       "      <td>3.0</td>\n",
       "      <td>0.0</td>\n",
       "      <td>0.0</td>\n",
       "      <td>0.0</td>\n",
       "      <td>0.0</td>\n",
       "      <td>0.0</td>\n",
       "      <td>0.0</td>\n",
       "      <td>0.0</td>\n",
       "    </tr>\n",
       "    <tr>\n",
       "      <th>1</th>\n",
       "      <td>1</td>\n",
       "      <td>2013000040</td>\n",
       "      <td>C</td>\n",
       "      <td>0</td>\n",
       "      <td>10.864216</td>\n",
       "      <td>2.969817</td>\n",
       "      <td>2.881315</td>\n",
       "      <td>2.845274</td>\n",
       "      <td>-1.886927</td>\n",
       "      <td>2.225912</td>\n",
       "      <td>...</td>\n",
       "      <td>3.0</td>\n",
       "      <td>0.0</td>\n",
       "      <td>3.0</td>\n",
       "      <td>0.0</td>\n",
       "      <td>0.0</td>\n",
       "      <td>0.0</td>\n",
       "      <td>0.0</td>\n",
       "      <td>0.0</td>\n",
       "      <td>0.0</td>\n",
       "      <td>0.0</td>\n",
       "    </tr>\n",
       "    <tr>\n",
       "      <th>2</th>\n",
       "      <td>2</td>\n",
       "      <td>2013000050</td>\n",
       "      <td>C</td>\n",
       "      <td>0</td>\n",
       "      <td>12.607617</td>\n",
       "      <td>2.969817</td>\n",
       "      <td>2.881315</td>\n",
       "      <td>2.845274</td>\n",
       "      <td>-0.363248</td>\n",
       "      <td>-0.851603</td>\n",
       "      <td>...</td>\n",
       "      <td>1.0</td>\n",
       "      <td>0.0</td>\n",
       "      <td>3.0</td>\n",
       "      <td>0.0</td>\n",
       "      <td>0.0</td>\n",
       "      <td>0.0</td>\n",
       "      <td>0.0</td>\n",
       "      <td>0.0</td>\n",
       "      <td>0.0</td>\n",
       "      <td>0.0</td>\n",
       "    </tr>\n",
       "    <tr>\n",
       "      <th>3</th>\n",
       "      <td>3</td>\n",
       "      <td>2013000070</td>\n",
       "      <td>M</td>\n",
       "      <td>0</td>\n",
       "      <td>13.337241</td>\n",
       "      <td>2.969817</td>\n",
       "      <td>2.881315</td>\n",
       "      <td>2.845274</td>\n",
       "      <td>-1.886927</td>\n",
       "      <td>-0.851603</td>\n",
       "      <td>...</td>\n",
       "      <td>3.0</td>\n",
       "      <td>0.0</td>\n",
       "      <td>3.0</td>\n",
       "      <td>0.0</td>\n",
       "      <td>0.0</td>\n",
       "      <td>0.0</td>\n",
       "      <td>0.0</td>\n",
       "      <td>1.0</td>\n",
       "      <td>0.0</td>\n",
       "      <td>0.0</td>\n",
       "    </tr>\n",
       "    <tr>\n",
       "      <th>4</th>\n",
       "      <td>4</td>\n",
       "      <td>2013000080</td>\n",
       "      <td>C</td>\n",
       "      <td>0</td>\n",
       "      <td>14.263528</td>\n",
       "      <td>2.969817</td>\n",
       "      <td>2.881315</td>\n",
       "      <td>0.095426</td>\n",
       "      <td>-0.456624</td>\n",
       "      <td>-0.851603</td>\n",
       "      <td>...</td>\n",
       "      <td>3.0</td>\n",
       "      <td>0.0</td>\n",
       "      <td>3.0</td>\n",
       "      <td>0.0</td>\n",
       "      <td>0.0</td>\n",
       "      <td>1.0</td>\n",
       "      <td>0.0</td>\n",
       "      <td>1.0</td>\n",
       "      <td>0.0</td>\n",
       "      <td>0.0</td>\n",
       "    </tr>\n",
       "  </tbody>\n",
       "</table>\n",
       "<p>5 rows × 706 columns</p>\n",
       "</div>"
      ],
      "text/plain": [
       "   Unnamed: 0         key industry  label  S430000600O0  3001104004O0  \\\n",
       "0           0  2013000020        C      0     11.716837      2.969817   \n",
       "1           1  2013000040        C      0     10.864216      2.969817   \n",
       "2           2  2013000050        C      0     12.607617      2.969817   \n",
       "3           3  2013000070        M      0     13.337241      2.969817   \n",
       "4           4  2013000080        C      0     14.263528      2.969817   \n",
       "\n",
       "   3001212005O0  3001403004O0  3001111005O0  S430000100O0     ...      \\\n",
       "0      0.802569      0.416889     -1.886927      2.225912     ...       \n",
       "1      2.881315      2.845274     -1.886927      2.225912     ...       \n",
       "2      2.881315      2.845274     -0.363248     -0.851603     ...       \n",
       "3      2.881315      2.845274     -1.886927     -0.851603     ...       \n",
       "4      2.881315      0.095426     -0.456624     -0.851603     ...       \n",
       "\n",
       "   DR00000157  DR00000158  DR00000159  DR00000160  DR00000161  DR00000162  \\\n",
       "0         3.0         0.0         3.0         0.0         0.0         0.0   \n",
       "1         3.0         0.0         3.0         0.0         0.0         0.0   \n",
       "2         1.0         0.0         3.0         0.0         0.0         0.0   \n",
       "3         3.0         0.0         3.0         0.0         0.0         0.0   \n",
       "4         3.0         0.0         3.0         0.0         0.0         1.0   \n",
       "\n",
       "   DR00000163  DR00000164  DR00000165  DR00000166  \n",
       "0         0.0         0.0         0.0         0.0  \n",
       "1         0.0         0.0         0.0         0.0  \n",
       "2         0.0         0.0         0.0         0.0  \n",
       "3         0.0         1.0         0.0         0.0  \n",
       "4         0.0         1.0         0.0         0.0  \n",
       "\n",
       "[5 rows x 706 columns]"
      ]
     },
     "execution_count": 24,
     "metadata": {},
     "output_type": "execute_result"
    }
   ],
   "source": [
    "data.head()"
   ]
  },
  {
   "cell_type": "code",
   "execution_count": 18,
   "metadata": {},
   "outputs": [
    {
     "ename": "NameError",
     "evalue": "name 'X00' is not defined",
     "output_type": "error",
     "traceback": [
      "\u001b[1;31m---------------------------------------------------------------------------\u001b[0m",
      "\u001b[1;31mNameError\u001b[0m                                 Traceback (most recent call last)",
      "\u001b[1;32m<ipython-input-18-459baf6e3f26>\u001b[0m in \u001b[0;36m<module>\u001b[1;34m()\u001b[0m\n\u001b[0;32m      2\u001b[0m \u001b[1;32mfrom\u001b[0m \u001b[0msklearn\u001b[0m\u001b[1;33m.\u001b[0m\u001b[0msvm\u001b[0m \u001b[1;32mimport\u001b[0m \u001b[0mSVC\u001b[0m\u001b[1;33m\u001b[0m\u001b[0m\n\u001b[0;32m      3\u001b[0m \u001b[1;33m\u001b[0m\u001b[0m\n\u001b[1;32m----> 4\u001b[1;33m \u001b[0mx1_min\u001b[0m \u001b[1;33m=\u001b[0m \u001b[0mX00\u001b[0m\u001b[1;33m[\u001b[0m\u001b[1;33m:\u001b[0m\u001b[1;33m,\u001b[0m \u001b[1;36m0\u001b[0m\u001b[1;33m]\u001b[0m\u001b[1;33m.\u001b[0m\u001b[0mmin\u001b[0m\u001b[1;33m(\u001b[0m\u001b[1;33m)\u001b[0m \u001b[1;33m-\u001b[0m \u001b[1;36m2\u001b[0m\u001b[1;33m\u001b[0m\u001b[0m\n\u001b[0m\u001b[0;32m      5\u001b[0m \u001b[0mx1_max\u001b[0m \u001b[1;33m=\u001b[0m \u001b[0mX00\u001b[0m\u001b[1;33m[\u001b[0m\u001b[1;33m:\u001b[0m\u001b[1;33m,\u001b[0m \u001b[1;36m0\u001b[0m\u001b[1;33m]\u001b[0m\u001b[1;33m.\u001b[0m\u001b[0mmax\u001b[0m\u001b[1;33m(\u001b[0m\u001b[1;33m)\u001b[0m \u001b[1;33m+\u001b[0m \u001b[1;36m2\u001b[0m\u001b[1;33m\u001b[0m\u001b[0m\n\u001b[0;32m      6\u001b[0m \u001b[0mx2_min\u001b[0m \u001b[1;33m=\u001b[0m \u001b[0mX00\u001b[0m\u001b[1;33m[\u001b[0m\u001b[1;33m:\u001b[0m\u001b[1;33m,\u001b[0m \u001b[1;36m1\u001b[0m\u001b[1;33m]\u001b[0m\u001b[1;33m.\u001b[0m\u001b[0mmin\u001b[0m\u001b[1;33m(\u001b[0m\u001b[1;33m)\u001b[0m \u001b[1;33m-\u001b[0m \u001b[1;36m2\u001b[0m\u001b[1;33m\u001b[0m\u001b[0m\n",
      "\u001b[1;31mNameError\u001b[0m: name 'X00' is not defined"
     ]
    }
   ],
   "source": [
    "from collections import Counter\n",
    "from sklearn.svm import SVC\n",
    "\n",
    "x1_min = X00[:, 0].min() - 2\n",
    "x1_max = X00[:, 0].max() + 2\n",
    "x2_min = X00[:, 1].min() - 2\n",
    "x2_max = X00[:, 1].max() + 2\n",
    "\n",
    "def plot_samples(X=None, y=None):\n",
    "    XX, YY = np.mgrid[x1_min:x1_max:300j, x2_min:x2_max:300j]\n",
    "    if X is None:\n",
    "        X = X0\n",
    "        model = SVC(kernel=\"linear\").fit(X0, y0)\n",
    "        Z = model.predict(np.c_[XX.ravel(), YY.ravel()])\n",
    "        Z = Z.reshape(XX.shape)\n",
    "        plt.contourf(XX, YY, Z, alpha=0.6)\n",
    "        plt.scatter(X0[:, 0], X0[:, 1], marker='o', c=y0, s=40, \n",
    "                    linewidth=1, edgecolor='gray', alpha=0.7)\n",
    "        plt.title(Counter(y0))\n",
    "    else:\n",
    "        plt.subplot(121)\n",
    "        model = SVC(kernel=\"linear\").fit(X0, y0)\n",
    "        Z = model.predict(np.c_[XX.ravel(), YY.ravel()])\n",
    "        Z = Z.reshape(XX.shape)\n",
    "        plt.contourf(XX, YY, Z, alpha=0.6)\n",
    "        plt.scatter(X0[:, 0], X0[:, 1], marker='o', c=y0, s=40, \n",
    "                    linewidth=1, edgecolor='gray', alpha=0.7)\n",
    "        plt.xlim(-2, 4)\n",
    "        plt.ylim(-3, 4)\n",
    "        plt.title(Counter(y0))\n",
    "        plt.subplot(122)\n",
    "        model = SVC(kernel=\"linear\").fit(X, y)\n",
    "        Z = model.predict(np.c_[XX.ravel(), YY.ravel()])\n",
    "        Z = Z.reshape(XX.shape)\n",
    "        plt.contourf(XX, YY, Z, alpha=0.6)\n",
    "        plt.scatter(X[:, 0], X[:, 1], marker='o', c=y, s=40, \n",
    "                    linewidth=1, edgecolor='gray', alpha=0.7)\n",
    "        plt.xlim(-2, 4)\n",
    "        plt.ylim(-3, 4)\n",
    "        plt.title(Counter(y))\n",
    "        plt.tight_layout()\n",
    "    plt.show()\n",
    "    \n",
    "    return model.predict(X)\n",
    "    \n",
    "y_pred = plot_samples()"
   ]
  },
  {
   "cell_type": "code",
   "execution_count": null,
   "metadata": {},
   "outputs": [],
   "source": []
  },
  {
   "cell_type": "code",
   "execution_count": 17,
   "metadata": {},
   "outputs": [
    {
     "name": "stderr",
     "output_type": "stream",
     "text": [
      "C:\\Users\\MK\\AppData\\Roaming\\Python\\Python36\\site-packages\\imblearn\\utils\\_validation.py:93: UserWarning: 'y' should be of types ('binary', 'multiclass', 'multilabel-indicator') only. Got unknown instead.\n",
      "  TARGET_KIND, type_of_target(y)))\n",
      "C:\\Users\\MK\\AppData\\Roaming\\Python\\Python36\\site-packages\\imblearn\\utils\\_validation.py:93: UserWarning: 'y' should be of types ('binary', 'multiclass', 'multilabel-indicator') only. Got unknown instead.\n",
      "  TARGET_KIND, type_of_target(y)))\n",
      "C:\\Users\\MK\\AppData\\Roaming\\Python\\Python36\\site-packages\\imblearn\\utils\\_validation.py:93: UserWarning: 'y' should be of types ('binary', 'multiclass', 'multilabel-indicator') only. Got unknown instead.\n",
      "  TARGET_KIND, type_of_target(y)))\n",
      "C:\\Users\\MK\\AppData\\Roaming\\Python\\Python36\\site-packages\\imblearn\\utils\\_validation.py:93: UserWarning: 'y' should be of types ('binary', 'multiclass', 'multilabel-indicator') only. Got unknown instead.\n",
      "  TARGET_KIND, type_of_target(y)))\n"
     ]
    },
    {
     "ename": "NameError",
     "evalue": "name 'plot_samples' is not defined",
     "output_type": "error",
     "traceback": [
      "\u001b[1;31m---------------------------------------------------------------------------\u001b[0m",
      "\u001b[1;31mNameError\u001b[0m                                 Traceback (most recent call last)",
      "\u001b[1;32m<ipython-input-17-80d5a053d4e3>\u001b[0m in \u001b[0;36m<module>\u001b[1;34m()\u001b[0m\n\u001b[0;32m      2\u001b[0m \u001b[1;33m\u001b[0m\u001b[0m\n\u001b[0;32m      3\u001b[0m \u001b[0mX\u001b[0m\u001b[1;33m,\u001b[0m \u001b[0my\u001b[0m \u001b[1;33m=\u001b[0m \u001b[0mSMOTEENN\u001b[0m\u001b[1;33m(\u001b[0m\u001b[0mrandom_state\u001b[0m\u001b[1;33m=\u001b[0m\u001b[1;36m0\u001b[0m\u001b[1;33m)\u001b[0m\u001b[1;33m.\u001b[0m\u001b[0mfit_sample\u001b[0m\u001b[1;33m(\u001b[0m\u001b[0mX_train\u001b[0m\u001b[1;33m,\u001b[0m \u001b[0mY_train\u001b[0m\u001b[1;33m)\u001b[0m\u001b[1;33m\u001b[0m\u001b[0m\n\u001b[1;32m----> 4\u001b[1;33m \u001b[0my_pred\u001b[0m \u001b[1;33m=\u001b[0m \u001b[0mplot_samples\u001b[0m\u001b[1;33m(\u001b[0m\u001b[0mX\u001b[0m\u001b[1;33m,\u001b[0m \u001b[0my\u001b[0m\u001b[1;33m)\u001b[0m\u001b[1;33m\u001b[0m\u001b[0m\n\u001b[0m",
      "\u001b[1;31mNameError\u001b[0m: name 'plot_samples' is not defined"
     ]
    }
   ],
   "source": [
    "from imblearn.combine import *\n",
    "\n",
    "X, y = SMOTEENN(random_state=0).fit_sample(X_train, Y_train)\n",
    "y_pred = plot_samples(X, y)"
   ]
  },
  {
   "cell_type": "code",
   "execution_count": null,
   "metadata": {},
   "outputs": [],
   "source": []
  },
  {
   "cell_type": "code",
   "execution_count": null,
   "metadata": {},
   "outputs": [],
   "source": []
  },
  {
   "cell_type": "code",
   "execution_count": null,
   "metadata": {},
   "outputs": [],
   "source": []
  },
  {
   "cell_type": "code",
   "execution_count": null,
   "metadata": {},
   "outputs": [],
   "source": []
  },
  {
   "cell_type": "code",
   "execution_count": null,
   "metadata": {},
   "outputs": [],
   "source": []
  },
  {
   "cell_type": "code",
   "execution_count": null,
   "metadata": {},
   "outputs": [],
   "source": []
  },
  {
   "cell_type": "code",
   "execution_count": null,
   "metadata": {},
   "outputs": [],
   "source": [
    "X, y = RandomOverSampler(random_state=0).fit_sample(X0, y0)\n",
    "y_pred = plot_samples(X, y)"
   ]
  }
 ],
 "metadata": {
  "kernelspec": {
   "display_name": "Python 3",
   "language": "python",
   "name": "python3"
  },
  "language_info": {
   "codemirror_mode": {
    "name": "ipython",
    "version": 3
   },
   "file_extension": ".py",
   "mimetype": "text/x-python",
   "name": "python",
   "nbconvert_exporter": "python",
   "pygments_lexer": "ipython3",
   "version": "3.6.5"
  }
 },
 "nbformat": 4,
 "nbformat_minor": 2
}
