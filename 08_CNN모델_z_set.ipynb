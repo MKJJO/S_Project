{
 "cells": [
  {
   "cell_type": "markdown",
   "metadata": {},
   "source": [
    "# CNN"
   ]
  },
  {
   "cell_type": "markdown",
   "metadata": {},
   "source": [
    "VAE를 통해 차원을 축소한 데이터 사용"
   ]
  },
  {
   "cell_type": "code",
   "execution_count": null,
   "metadata": {},
   "outputs": [],
   "source": []
  },
  {
   "cell_type": "code",
   "execution_count": null,
   "metadata": {},
   "outputs": [],
   "source": []
  },
  {
   "cell_type": "code",
   "execution_count": 4,
   "metadata": {},
   "outputs": [],
   "source": [
    "import pandas as pd\n",
    "import numpy as np\n",
    "from keras.datasets import mnist\n",
    "from keras.utils import np_utils\n",
    "from keras.models import Sequential\n",
    "from keras.layers import Dense, Activation, Conv2D, MaxPooling2D, Flatten, Dropout, BatchNormalization, initializers\n",
    "from keras.optimizers import RMSprop, Adadelta, Adam, SGD, Adagrad\n",
    "from keras.utils import to_categorical\n",
    "import matplotlib.pyplot as plt\n",
    "%matplotlib inline\n",
    "import pickle # 파이썬 객체저장을 위한 모듈"
   ]
  },
  {
   "cell_type": "markdown",
   "metadata": {},
   "source": [
    "## 사전값 셋팅 확인 필수"
   ]
  },
  {
   "cell_type": "code",
   "execution_count": 39,
   "metadata": {},
   "outputs": [],
   "source": [
    "df = 'main'   # 수정필수\n",
    "# core/all/main\n",
    "\n",
    "\n",
    "\n",
    "\n",
    "# core설정시 확인해야 함\n",
    "# R을 통해 확인한 stepwise 유의 변수 리스트\n",
    "core_factors = ['DR00000136','6000201001O0','6000903016D1','FNMKFN02','6000901002D1','S41000210FD1',\n",
    "'6000207003O0','DR00000052','6000906001D6','DR00000156','6000901001D3','DR00000082',\n",
    "'S41000210FD2','6000902001D2','6000908001D3','6000904001D3','6000908001D2','S41B0D1009O0',\n",
    "'6000901002D3','6000903001D2','6000403001O0','CO10100170O0','DR00000113','6000908001D7']\n",
    "\n",
    "#  키별로 비율 배분이 잘 됐는지 확인\n",
    "if df == 'all':\n",
    "    max_idx = 707\n",
    "else:\n",
    "    max_idx = 124\n",
    "    "
   ]
  },
  {
   "cell_type": "code",
   "execution_count": 40,
   "metadata": {},
   "outputs": [],
   "source": [
    "if df == 'all':\n",
    "    file_nm = \"./pickles/vae_all.p\"\n",
    "elif df == 'main':\n",
    "    file_nm = \"./pickles/vae_main.p\"\n",
    "elif df == 'core':\n",
    "    file_nm = \"./pickles/vae_core.p\"\n",
    "\n",
    "#파이썬 객체 읽어오기\n",
    "with open(file_nm, 'rb') as file:  \n",
    "    z_train = pickle.load(file)\n",
    "    z_test = pickle.load(file)\n",
    "    x_train = pickle.load(file)   # 0~1 스케일된 데이터 유의!\n",
    "    x_test = pickle.load(file)    # 0~1 스케일된 데이터 유의!\n",
    "    y_train = pickle.load(file)\n",
    "    y_test = pickle.load(file)\n",
    "    train_set = pickle.load(file)\n",
    "    test_set = pickle.load(file)   \n",
    "    "
   ]
  },
  {
   "cell_type": "code",
   "execution_count": 41,
   "metadata": {},
   "outputs": [
    {
     "data": {
      "text/plain": [
       "('main', (755, 32), (333, 32), (755,), (333,))"
      ]
     },
     "execution_count": 41,
     "metadata": {},
     "output_type": "execute_result"
    }
   ],
   "source": [
    "df, z_train.shape, z_test.shape, y_train.shape, y_test.shape"
   ]
  },
  {
   "cell_type": "markdown",
   "metadata": {},
   "source": [
    "### 모델 입력값 설정"
   ]
  },
  {
   "cell_type": "code",
   "execution_count": 42,
   "metadata": {},
   "outputs": [],
   "source": [
    "np.random.seed(42)\n",
    "\n",
    "# 분류갯수\n",
    "classes = 2\n",
    "\n",
    "# 학습데이터\n",
    "img_rows = 1\n",
    "img_cols = z_train.shape[1] \n",
    "\n"
   ]
  },
  {
   "cell_type": "code",
   "execution_count": 43,
   "metadata": {},
   "outputs": [
    {
     "data": {
      "text/plain": [
       "(1, 32)"
      ]
     },
     "execution_count": 43,
     "metadata": {},
     "output_type": "execute_result"
    }
   ],
   "source": [
    "img_rows, img_cols"
   ]
  },
  {
   "cell_type": "markdown",
   "metadata": {},
   "source": [
    "### input shape 변경"
   ]
  },
  {
   "cell_type": "code",
   "execution_count": 44,
   "metadata": {},
   "outputs": [
    {
     "name": "stdout",
     "output_type": "stream",
     "text": [
      "(1, 32, 1)\n"
     ]
    }
   ],
   "source": [
    "# X_train = X_train.reshape(X_train.shape[0], img_rows, img_cols, 1)\n",
    "# X_test = X_test.reshape(X_test.shape[0], img_rows, img_cols, 1)\n",
    "X_train = z_train.reshape(z_train.shape[0], 1, z_train.shape[1], 1) # (1, # of features, # of chnnels) # input.shape[1:끝]\n",
    "X_test = z_test.reshape(z_test.shape[0], 1, z_test.shape[1], 1) # (1, # of features, # of chnnels) # input.shape[1:끝]\n",
    "\n",
    "# 변수명 전환\n",
    "Y_train = y_train\n",
    "Y_test = y_test\n",
    "\n",
    "input_shape= X_train.shape[1:4]\n",
    "print(input_shape)"
   ]
  },
  {
   "cell_type": "code",
   "execution_count": 45,
   "metadata": {},
   "outputs": [
    {
     "data": {
      "text/plain": [
       "32"
      ]
     },
     "execution_count": 45,
     "metadata": {},
     "output_type": "execute_result"
    }
   ],
   "source": [
    "z_train.shape[1]"
   ]
  },
  {
   "cell_type": "code",
   "execution_count": 46,
   "metadata": {},
   "outputs": [
    {
     "name": "stdout",
     "output_type": "stream",
     "text": [
      "한번에 처리될 row 수 : 50 ,   한 row date가 반복 학습될 횟수 :  50 ,    37750 개 row에 대해 학습하게 됨\n",
      "\n",
      "< 처리기준 >\n",
      "n : 755, m :1, filter_size : 4, batch_size : 50, epochs : 50\n"
     ]
    }
   ],
   "source": [
    "\n",
    "# if x_train.shape[1] >= 100:\n",
    "#     filter_size = 8\n",
    "# elif x_train.shape[1] >= 50:\n",
    "#     filter_size = 8\n",
    "# else:\n",
    "#     filter_size = 8\n",
    "\n",
    "filter_size = 4\n",
    "batch_size = 50\n",
    "epochs = 50\n",
    "\n",
    "print(\"한번에 처리될 row 수 :\", batch_size, \",   한 row date가 반복 학습될 횟수 : \", epochs, \",   \", x_train.shape[0]*epochs, \"개 row에 대해 학습하게 됨\")\n",
    "\n",
    "print(\"\\n< 처리기준 >\")\n",
    "print_string = \"n : {}, m :{}, filter_size : {}, batch_size : {}, epochs : {}\"\n",
    "print(print_string.format(x_train.shape[0],x_train.shape[1],filter_size,batch_size,epochs))\n"
   ]
  },
  {
   "cell_type": "code",
   "execution_count": 47,
   "metadata": {},
   "outputs": [
    {
     "data": {
      "text/plain": [
       "((755, 2), (333, 2))"
      ]
     },
     "execution_count": 47,
     "metadata": {},
     "output_type": "execute_result"
    }
   ],
   "source": [
    "# Y값을 1개항목에서 카테고리화 함\n",
    "Y_train = to_categorical(y_train, num_classes=classes) # one-hot 인코딩\n",
    "Y_test = to_categorical(y_test, num_classes=classes) # one-hot 인코딩\n",
    "\n",
    "Y_train.shape, Y_test.shape"
   ]
  },
  {
   "cell_type": "markdown",
   "metadata": {},
   "source": [
    "## CNN 모델 설계"
   ]
  },
  {
   "cell_type": "code",
   "execution_count": 48,
   "metadata": {},
   "outputs": [
    {
     "data": {
      "text/plain": [
       "((755, 1, 32, 1), (333, 1, 32, 1), (755, 2), (333, 2))"
      ]
     },
     "execution_count": 48,
     "metadata": {},
     "output_type": "execute_result"
    }
   ],
   "source": [
    "X_train.shape, X_test.shape, Y_train.shape, Y_test.shape"
   ]
  },
  {
   "cell_type": "code",
   "execution_count": 49,
   "metadata": {},
   "outputs": [],
   "source": [
    "# filter_size = 4\n"
   ]
  },
  {
   "cell_type": "code",
   "execution_count": 50,
   "metadata": {},
   "outputs": [
    {
     "name": "stderr",
     "output_type": "stream",
     "text": [
      "C:\\ProgramData\\Anaconda3\\envs\\tensorflow\\lib\\site-packages\\ipykernel_launcher.py:4: UserWarning: Update your `Conv2D` call to the Keras 2 API: `Conv2D(4, (1, 2), input_shape=(1, 32, 1), activation=\"relu\", padding=\"same\", kernel_initializer=\"he_normal\")`\n",
      "  after removing the cwd from sys.path.\n"
     ]
    },
    {
     "name": "stdout",
     "output_type": "stream",
     "text": [
      "_________________________________________________________________\n",
      "Layer (type)                 Output Shape              Param #   \n",
      "=================================================================\n",
      "conv2d_9 (Conv2D)            (None, 1, 32, 4)          12        \n",
      "_________________________________________________________________\n",
      "activation_9 (Activation)    (None, 1, 32, 4)          0         \n",
      "_________________________________________________________________\n",
      "conv2d_10 (Conv2D)           (None, 1, 32, 8)          136       \n",
      "_________________________________________________________________\n",
      "activation_10 (Activation)   (None, 1, 32, 8)          0         \n",
      "_________________________________________________________________\n",
      "conv2d_11 (Conv2D)           (None, 1, 32, 8)          264       \n",
      "_________________________________________________________________\n",
      "activation_11 (Activation)   (None, 1, 32, 8)          0         \n",
      "_________________________________________________________________\n",
      "conv2d_12 (Conv2D)           (None, 1, 29, 4)          132       \n",
      "_________________________________________________________________\n",
      "activation_12 (Activation)   (None, 1, 29, 4)          0         \n",
      "_________________________________________________________________\n",
      "flatten_3 (Flatten)          (None, 116)               0         \n",
      "_________________________________________________________________\n",
      "dense_3 (Dense)              (None, 2)                 234       \n",
      "=================================================================\n",
      "Total params: 778\n",
      "Trainable params: 778\n",
      "Non-trainable params: 0\n",
      "_________________________________________________________________\n"
     ]
    },
    {
     "name": "stderr",
     "output_type": "stream",
     "text": [
      "C:\\ProgramData\\Anaconda3\\envs\\tensorflow\\lib\\site-packages\\ipykernel_launcher.py:23: UserWarning: Update your `Dense` call to the Keras 2 API: `Dense(2, activation=\"sigmoid\", kernel_initializer=\"glorot_normal\")`\n"
     ]
    }
   ],
   "source": [
    "# 1. 모델구성\n",
    "model = Sequential()\n",
    "\n",
    "model.add(Conv2D(filter_size, (1, 2), input_shape = X_train.shape[1:4], activation = 'relu', padding='same', init=\"he_normal\")) # 2D (1, 4) size 필터\n",
    "model.add(Activation('elu'))\n",
    "\n",
    "model.add(Conv2D(filter_size*2, (1, 4), padding='same', kernel_initializer=\"he_normal\"))\n",
    "# model.add(BatchNormalization())\n",
    "model.add(Activation('elu'))\n",
    "# model.add(MaxPooling2D((1, 2)))\n",
    "# model.add(Dropout(0.2))\n",
    "\n",
    "model.add(Conv2D(filter_size*2, (1, 4), padding='same', kernel_initializer=\"he_normal\"))\n",
    "# model.add(BatchNormalization())\n",
    "model.add(Activation('elu'))\n",
    "\n",
    "model.add(Conv2D(filter_size, (1, 4), kernel_initializer=\"he_normal\"))\n",
    "model.add(Activation('elu'))\n",
    "# model.add(MaxPooling2D((1, 2)))\n",
    "# model.add(Dropout(0.2))\n",
    "\n",
    "model.add(Flatten())\n",
    "model.add(Dense(classes, activation = 'sigmoid', init=\"glorot_normal\"))# 마지막 class 분류\n",
    "\n",
    "# 2. 모델 학습과정 설정하기\n",
    "model.compile(loss = 'categorical_crossentropy', optimizer = 'adam', metrics = ['accuracy'])\n",
    "model.summary()"
   ]
  },
  {
   "cell_type": "code",
   "execution_count": 51,
   "metadata": {},
   "outputs": [
    {
     "name": "stdout",
     "output_type": "stream",
     "text": [
      "Train on 604 samples, validate on 151 samples\n",
      "Epoch 1/50\n",
      "604/604 [==============================] - 1s 1ms/step - loss: 0.6847 - acc: 0.6738 - val_loss: 1.4870 - val_acc: 0.0000e+00\n",
      "Epoch 2/50\n",
      "604/604 [==============================] - 0s 167us/step - loss: 0.5730 - acc: 0.7500 - val_loss: 1.4083 - val_acc: 0.0000e+00\n",
      "Epoch 3/50\n",
      "604/604 [==============================] - 0s 177us/step - loss: 0.5199 - acc: 0.7517 - val_loss: 1.3032 - val_acc: 0.0000e+00\n",
      "Epoch 4/50\n",
      "604/604 [==============================] - 0s 213us/step - loss: 0.4778 - acc: 0.7533 - val_loss: 1.2242 - val_acc: 0.0265\n",
      "Epoch 5/50\n",
      "604/604 [==============================] - 0s 185us/step - loss: 0.4440 - acc: 0.7699 - val_loss: 1.1646 - val_acc: 0.1126\n",
      "Epoch 6/50\n",
      "604/604 [==============================] - 0s 188us/step - loss: 0.4214 - acc: 0.7914 - val_loss: 1.1399 - val_acc: 0.2384\n",
      "Epoch 7/50\n",
      "604/604 [==============================] - 0s 178us/step - loss: 0.3937 - acc: 0.8146 - val_loss: 1.0031 - val_acc: 0.4371\n",
      "Epoch 8/50\n",
      "604/604 [==============================] - 0s 172us/step - loss: 0.3738 - acc: 0.8361 - val_loss: 0.9438 - val_acc: 0.5166\n",
      "Epoch 9/50\n",
      "604/604 [==============================] - 0s 185us/step - loss: 0.3549 - acc: 0.8444 - val_loss: 0.9548 - val_acc: 0.5430\n",
      "Epoch 10/50\n",
      "604/604 [==============================] - 0s 187us/step - loss: 0.3465 - acc: 0.8543 - val_loss: 0.9541 - val_acc: 0.5762\n",
      "Epoch 11/50\n",
      "604/604 [==============================] - 0s 178us/step - loss: 0.3319 - acc: 0.8742 - val_loss: 0.7913 - val_acc: 0.6689\n",
      "Epoch 12/50\n",
      "604/604 [==============================] - 0s 216us/step - loss: 0.3257 - acc: 0.8775 - val_loss: 0.7928 - val_acc: 0.6689\n",
      "Epoch 13/50\n",
      "604/604 [==============================] - 0s 201us/step - loss: 0.3171 - acc: 0.8808 - val_loss: 0.8064 - val_acc: 0.6623\n",
      "Epoch 14/50\n",
      "604/604 [==============================] - 0s 197us/step - loss: 0.3106 - acc: 0.8791 - val_loss: 0.8172 - val_acc: 0.6623\n",
      "Epoch 15/50\n",
      "604/604 [==============================] - 0s 175us/step - loss: 0.3058 - acc: 0.8791 - val_loss: 0.8770 - val_acc: 0.6490\n",
      "Epoch 16/50\n",
      "604/604 [==============================] - 0s 185us/step - loss: 0.2995 - acc: 0.8841 - val_loss: 0.7912 - val_acc: 0.6821\n",
      "Epoch 17/50\n",
      "604/604 [==============================] - 0s 180us/step - loss: 0.2943 - acc: 0.8841 - val_loss: 0.7949 - val_acc: 0.6821\n",
      "Epoch 18/50\n",
      "604/604 [==============================] - 0s 200us/step - loss: 0.2893 - acc: 0.8808 - val_loss: 0.7475 - val_acc: 0.6954\n",
      "Epoch 19/50\n",
      "604/604 [==============================] - 0s 172us/step - loss: 0.2868 - acc: 0.8791 - val_loss: 0.7897 - val_acc: 0.6755\n",
      "Epoch 20/50\n",
      "604/604 [==============================] - 0s 193us/step - loss: 0.2833 - acc: 0.8858 - val_loss: 0.8346 - val_acc: 0.6490\n",
      "Epoch 21/50\n",
      "604/604 [==============================] - 0s 196us/step - loss: 0.2767 - acc: 0.8891 - val_loss: 0.7680 - val_acc: 0.6755\n",
      "Epoch 22/50\n",
      "604/604 [==============================] - 0s 187us/step - loss: 0.2798 - acc: 0.8858 - val_loss: 0.6827 - val_acc: 0.7086\n",
      "Epoch 23/50\n",
      "604/604 [==============================] - 0s 190us/step - loss: 0.2715 - acc: 0.8858 - val_loss: 0.8180 - val_acc: 0.6556\n",
      "Epoch 24/50\n",
      "604/604 [==============================] - 0s 234us/step - loss: 0.2690 - acc: 0.8825 - val_loss: 0.8684 - val_acc: 0.6358\n",
      "Epoch 25/50\n",
      "604/604 [==============================] - 0s 244us/step - loss: 0.2653 - acc: 0.8874 - val_loss: 0.7042 - val_acc: 0.7086\n",
      "Epoch 26/50\n",
      "604/604 [==============================] - 0s 205us/step - loss: 0.2631 - acc: 0.8858 - val_loss: 0.7714 - val_acc: 0.6954\n",
      "Epoch 27/50\n",
      "604/604 [==============================] - 0s 196us/step - loss: 0.2569 - acc: 0.8924 - val_loss: 0.7876 - val_acc: 0.6887\n",
      "Epoch 28/50\n",
      "604/604 [==============================] - 0s 198us/step - loss: 0.2582 - acc: 0.8874 - val_loss: 0.7223 - val_acc: 0.7086\n",
      "Epoch 29/50\n",
      "604/604 [==============================] - 0s 200us/step - loss: 0.2532 - acc: 0.8907 - val_loss: 0.9099 - val_acc: 0.6291\n",
      "Epoch 30/50\n",
      "604/604 [==============================] - 0s 309us/step - loss: 0.2526 - acc: 0.8957 - val_loss: 0.8831 - val_acc: 0.6556\n",
      "Epoch 31/50\n",
      "604/604 [==============================] - 0s 205us/step - loss: 0.2488 - acc: 0.8974 - val_loss: 0.8765 - val_acc: 0.6424\n",
      "Epoch 32/50\n",
      "604/604 [==============================] - 0s 185us/step - loss: 0.2466 - acc: 0.8940 - val_loss: 0.8506 - val_acc: 0.6623\n",
      "Epoch 33/50\n",
      "604/604 [==============================] - 0s 201us/step - loss: 0.2420 - acc: 0.8974 - val_loss: 0.7642 - val_acc: 0.6887\n",
      "Epoch 34/50\n",
      "604/604 [==============================] - 0s 200us/step - loss: 0.2371 - acc: 0.9007 - val_loss: 0.8194 - val_acc: 0.6755\n",
      "Epoch 35/50\n",
      "604/604 [==============================] - 0s 205us/step - loss: 0.2358 - acc: 0.9007 - val_loss: 0.8020 - val_acc: 0.6887\n",
      "Epoch 36/50\n",
      "604/604 [==============================] - 0s 225us/step - loss: 0.2342 - acc: 0.9007 - val_loss: 0.7561 - val_acc: 0.7086\n",
      "Epoch 37/50\n",
      "604/604 [==============================] - 0s 258us/step - loss: 0.2334 - acc: 0.8974 - val_loss: 0.7931 - val_acc: 0.7086\n",
      "Epoch 38/50\n",
      "604/604 [==============================] - 0s 236us/step - loss: 0.2310 - acc: 0.8990 - val_loss: 0.8587 - val_acc: 0.6887\n",
      "Epoch 39/50\n",
      "604/604 [==============================] - 0s 277us/step - loss: 0.2278 - acc: 0.9073 - val_loss: 0.7933 - val_acc: 0.6887\n",
      "Epoch 40/50\n",
      "604/604 [==============================] - 0s 256us/step - loss: 0.2267 - acc: 0.9123 - val_loss: 0.8639 - val_acc: 0.6821\n",
      "Epoch 41/50\n",
      "604/604 [==============================] - 0s 294us/step - loss: 0.2257 - acc: 0.9106 - val_loss: 0.8207 - val_acc: 0.6887\n",
      "Epoch 42/50\n",
      "604/604 [==============================] - 0s 294us/step - loss: 0.2218 - acc: 0.9139 - val_loss: 0.8777 - val_acc: 0.6887\n",
      "Epoch 43/50\n",
      "604/604 [==============================] - 0s 231us/step - loss: 0.2176 - acc: 0.9139 - val_loss: 0.8414 - val_acc: 0.7020\n",
      "Epoch 44/50\n",
      "604/604 [==============================] - 0s 297us/step - loss: 0.2152 - acc: 0.9139 - val_loss: 0.7971 - val_acc: 0.7020\n",
      "Epoch 45/50\n",
      "604/604 [==============================] - 0s 301us/step - loss: 0.2137 - acc: 0.9139 - val_loss: 0.8635 - val_acc: 0.6887\n",
      "Epoch 46/50\n",
      "604/604 [==============================] - 0s 263us/step - loss: 0.2115 - acc: 0.9123 - val_loss: 0.8514 - val_acc: 0.6887\n",
      "Epoch 47/50\n",
      "604/604 [==============================] - 0s 254us/step - loss: 0.2101 - acc: 0.9089 - val_loss: 0.8333 - val_acc: 0.6954\n",
      "Epoch 48/50\n",
      "604/604 [==============================] - ETA: 0s - loss: 0.2062 - acc: 0.910 - 0s 267us/step - loss: 0.2076 - acc: 0.9089 - val_loss: 0.8234 - val_acc: 0.7020\n",
      "Epoch 49/50\n",
      "604/604 [==============================] - 0s 281us/step - loss: 0.2080 - acc: 0.9089 - val_loss: 0.7635 - val_acc: 0.7152\n",
      "Epoch 50/50\n",
      "604/604 [==============================] - 0s 271us/step - loss: 0.2052 - acc: 0.9089 - val_loss: 0.9126 - val_acc: 0.6954\n"
     ]
    }
   ],
   "source": [
    "\n",
    "# 3. 모델 학습시키기\n",
    "hist = model.fit(X_train, Y_train, batch_size = batch_size, epochs = batch_size, verbose = 1, validation_split = .2)\n",
    "\n"
   ]
  },
  {
   "cell_type": "code",
   "execution_count": 52,
   "metadata": {
    "scrolled": true
   },
   "outputs": [
    {
     "data": {
      "image/png": "[encoded data removed]",
      "text/plain": [
       "<Figure size 432x288 with 2 Axes>"
      ]
     },
     "metadata": {},
     "output_type": "display_data"
    },
    {
     "name": "stdout",
     "output_type": "stream",
     "text": [
      "755/755 [==============================] - 0s 95us/step\n",
      "Train score: 0.3442\n",
      "Train accuracy: 0.8702\n",
      "333/333 [==============================] - 0s 129us/step\n",
      "Test score: 0.5640\n",
      "Test accuracy: 0.7838\n"
     ]
    }
   ],
   "source": [
    "\n",
    "# 4. 학습과정 살펴보기(그래프)\n",
    "fig, loss_ax = plt.subplots()\n",
    "acc_ax = loss_ax.twinx()\n",
    "\n",
    "loss_ax.plot(hist.history['loss'], 'y', label='train loss')\n",
    "loss_ax.plot(hist.history['val_loss'], 'r', label='val loss')\n",
    "\n",
    "acc_ax.plot(hist.history['acc'], 'b', label='train acc')\n",
    "acc_ax.plot(hist.history['val_acc'], 'g', label='val acc')\n",
    "\n",
    "loss_ax.set_xlabel('epoch')\n",
    "loss_ax.set_ylabel('loss')\n",
    "acc_ax.set_ylabel('accuray')\n",
    "\n",
    "loss_ax.legend(loc='upper left')\n",
    "acc_ax.legend(loc='lower left')\n",
    "\n",
    "plt.show()\n",
    "\n",
    "\n",
    "# 5. 모델 평가하기 - 테스트셋\n",
    "'''\n",
    "score는 비용함수에 대한 평가값\n",
    "'''\n",
    "\n",
    "score = model.evaluate(X_train, Y_train, verbose=1)\n",
    "print('Train score: {:.4f}'.format(score[0]))\n",
    "print('Train accuracy: {:.4f}'.format(score[1]))\n",
    "\n",
    "\n",
    "score = model.evaluate(X_test, Y_test, verbose=1)\n",
    "print('Test score: {:.4f}'.format(score[0]))\n",
    "print('Test accuracy: {:.4f}'.format(score[1]))\n",
    "\n",
    "# model.evaluate ; 손실 값을 계산하는 데 사용\n",
    "# model.predict_classes() ; 범주 출력을 계산하는 데 사용\n",
    "# model.predict_proba() ; 범주 확률을 계산하는 데 사용\n"
   ]
  },
  {
   "cell_type": "code",
   "execution_count": 53,
   "metadata": {},
   "outputs": [
    {
     "data": {
      "image/png": "[encoded data removed]",
      "text/plain": [
       "<Figure size 432x288 with 1 Axes>"
      ]
     },
     "metadata": {},
     "output_type": "display_data"
    },
    {
     "data": {
      "image/png": "[encoded data removed]",
      "text/plain": [
       "<Figure size 432x288 with 1 Axes>"
      ]
     },
     "metadata": {},
     "output_type": "display_data"
    }
   ],
   "source": [
    "\n",
    "# 5. 분리된 그래프\n",
    "\n",
    "# loss\n",
    "fig, loss_ax = plt.subplots()\n",
    "\n",
    "loss_ax.plot(hist.history['loss'], 'y', label='train loss')\n",
    "loss_ax.plot(hist.history['val_loss'], 'r', label='val loss')\n",
    "\n",
    "loss_ax.set_xlabel('epoch')\n",
    "loss_ax.set_ylabel('loss')\n",
    "\n",
    "loss_ax.legend(loc='upper left')\n",
    "\n",
    "plt.show()\n",
    "\n",
    "# accuray\n",
    "fig, acc_ax = plt.subplots()\n",
    "\n",
    "acc_ax.plot(hist.history['acc'], 'b', label='train acc')\n",
    "acc_ax.plot(hist.history['val_acc'], 'g', label='val acc')\n",
    "\n",
    "loss_ax.set_xlabel('epoch')\n",
    "acc_ax.set_ylabel('accuray')\n",
    "\n",
    "acc_ax.legend(loc='upper left')\n",
    "\n",
    "plt.show()\n"
   ]
  },
  {
   "cell_type": "code",
   "execution_count": null,
   "metadata": {},
   "outputs": [],
   "source": []
  },
  {
   "cell_type": "code",
   "execution_count": null,
   "metadata": {},
   "outputs": [],
   "source": []
  },
  {
   "cell_type": "code",
   "execution_count": null,
   "metadata": {},
   "outputs": [],
   "source": []
  }
 ],
 "metadata": {
  "kernelspec": {
   "display_name": "Python 3",
   "language": "python",
   "name": "python3"
  },
  "language_info": {
   "codemirror_mode": {
    "name": "ipython",
    "version": 3
   },
   "file_extension": ".py",
   "mimetype": "text/x-python",
   "name": "python",
   "nbconvert_exporter": "python",
   "pygments_lexer": "ipython3",
   "version": "3.6.5"
  }
 },
 "nbformat": 4,
 "nbformat_minor": 2
}
