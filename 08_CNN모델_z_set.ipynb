{
 "cells": [
  {
   "cell_type": "markdown",
   "metadata": {},
   "source": [
    "## CNN"
   ]
  },
  {
   "cell_type": "markdown",
   "metadata": {},
   "source": [
    "VAE를 통해 차원을 축소한 데이터 사용"
   ]
  },
  {
   "cell_type": "code",
   "execution_count": null,
   "metadata": {},
   "outputs": [],
   "source": []
  },
  {
   "cell_type": "code",
   "execution_count": null,
   "metadata": {},
   "outputs": [],
   "source": []
  },
  {
   "cell_type": "code",
   "execution_count": 162,
   "metadata": {},
   "outputs": [],
   "source": [
    "import pandas as pd\n",
    "import numpy as np\n",
    "from keras.datasets import mnist\n",
    "from keras.utils import np_utils\n",
    "from keras.models import Sequential\n",
    "from keras.layers import Dense, Activation, Conv2D, MaxPooling2D, Flatten, Dropout, BatchNormalization, initializers\n",
    "from keras.optimizers import RMSprop, Adadelta, Adam, SGD, Adagrad\n",
    "from keras.utils import to_categorical\n",
    "import matplotlib.pyplot as plt\n",
    "%matplotlib inline\n",
    "import pickle # 파이썬 객체저장을 위한 모듈"
   ]
  },
  {
   "cell_type": "markdown",
   "metadata": {},
   "source": [
    "## 사전값 셋팅 확인 필수"
   ]
  },
  {
   "cell_type": "code",
   "execution_count": 250,
   "metadata": {},
   "outputs": [],
   "source": [
    "df = 'core'   # 수정필수\n",
    "# core/all/main\n",
    "\n",
    "\n",
    "\n",
    "\n",
    "# core설정시 확인해야 함\n",
    "# R을 통해 확인한 stepwise 유의 변수 리스트\n",
    "core_factors = ['DR00000136','6000201001O0','6000903016D1','FNMKFN02','6000901002D1','S41000210FD1',\n",
    "'6000207003O0','DR00000052','6000906001D6','DR00000156','6000901001D3','DR00000082',\n",
    "'S41000210FD2','6000902001D2','6000908001D3','6000904001D3','6000908001D2','S41B0D1009O0',\n",
    "'6000901002D3','6000903001D2','6000403001O0','CO10100170O0','DR00000113','6000908001D7']\n",
    "\n",
    "#  키별로 비율 배분이 잘 됐는지 확인\n",
    "if df == 'all':\n",
    "    max_idx = 707\n",
    "else:\n",
    "    max_idx = 124\n",
    "    "
   ]
  },
  {
   "cell_type": "code",
   "execution_count": 251,
   "metadata": {},
   "outputs": [],
   "source": [
    "if df == 'all':\n",
    "    file_nm = \"./pickles/vae_all.p\"\n",
    "elif df == 'main':\n",
    "    file_nm = \"./pickles/vae_main.p\"\n",
    "elif df == 'core':\n",
    "    file_nm = \"./pickles/vae_core.p\"\n",
    "\n",
    "#파이썬 객체 읽어오기\n",
    "with open(file_nm, 'rb') as file:  \n",
    "    z_train = pickle.load(file)\n",
    "    z_test = pickle.load(file)\n",
    "    y_train = pickle.load(file)\n",
    "    y_test = pickle.load(file)\n",
    "    train_set = pickle.load(file)\n",
    "    test_set = pickle.load(file)   \n",
    "    "
   ]
  },
  {
   "cell_type": "code",
   "execution_count": 252,
   "metadata": {},
   "outputs": [
    {
     "data": {
      "text/plain": [
       "('core', (755, 10), (333, 10), (755,), (333,))"
      ]
     },
     "execution_count": 252,
     "metadata": {},
     "output_type": "execute_result"
    }
   ],
   "source": [
    "df, z_train.shape, z_test.shape, y_train.shape, y_test.shape"
   ]
  },
  {
   "cell_type": "markdown",
   "metadata": {},
   "source": [
    "### 모델 입력값 설정"
   ]
  },
  {
   "cell_type": "code",
   "execution_count": 253,
   "metadata": {},
   "outputs": [],
   "source": [
    "np.random.seed(42)\n",
    "\n",
    "# 분류갯수\n",
    "classes = 2\n",
    "\n",
    "# 학습데이터\n",
    "img_rows = 1\n",
    "img_cols = z_train.shape[1] \n",
    "\n"
   ]
  },
  {
   "cell_type": "code",
   "execution_count": 254,
   "metadata": {},
   "outputs": [
    {
     "data": {
      "text/plain": [
       "(1, 10)"
      ]
     },
     "execution_count": 254,
     "metadata": {},
     "output_type": "execute_result"
    }
   ],
   "source": [
    "img_rows, img_cols"
   ]
  },
  {
   "cell_type": "code",
   "execution_count": null,
   "metadata": {},
   "outputs": [],
   "source": []
  },
  {
   "cell_type": "markdown",
   "metadata": {},
   "source": [
    "### input shape 변경"
   ]
  },
  {
   "cell_type": "code",
   "execution_count": 255,
   "metadata": {},
   "outputs": [
    {
     "name": "stdout",
     "output_type": "stream",
     "text": [
      "(1, 10, 1)\n"
     ]
    }
   ],
   "source": [
    "# X_train = X_train.reshape(X_train.shape[0], img_rows, img_cols, 1)\n",
    "# X_test = X_test.reshape(X_test.shape[0], img_rows, img_cols, 1)\n",
    "X_train = z_train.reshape(z_train.shape[0], 1, z_train.shape[1], 1) # (1, # of features, # of chnnels) # input.shape[1:끝]\n",
    "X_test = z_test.reshape(z_test.shape[0], 1, z_test.shape[1], 1) # (1, # of features, # of chnnels) # input.shape[1:끝]\n",
    "\n",
    "# 변수명 전환\n",
    "Y_train = y_train\n",
    "Y_test = y_test\n",
    "\n",
    "input_shape= X_train.shape[1:4]\n",
    "print(input_shape)"
   ]
  },
  {
   "cell_type": "code",
   "execution_count": 256,
   "metadata": {},
   "outputs": [
    {
     "data": {
      "text/plain": [
       "10"
      ]
     },
     "execution_count": 256,
     "metadata": {},
     "output_type": "execute_result"
    }
   ],
   "source": [
    "z_train.shape[1]"
   ]
  },
  {
   "cell_type": "code",
   "execution_count": 257,
   "metadata": {},
   "outputs": [],
   "source": [
    "if z_train.shape[1] >= 100:\n",
    "    filter_size = 32    \n",
    "    MaxPool_size  = 4\n",
    "elif z_train.shape[1] >= 50:\n",
    "    filter_size = 8    \n",
    "    MaxPool_size = 4\n",
    "else:\n",
    "    filter_size = input_shape[1]/2    \n",
    "    MaxPool_size = 2 \n"
   ]
  },
  {
   "cell_type": "code",
   "execution_count": 258,
   "metadata": {},
   "outputs": [
    {
     "data": {
      "text/plain": [
       "((755, 2), (333, 2))"
      ]
     },
     "execution_count": 258,
     "metadata": {},
     "output_type": "execute_result"
    }
   ],
   "source": [
    "# Y값을 1개항목에서 카테고리화 함\n",
    "Y_train = to_categorical(y_train, num_classes=classes) # one-hot 인코딩\n",
    "Y_test = to_categorical(y_test, num_classes=classes) # one-hot 인코딩\n",
    "\n",
    "Y_train.shape, Y_test.shape"
   ]
  },
  {
   "cell_type": "markdown",
   "metadata": {},
   "source": [
    "## CNN 모델 설계"
   ]
  },
  {
   "cell_type": "code",
   "execution_count": 259,
   "metadata": {},
   "outputs": [
    {
     "data": {
      "text/plain": [
       "((755, 1, 10, 1), (333, 1, 10, 1), (755, 2), (333, 2))"
      ]
     },
     "execution_count": 259,
     "metadata": {},
     "output_type": "execute_result"
    }
   ],
   "source": [
    "X_train.shape, X_test.shape, Y_train.shape, Y_test.shape"
   ]
  },
  {
   "cell_type": "code",
   "execution_count": 260,
   "metadata": {},
   "outputs": [],
   "source": [
    "filter_size = 4\n"
   ]
  },
  {
   "cell_type": "code",
   "execution_count": 261,
   "metadata": {},
   "outputs": [
    {
     "name": "stdout",
     "output_type": "stream",
     "text": [
      "Train on 604 samples, validate on 151 samples\n",
      "Epoch 1/100\n",
      "604/604 [==============================] - 7s 11ms/step - loss: 0.6695 - acc: 0.7301 - val_loss: 0.7443 - val_acc: 0.0000e+00\n",
      "Epoch 2/100\n",
      "604/604 [==============================] - 0s 83us/step - loss: 0.6665 - acc: 0.7500 - val_loss: 0.7506 - val_acc: 0.0000e+00\n",
      "Epoch 3/100\n",
      "604/604 [==============================] - 0s 68us/step - loss: 0.6593 - acc: 0.7434 - val_loss: 0.7573 - val_acc: 0.0000e+00\n",
      "Epoch 4/100\n",
      "604/604 [==============================] - 0s 79us/step - loss: 0.6554 - acc: 0.7599 - val_loss: 0.7645 - val_acc: 0.0000e+00\n",
      "Epoch 5/100\n",
      "604/604 [==============================] - 0s 78us/step - loss: 0.6560 - acc: 0.7450 - val_loss: 0.7720 - val_acc: 0.0000e+00\n",
      "Epoch 6/100\n",
      "604/604 [==============================] - 0s 61us/step - loss: 0.6610 - acc: 0.7434 - val_loss: 0.7792 - val_acc: 0.0000e+00\n",
      "Epoch 7/100\n",
      "604/604 [==============================] - 0s 91us/step - loss: 0.6523 - acc: 0.7500 - val_loss: 0.7867 - val_acc: 0.0000e+00\n",
      "Epoch 8/100\n",
      "604/604 [==============================] - 0s 83us/step - loss: 0.6431 - acc: 0.7517 - val_loss: 0.7947 - val_acc: 0.0000e+00\n",
      "Epoch 9/100\n",
      "604/604 [==============================] - 0s 61us/step - loss: 0.6450 - acc: 0.7517 - val_loss: 0.8030 - val_acc: 0.0000e+00\n",
      "Epoch 10/100\n",
      "604/604 [==============================] - 0s 86us/step - loss: 0.6393 - acc: 0.7500 - val_loss: 0.8117 - val_acc: 0.0000e+00\n",
      "Epoch 11/100\n",
      "604/604 [==============================] - 0s 54us/step - loss: 0.6346 - acc: 0.7500 - val_loss: 0.8205 - val_acc: 0.0000e+00\n",
      "Epoch 12/100\n",
      "604/604 [==============================] - 0s 64us/step - loss: 0.6277 - acc: 0.7500 - val_loss: 0.8300 - val_acc: 0.0000e+00\n",
      "Epoch 13/100\n",
      "604/604 [==============================] - 0s 89us/step - loss: 0.6238 - acc: 0.7500 - val_loss: 0.8405 - val_acc: 0.0000e+00\n",
      "Epoch 14/100\n",
      "604/604 [==============================] - 0s 64us/step - loss: 0.6252 - acc: 0.7500 - val_loss: 0.8512 - val_acc: 0.0000e+00\n",
      "Epoch 15/100\n",
      "604/604 [==============================] - 0s 78us/step - loss: 0.6193 - acc: 0.7500 - val_loss: 0.8624 - val_acc: 0.0000e+00\n",
      "Epoch 16/100\n",
      "604/604 [==============================] - 0s 66us/step - loss: 0.6149 - acc: 0.7500 - val_loss: 0.8736 - val_acc: 0.0000e+00\n",
      "Epoch 17/100\n",
      "604/604 [==============================] - 0s 76us/step - loss: 0.6160 - acc: 0.7500 - val_loss: 0.8850 - val_acc: 0.0000e+00\n",
      "Epoch 18/100\n",
      "604/604 [==============================] - 0s 79us/step - loss: 0.6049 - acc: 0.7500 - val_loss: 0.8967 - val_acc: 0.0000e+00\n",
      "Epoch 19/100\n",
      "604/604 [==============================] - 0s 58us/step - loss: 0.6014 - acc: 0.7500 - val_loss: 0.9090 - val_acc: 0.0000e+00\n",
      "Epoch 20/100\n",
      "604/604 [==============================] - 0s 111us/step - loss: 0.5942 - acc: 0.7500 - val_loss: 0.9223 - val_acc: 0.0000e+00\n",
      "Epoch 21/100\n",
      "604/604 [==============================] - 0s 76us/step - loss: 0.5900 - acc: 0.7500 - val_loss: 0.9352 - val_acc: 0.0000e+00\n",
      "Epoch 22/100\n",
      "604/604 [==============================] - 0s 66us/step - loss: 0.5939 - acc: 0.7500 - val_loss: 0.9474 - val_acc: 0.0000e+00\n",
      "Epoch 23/100\n",
      "604/604 [==============================] - 0s 149us/step - loss: 0.5831 - acc: 0.7500 - val_loss: 0.9593 - val_acc: 0.0000e+00\n",
      "Epoch 24/100\n",
      "604/604 [==============================] - 0s 68us/step - loss: 0.5782 - acc: 0.7500 - val_loss: 0.9708 - val_acc: 0.0000e+00\n",
      "Epoch 25/100\n",
      "604/604 [==============================] - 0s 160us/step - loss: 0.5771 - acc: 0.7500 - val_loss: 0.9809 - val_acc: 0.0000e+00\n",
      "Epoch 26/100\n",
      "604/604 [==============================] - 0s 76us/step - loss: 0.5754 - acc: 0.7500 - val_loss: 0.9886 - val_acc: 0.0000e+00\n",
      "Epoch 27/100\n",
      "604/604 [==============================] - 0s 124us/step - loss: 0.5744 - acc: 0.7500 - val_loss: 0.9935 - val_acc: 0.0000e+00\n",
      "Epoch 28/100\n",
      "604/604 [==============================] - 0s 69us/step - loss: 0.5739 - acc: 0.7500 - val_loss: 0.9964 - val_acc: 0.0000e+00\n",
      "Epoch 29/100\n",
      "604/604 [==============================] - 0s 63us/step - loss: 0.5713 - acc: 0.7500 - val_loss: 0.9979 - val_acc: 0.0000e+00\n",
      "Epoch 30/100\n",
      "604/604 [==============================] - 0s 116us/step - loss: 0.5604 - acc: 0.7500 - val_loss: 0.9989 - val_acc: 0.0000e+00\n",
      "Epoch 31/100\n",
      "604/604 [==============================] - 0s 54us/step - loss: 0.5534 - acc: 0.7500 - val_loss: 0.9996 - val_acc: 0.0000e+00\n",
      "Epoch 32/100\n",
      "604/604 [==============================] - 0s 94us/step - loss: 0.5554 - acc: 0.7500 - val_loss: 1.0019 - val_acc: 0.0000e+00\n",
      "Epoch 33/100\n",
      "604/604 [==============================] - 0s 73us/step - loss: 0.5543 - acc: 0.7500 - val_loss: 1.0041 - val_acc: 0.0000e+00\n",
      "Epoch 34/100\n",
      "604/604 [==============================] - 0s 53us/step - loss: 0.5459 - acc: 0.7500 - val_loss: 1.0055 - val_acc: 0.0000e+00\n",
      "Epoch 35/100\n",
      "604/604 [==============================] - 0s 63us/step - loss: 0.5500 - acc: 0.7500 - val_loss: 1.0080 - val_acc: 0.0000e+00\n",
      "Epoch 36/100\n",
      "604/604 [==============================] - 0s 185us/step - loss: 0.5475 - acc: 0.7500 - val_loss: 1.0117 - val_acc: 0.0000e+00\n",
      "Epoch 37/100\n",
      "604/604 [==============================] - 0s 59us/step - loss: 0.5481 - acc: 0.7500 - val_loss: 1.0144 - val_acc: 0.0000e+00\n",
      "Epoch 38/100\n",
      "604/604 [==============================] - 0s 53us/step - loss: 0.5445 - acc: 0.7500 - val_loss: 1.0138 - val_acc: 0.0000e+00\n",
      "Epoch 39/100\n",
      "604/604 [==============================] - 0s 74us/step - loss: 0.5427 - acc: 0.7500 - val_loss: 1.0133 - val_acc: 0.0000e+00\n",
      "Epoch 40/100\n",
      "604/604 [==============================] - 0s 54us/step - loss: 0.5397 - acc: 0.7500 - val_loss: 1.0140 - val_acc: 0.0000e+00\n",
      "Epoch 41/100\n",
      "604/604 [==============================] - 0s 71us/step - loss: 0.5376 - acc: 0.7500 - val_loss: 1.0136 - val_acc: 0.0000e+00\n",
      "Epoch 42/100\n",
      "604/604 [==============================] - 0s 66us/step - loss: 0.5316 - acc: 0.7500 - val_loss: 1.0128 - val_acc: 0.0000e+00\n",
      "Epoch 43/100\n",
      "604/604 [==============================] - 0s 58us/step - loss: 0.5374 - acc: 0.7500 - val_loss: 1.0134 - val_acc: 0.0000e+00\n",
      "Epoch 44/100\n",
      "604/604 [==============================] - 0s 97us/step - loss: 0.5343 - acc: 0.7500 - val_loss: 1.0115 - val_acc: 0.0000e+00\n",
      "Epoch 45/100\n",
      "604/604 [==============================] - 0s 66us/step - loss: 0.5313 - acc: 0.7500 - val_loss: 1.0075 - val_acc: 0.0000e+00\n",
      "Epoch 46/100\n",
      "604/604 [==============================] - 0s 61us/step - loss: 0.5257 - acc: 0.7500 - val_loss: 1.0059 - val_acc: 0.0000e+00\n",
      "Epoch 47/100\n",
      "604/604 [==============================] - 0s 74us/step - loss: 0.5116 - acc: 0.7500 - val_loss: 1.0069 - val_acc: 0.0000e+00\n",
      "Epoch 48/100\n",
      "604/604 [==============================] - 0s 56us/step - loss: 0.5238 - acc: 0.7500 - val_loss: 1.0098 - val_acc: 0.0000e+00\n",
      "Epoch 49/100\n",
      "604/604 [==============================] - 0s 76us/step - loss: 0.5195 - acc: 0.7500 - val_loss: 1.0158 - val_acc: 0.0000e+00\n",
      "Epoch 50/100\n",
      "604/604 [==============================] - 0s 109us/step - loss: 0.5234 - acc: 0.7500 - val_loss: 1.0206 - val_acc: 0.0000e+00\n",
      "Epoch 51/100\n",
      "604/604 [==============================] - 0s 76us/step - loss: 0.5287 - acc: 0.7500 - val_loss: 1.0217 - val_acc: 0.0000e+00\n",
      "Epoch 52/100\n",
      "604/604 [==============================] - 0s 76us/step - loss: 0.5204 - acc: 0.7500 - val_loss: 1.0174 - val_acc: 0.0000e+00\n",
      "Epoch 53/100\n",
      "604/604 [==============================] - 0s 71us/step - loss: 0.5191 - acc: 0.7500 - val_loss: 1.0134 - val_acc: 0.0000e+00\n",
      "Epoch 54/100\n",
      "604/604 [==============================] - 0s 53us/step - loss: 0.5059 - acc: 0.7500 - val_loss: 1.0119 - val_acc: 0.0000e+00\n",
      "Epoch 55/100\n",
      "604/604 [==============================] - 0s 94us/step - loss: 0.5080 - acc: 0.7500 - val_loss: 1.0118 - val_acc: 0.0000e+00\n",
      "Epoch 56/100\n",
      "604/604 [==============================] - 0s 63us/step - loss: 0.5083 - acc: 0.7500 - val_loss: 1.0136 - val_acc: 0.0000e+00\n",
      "Epoch 57/100\n",
      "604/604 [==============================] - 0s 83us/step - loss: 0.5113 - acc: 0.7500 - val_loss: 1.0146 - val_acc: 0.0000e+00\n",
      "Epoch 58/100\n",
      "604/604 [==============================] - 0s 68us/step - loss: 0.5100 - acc: 0.7500 - val_loss: 1.0143 - val_acc: 0.0000e+00\n",
      "Epoch 59/100\n"
     ]
    },
    {
     "name": "stdout",
     "output_type": "stream",
     "text": [
      "604/604 [==============================] - 0s 63us/step - loss: 0.5089 - acc: 0.7500 - val_loss: 1.0107 - val_acc: 0.0000e+00\n",
      "Epoch 60/100\n",
      "604/604 [==============================] - 0s 107us/step - loss: 0.5048 - acc: 0.7500 - val_loss: 1.0036 - val_acc: 0.0000e+00\n",
      "Epoch 61/100\n",
      "604/604 [==============================] - 0s 79us/step - loss: 0.4964 - acc: 0.7500 - val_loss: 0.9976 - val_acc: 0.0000e+00\n",
      "Epoch 62/100\n",
      "604/604 [==============================] - 0s 92us/step - loss: 0.4976 - acc: 0.7500 - val_loss: 0.9925 - val_acc: 0.0000e+00\n",
      "Epoch 63/100\n",
      "604/604 [==============================] - 0s 92us/step - loss: 0.4953 - acc: 0.7500 - val_loss: 0.9889 - val_acc: 0.0000e+00\n",
      "Epoch 64/100\n",
      "604/604 [==============================] - 0s 69us/step - loss: 0.4987 - acc: 0.7500 - val_loss: 0.9846 - val_acc: 0.0000e+00\n",
      "Epoch 65/100\n",
      "604/604 [==============================] - 0s 112us/step - loss: 0.5006 - acc: 0.7500 - val_loss: 0.9776 - val_acc: 0.0000e+00\n",
      "Epoch 66/100\n",
      "604/604 [==============================] - 0s 97us/step - loss: 0.4978 - acc: 0.7500 - val_loss: 0.9723 - val_acc: 0.0000e+00\n",
      "Epoch 67/100\n",
      "604/604 [==============================] - 0s 66us/step - loss: 0.4837 - acc: 0.7500 - val_loss: 0.9692 - val_acc: 0.0000e+00\n",
      "Epoch 68/100\n",
      "604/604 [==============================] - 0s 114us/step - loss: 0.4974 - acc: 0.7500 - val_loss: 0.9683 - val_acc: 0.0000e+00\n",
      "Epoch 69/100\n",
      "604/604 [==============================] - 0s 78us/step - loss: 0.4865 - acc: 0.7500 - val_loss: 0.9676 - val_acc: 0.0000e+00\n",
      "Epoch 70/100\n",
      "604/604 [==============================] - 0s 74us/step - loss: 0.4963 - acc: 0.7483 - val_loss: 0.9653 - val_acc: 0.0000e+00\n",
      "Epoch 71/100\n",
      "604/604 [==============================] - 0s 58us/step - loss: 0.4914 - acc: 0.7517 - val_loss: 0.9648 - val_acc: 0.0000e+00\n",
      "Epoch 72/100\n",
      "604/604 [==============================] - 0s 88us/step - loss: 0.4917 - acc: 0.7500 - val_loss: 0.9652 - val_acc: 0.0000e+00\n",
      "Epoch 73/100\n",
      "604/604 [==============================] - 0s 73us/step - loss: 0.4777 - acc: 0.7500 - val_loss: 0.9669 - val_acc: 0.0000e+00\n",
      "Epoch 74/100\n",
      "604/604 [==============================] - 0s 71us/step - loss: 0.4871 - acc: 0.7500 - val_loss: 0.9700 - val_acc: 0.0000e+00\n",
      "Epoch 75/100\n",
      "604/604 [==============================] - 0s 117us/step - loss: 0.4712 - acc: 0.7500 - val_loss: 0.9741 - val_acc: 0.0000e+00\n",
      "Epoch 76/100\n",
      "604/604 [==============================] - 0s 61us/step - loss: 0.4825 - acc: 0.7517 - val_loss: 0.9787 - val_acc: 0.0000e+00\n",
      "Epoch 77/100\n",
      "604/604 [==============================] - 0s 124us/step - loss: 0.4718 - acc: 0.7517 - val_loss: 0.9843 - val_acc: 0.0000e+00\n",
      "Epoch 78/100\n",
      "604/604 [==============================] - 0s 66us/step - loss: 0.4865 - acc: 0.7500 - val_loss: 0.9875 - val_acc: 0.0000e+00\n",
      "Epoch 79/100\n",
      "604/604 [==============================] - 0s 154us/step - loss: 0.4687 - acc: 0.7500 - val_loss: 0.9897 - val_acc: 0.0066\n",
      "Epoch 80/100\n",
      "604/604 [==============================] - 0s 54us/step - loss: 0.4748 - acc: 0.7550 - val_loss: 0.9906 - val_acc: 0.0066\n",
      "Epoch 81/100\n",
      "604/604 [==============================] - 0s 66us/step - loss: 0.4808 - acc: 0.7533 - val_loss: 0.9912 - val_acc: 0.0066\n",
      "Epoch 82/100\n",
      "604/604 [==============================] - 0s 109us/step - loss: 0.4677 - acc: 0.7533 - val_loss: 0.9902 - val_acc: 0.0066\n",
      "Epoch 83/100\n",
      "604/604 [==============================] - 0s 64us/step - loss: 0.4610 - acc: 0.7533 - val_loss: 0.9876 - val_acc: 0.0066\n",
      "Epoch 84/100\n",
      "604/604 [==============================] - 0s 76us/step - loss: 0.4768 - acc: 0.7517 - val_loss: 0.9831 - val_acc: 0.0066\n",
      "Epoch 85/100\n",
      "604/604 [==============================] - 0s 54us/step - loss: 0.4734 - acc: 0.7533 - val_loss: 0.9792 - val_acc: 0.0199\n",
      "Epoch 86/100\n",
      "604/604 [==============================] - 0s 81us/step - loss: 0.4677 - acc: 0.7550 - val_loss: 0.9757 - val_acc: 0.0199\n",
      "Epoch 87/100\n",
      "604/604 [==============================] - 0s 89us/step - loss: 0.4672 - acc: 0.7517 - val_loss: 0.9743 - val_acc: 0.0199\n",
      "Epoch 88/100\n",
      "604/604 [==============================] - ETA: 0s - loss: 0.4705 - acc: 0.772 - 0s 63us/step - loss: 0.4727 - acc: 0.7599 - val_loss: 0.9739 - val_acc: 0.0265\n",
      "Epoch 89/100\n",
      "604/604 [==============================] - 0s 68us/step - loss: 0.4759 - acc: 0.7483 - val_loss: 0.9706 - val_acc: 0.0265\n",
      "Epoch 90/100\n",
      "604/604 [==============================] - 0s 78us/step - loss: 0.4573 - acc: 0.7583 - val_loss: 0.9667 - val_acc: 0.0397\n",
      "Epoch 91/100\n",
      "604/604 [==============================] - 0s 89us/step - loss: 0.4674 - acc: 0.7533 - val_loss: 0.9650 - val_acc: 0.0464\n",
      "Epoch 92/100\n",
      "604/604 [==============================] - 0s 68us/step - loss: 0.4704 - acc: 0.7599 - val_loss: 0.9639 - val_acc: 0.0530\n",
      "Epoch 93/100\n",
      "604/604 [==============================] - 0s 81us/step - loss: 0.4626 - acc: 0.7550 - val_loss: 0.9640 - val_acc: 0.0530\n",
      "Epoch 94/100\n",
      "604/604 [==============================] - 0s 122us/step - loss: 0.4636 - acc: 0.7533 - val_loss: 0.9650 - val_acc: 0.0530\n",
      "Epoch 95/100\n",
      "604/604 [==============================] - 0s 81us/step - loss: 0.4678 - acc: 0.7616 - val_loss: 0.9659 - val_acc: 0.0530\n",
      "Epoch 96/100\n",
      "604/604 [==============================] - 0s 58us/step - loss: 0.4606 - acc: 0.7599 - val_loss: 0.9665 - val_acc: 0.0530\n",
      "Epoch 97/100\n",
      "604/604 [==============================] - 0s 58us/step - loss: 0.4598 - acc: 0.7599 - val_loss: 0.9689 - val_acc: 0.0596\n",
      "Epoch 98/100\n",
      "604/604 [==============================] - 0s 63us/step - loss: 0.4387 - acc: 0.7699 - val_loss: 0.9696 - val_acc: 0.0662\n",
      "Epoch 99/100\n",
      "604/604 [==============================] - 0s 58us/step - loss: 0.4651 - acc: 0.7583 - val_loss: 0.9670 - val_acc: 0.0728\n",
      "Epoch 100/100\n",
      "604/604 [==============================] - 0s 89us/step - loss: 0.4571 - acc: 0.7583 - val_loss: 0.9637 - val_acc: 0.0927\n"
     ]
    }
   ],
   "source": [
    "\n",
    "\n",
    "# 1. 모델구성\n",
    "model = Sequential()\n",
    "\n",
    "model.add(Conv2D(filter_size, (1, 2), input_shape = X_train.shape[1:4], activation = 'elu', padding='same')) # 2D (1, 4) size 필터\n",
    "model.add(Activation('relu'))\n",
    "\n",
    "model.add(Conv2D(filter_size, (1, 2), padding='same'))\n",
    "model.add(Activation('relu'))\n",
    "model.add(MaxPooling2D((1, 2)))\n",
    "model.add(Dropout(0.25))\n",
    "\n",
    "model.add(Conv2D(filter_size, (1, 2), padding='same'))\n",
    "model.add(Activation('relu'))\n",
    "\n",
    "model.add(Conv2D(filter_size, (1, 2)))\n",
    "model.add(Activation('relu'))\n",
    "model.add(MaxPooling2D((1, 2)))\n",
    "model.add(Dropout(0.25))\n",
    "\n",
    "model.add(Flatten())\n",
    "model.add(Dense(classes, activation = 'softmax'))# 마지막 class 분류\n",
    "\n",
    "# 2. 모델 학습과정 설정하기\n",
    "model.compile(loss = 'categorical_crossentropy', optimizer = 'adam', metrics = ['accuracy'])\n",
    "\n",
    "\n",
    "# 3. 모델 학습시키기\n",
    "hist = model.fit(X_train, Y_train, batch_size = 500, epochs = 100, verbose = 1, validation_split = .2)\n",
    "\n"
   ]
  },
  {
   "cell_type": "code",
   "execution_count": 262,
   "metadata": {
    "scrolled": true
   },
   "outputs": [
    {
     "data": {
      "image/png": "[encoded data removed]",
      "text/plain": [
       "<Figure size 432x288 with 2 Axes>"
      ]
     },
     "metadata": {},
     "output_type": "display_data"
    },
    {
     "name": "stdout",
     "output_type": "stream",
     "text": [
      "755/755 [==============================] - 0s 123us/step\n",
      "Train score: 0.5267\n",
      "Train accuracy: 0.6318\n",
      "333/333 [==============================] - 0s 210us/step\n",
      "Test score: 0.5379\n",
      "Test accuracy: 0.6336\n"
     ]
    }
   ],
   "source": [
    "\n",
    "# 4. 학습과정 살펴보기(그래프)\n",
    "fig, loss_ax = plt.subplots()\n",
    "acc_ax = loss_ax.twinx()\n",
    "\n",
    "loss_ax.plot(hist.history['loss'], 'y', label='train loss')\n",
    "loss_ax.plot(hist.history['val_loss'], 'r', label='val loss')\n",
    "\n",
    "acc_ax.plot(hist.history['acc'], 'b', label='train acc')\n",
    "acc_ax.plot(hist.history['val_acc'], 'g', label='val acc')\n",
    "\n",
    "loss_ax.set_xlabel('epoch')\n",
    "loss_ax.set_ylabel('loss')\n",
    "acc_ax.set_ylabel('accuray')\n",
    "\n",
    "loss_ax.legend(loc='upper left')\n",
    "acc_ax.legend(loc='lower left')\n",
    "\n",
    "plt.show()\n",
    "\n",
    "\n",
    "# 5. 모델 평가하기 - 테스트셋\n",
    "'''\n",
    "score는 비용함수에 대한 평가값\n",
    "'''\n",
    "\n",
    "score = model.evaluate(X_train, Y_train, verbose=1)\n",
    "print('Train score: {:.4f}'.format(score[0]))\n",
    "print('Train accuracy: {:.4f}'.format(score[1]))\n",
    "\n",
    "\n",
    "score = model.evaluate(X_test, Y_test, verbose=1)\n",
    "print('Test score: {:.4f}'.format(score[0]))\n",
    "print('Test accuracy: {:.4f}'.format(score[1]))\n",
    "\n",
    "# model.evaluate ; 손실 값을 계산하는 데 사용\n",
    "# model.predict_classes() ; 범주 출력을 계산하는 데 사용\n",
    "# model.predict_proba() ; 범주 확률을 계산하는 데 사용\n"
   ]
  },
  {
   "cell_type": "code",
   "execution_count": 263,
   "metadata": {},
   "outputs": [
    {
     "data": {
      "image/png": "[encoded data removed]",
      "text/plain": [
       "<Figure size 432x288 with 1 Axes>"
      ]
     },
     "metadata": {},
     "output_type": "display_data"
    },
    {
     "data": {
      "image/png": "[encoded data removed]",
      "text/plain": [
       "<Figure size 432x288 with 1 Axes>"
      ]
     },
     "metadata": {},
     "output_type": "display_data"
    }
   ],
   "source": [
    "\n",
    "# 5. 분리된 그래프\n",
    "\n",
    "# loss\n",
    "fig, loss_ax = plt.subplots()\n",
    "\n",
    "loss_ax.plot(hist.history['loss'], 'y', label='train loss')\n",
    "loss_ax.plot(hist.history['val_loss'], 'r', label='val loss')\n",
    "\n",
    "loss_ax.set_xlabel('epoch')\n",
    "loss_ax.set_ylabel('loss')\n",
    "\n",
    "loss_ax.legend(loc='upper left')\n",
    "\n",
    "plt.show()\n",
    "\n",
    "# accuray\n",
    "fig, acc_ax = plt.subplots()\n",
    "\n",
    "acc_ax.plot(hist.history['acc'], 'b', label='train acc')\n",
    "acc_ax.plot(hist.history['val_acc'], 'g', label='val acc')\n",
    "\n",
    "loss_ax.set_xlabel('epoch')\n",
    "acc_ax.set_ylabel('accuray')\n",
    "\n",
    "acc_ax.legend(loc='upper left')\n",
    "\n",
    "plt.show()\n"
   ]
  },
  {
   "cell_type": "code",
   "execution_count": null,
   "metadata": {},
   "outputs": [],
   "source": []
  },
  {
   "cell_type": "code",
   "execution_count": null,
   "metadata": {},
   "outputs": [],
   "source": []
  },
  {
   "cell_type": "code",
   "execution_count": null,
   "metadata": {},
   "outputs": [],
   "source": []
  }
 ],
 "metadata": {
  "kernelspec": {
   "display_name": "Python 3",
   "language": "python",
   "name": "python3"
  },
  "language_info": {
   "codemirror_mode": {
    "name": "ipython",
    "version": 3
   },
   "file_extension": ".py",
   "mimetype": "text/x-python",
   "name": "python",
   "nbconvert_exporter": "python",
   "pygments_lexer": "ipython3",
   "version": "3.6.5"
  }
 },
 "nbformat": 4,
 "nbformat_minor": 2
}
