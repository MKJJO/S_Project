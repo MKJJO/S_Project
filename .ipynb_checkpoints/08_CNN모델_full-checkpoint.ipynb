{
 "cells": [
  {
   "cell_type": "markdown",
   "metadata": {},
   "source": [
    "## CNN"
   ]
  },
  {
   "cell_type": "markdown",
   "metadata": {},
   "source": [
    "차원 축소하지 않은 데이터 사용"
   ]
  },
  {
   "cell_type": "code",
   "execution_count": null,
   "metadata": {},
   "outputs": [],
   "source": []
  },
  {
   "cell_type": "code",
   "execution_count": null,
   "metadata": {},
   "outputs": [],
   "source": []
  },
  {
   "cell_type": "code",
   "execution_count": 1,
   "metadata": {},
   "outputs": [
    {
     "name": "stderr",
     "output_type": "stream",
     "text": [
      "Using TensorFlow backend.\n"
     ]
    }
   ],
   "source": [
    "import pandas as pd\n",
    "import numpy as np\n",
    "from keras.datasets import mnist\n",
    "from keras.utils import np_utils\n",
    "from keras.models import Sequential\n",
    "from keras.layers import Dense, Activation, Conv2D, MaxPooling2D, Flatten, Dropout, BatchNormalization, initializers\n",
    "from keras.optimizers import RMSprop, Adadelta, Adam, SGD, Adagrad\n",
    "from keras.utils import to_categorical\n",
    "import matplotlib.pyplot as plt\n",
    "%matplotlib inline\n",
    "import pickle # 파이썬 객체저장을 위한 모듈"
   ]
  },
  {
   "cell_type": "markdown",
   "metadata": {},
   "source": [
    "## 사전값 셋팅 확인 필수"
   ]
  },
  {
   "cell_type": "code",
   "execution_count": 331,
   "metadata": {},
   "outputs": [],
   "source": [
    "df = 'all'   # 수정필수\n",
    "# core/all/main\n",
    "\n",
    "\n",
    "\n",
    "\n",
    "# core설정시 확인해야 함\n",
    "# R을 통해 확인한 stepwise 유의 변수 리스트\n",
    "core_factors = ['DR00000136','6000201001O0','6000903016D1','FNMKFN02','6000901002D1','S41000210FD1',\n",
    "'6000207003O0','DR00000052','6000906001D6','DR00000156','6000901001D3','DR00000082',\n",
    "'S41000210FD2','6000902001D2','6000908001D3','6000904001D3','6000908001D2','S41B0D1009O0',\n",
    "'6000901002D3','6000903001D2','6000403001O0','CO10100170O0','DR00000113','6000908001D7']\n",
    "\n",
    "#  키별로 비율 배분이 잘 됐는지 확인\n",
    "if df == 'all':\n",
    "    max_idx = 707\n",
    "else:\n",
    "    max_idx = 123\n",
    "    "
   ]
  },
  {
   "cell_type": "markdown",
   "metadata": {},
   "source": [
    "## 데이터셋 셋팅"
   ]
  },
  {
   "cell_type": "code",
   "execution_count": 332,
   "metadata": {},
   "outputs": [],
   "source": [
    "import pickle # 파이썬 객체저장을 위한 모듈\n",
    "\n",
    "# 파이썬 객체 읽어오기\n",
    "\n",
    "if df == 'all':\n",
    "    with open('./pickles/data6vs4_all.p', 'rb') as file:    # hello.txt 파일을 바이너리 읽기 모드(rb)로 열기\n",
    "        temp_train_set = pickle.load(file)\n",
    "        temp_test_set = pickle.load(file)\n",
    "        af_cols = pickle.load(file)\n",
    "else:\n",
    "    with open('./pickles/data6vs4_main.p', 'rb') as file:    # hello.txt 파일을 바이너리 읽기 모드(rb)로 열기\n",
    "        temp_train_set = pickle.load(file)\n",
    "        temp_test_set = pickle.load(file)\n",
    "        af_cols = pickle.load(file)\n"
   ]
  },
  {
   "cell_type": "code",
   "execution_count": null,
   "metadata": {},
   "outputs": [],
   "source": []
  },
  {
   "cell_type": "code",
   "execution_count": 333,
   "metadata": {},
   "outputs": [],
   "source": [
    "train_set = temp_train_set.drop(['index', 0, max_idx-1,max_idx],axis=1)  # 열삭제\n",
    "test_set = temp_test_set.drop(['index', 0, max_idx-1,max_idx],axis=1)  # 열삭제\n"
   ]
  },
  {
   "cell_type": "code",
   "execution_count": 334,
   "metadata": {},
   "outputs": [
    {
     "data": {
      "text/html": [
       "<div>\n",
       "<style scoped>\n",
       "    .dataframe tbody tr th:only-of-type {\n",
       "        vertical-align: middle;\n",
       "    }\n",
       "\n",
       "    .dataframe tbody tr th {\n",
       "        vertical-align: top;\n",
       "    }\n",
       "\n",
       "    .dataframe thead th {\n",
       "        text-align: right;\n",
       "    }\n",
       "</style>\n",
       "<table border=\"1\" class=\"dataframe\">\n",
       "  <thead>\n",
       "    <tr style=\"text-align: right;\">\n",
       "      <th></th>\n",
       "      <th>key</th>\n",
       "      <th>industry</th>\n",
       "      <th>label</th>\n",
       "      <th>S430000600O0</th>\n",
       "      <th>3001104004O0</th>\n",
       "      <th>3001212005O0</th>\n",
       "      <th>3001403004O0</th>\n",
       "      <th>3001111005O0</th>\n",
       "      <th>S430000100O0</th>\n",
       "      <th>3001104004J0</th>\n",
       "      <th>...</th>\n",
       "      <th>DR00000157</th>\n",
       "      <th>DR00000158</th>\n",
       "      <th>DR00000159</th>\n",
       "      <th>DR00000160</th>\n",
       "      <th>DR00000161</th>\n",
       "      <th>DR00000162</th>\n",
       "      <th>DR00000163</th>\n",
       "      <th>DR00000164</th>\n",
       "      <th>DR00000165</th>\n",
       "      <th>DR00000166</th>\n",
       "    </tr>\n",
       "  </thead>\n",
       "  <tbody>\n",
       "    <tr>\n",
       "      <th>0</th>\n",
       "      <td>2017217190</td>\n",
       "      <td>C</td>\n",
       "      <td>0</td>\n",
       "      <td>10.2437</td>\n",
       "      <td>2.96982</td>\n",
       "      <td>2.88132</td>\n",
       "      <td>2.84527</td>\n",
       "      <td>-0.456624</td>\n",
       "      <td>2.22591</td>\n",
       "      <td>-0.00312026</td>\n",
       "      <td>...</td>\n",
       "      <td>1</td>\n",
       "      <td>0</td>\n",
       "      <td>1</td>\n",
       "      <td>0</td>\n",
       "      <td>0</td>\n",
       "      <td>0</td>\n",
       "      <td>0</td>\n",
       "      <td>1</td>\n",
       "      <td>0</td>\n",
       "      <td>0</td>\n",
       "    </tr>\n",
       "    <tr>\n",
       "      <th>1</th>\n",
       "      <td>2016097870</td>\n",
       "      <td>C</td>\n",
       "      <td>0</td>\n",
       "      <td>11.3082</td>\n",
       "      <td>2.96982</td>\n",
       "      <td>2.88132</td>\n",
       "      <td>2.84527</td>\n",
       "      <td>-1.88693</td>\n",
       "      <td>2.22591</td>\n",
       "      <td>-0.00359014</td>\n",
       "      <td>...</td>\n",
       "      <td>1</td>\n",
       "      <td>0</td>\n",
       "      <td>3</td>\n",
       "      <td>0</td>\n",
       "      <td>0</td>\n",
       "      <td>0</td>\n",
       "      <td>0</td>\n",
       "      <td>0</td>\n",
       "      <td>0</td>\n",
       "      <td>0</td>\n",
       "    </tr>\n",
       "    <tr>\n",
       "      <th>2</th>\n",
       "      <td>2015115610</td>\n",
       "      <td>C</td>\n",
       "      <td>0</td>\n",
       "      <td>10.7966</td>\n",
       "      <td>2.96982</td>\n",
       "      <td>2.88132</td>\n",
       "      <td>2.84527</td>\n",
       "      <td>-1.88693</td>\n",
       "      <td>2.22591</td>\n",
       "      <td>0.00687726</td>\n",
       "      <td>...</td>\n",
       "      <td>1</td>\n",
       "      <td>0</td>\n",
       "      <td>3</td>\n",
       "      <td>0</td>\n",
       "      <td>0</td>\n",
       "      <td>0</td>\n",
       "      <td>0</td>\n",
       "      <td>1</td>\n",
       "      <td>0</td>\n",
       "      <td>0</td>\n",
       "    </tr>\n",
       "    <tr>\n",
       "      <th>3</th>\n",
       "      <td>2017093050</td>\n",
       "      <td>C</td>\n",
       "      <td>0</td>\n",
       "      <td>13.7269</td>\n",
       "      <td>2.96982</td>\n",
       "      <td>2.88132</td>\n",
       "      <td>2.84527</td>\n",
       "      <td>-1.88693</td>\n",
       "      <td>-0.851603</td>\n",
       "      <td>-0.00309731</td>\n",
       "      <td>...</td>\n",
       "      <td>1</td>\n",
       "      <td>0</td>\n",
       "      <td>1</td>\n",
       "      <td>0</td>\n",
       "      <td>0</td>\n",
       "      <td>0</td>\n",
       "      <td>0</td>\n",
       "      <td>0</td>\n",
       "      <td>0</td>\n",
       "      <td>0</td>\n",
       "    </tr>\n",
       "    <tr>\n",
       "      <th>4</th>\n",
       "      <td>2013005030</td>\n",
       "      <td>C</td>\n",
       "      <td>0</td>\n",
       "      <td>9.76709</td>\n",
       "      <td>2.96982</td>\n",
       "      <td>2.88132</td>\n",
       "      <td>2.84527</td>\n",
       "      <td>-0.456624</td>\n",
       "      <td>2.22591</td>\n",
       "      <td>-0.00312026</td>\n",
       "      <td>...</td>\n",
       "      <td>1</td>\n",
       "      <td>0</td>\n",
       "      <td>3</td>\n",
       "      <td>0</td>\n",
       "      <td>1</td>\n",
       "      <td>1</td>\n",
       "      <td>0</td>\n",
       "      <td>1</td>\n",
       "      <td>0</td>\n",
       "      <td>0</td>\n",
       "    </tr>\n",
       "  </tbody>\n",
       "</table>\n",
       "<p>5 rows × 705 columns</p>\n",
       "</div>"
      ],
      "text/plain": [
       "          key industry label S430000600O0 3001104004O0 3001212005O0  \\\n",
       "0  2017217190        C     0      10.2437      2.96982      2.88132   \n",
       "1  2016097870        C     0      11.3082      2.96982      2.88132   \n",
       "2  2015115610        C     0      10.7966      2.96982      2.88132   \n",
       "3  2017093050        C     0      13.7269      2.96982      2.88132   \n",
       "4  2013005030        C     0      9.76709      2.96982      2.88132   \n",
       "\n",
       "  3001403004O0 3001111005O0 S430000100O0 3001104004J0    ...     DR00000157  \\\n",
       "0      2.84527    -0.456624      2.22591  -0.00312026    ...              1   \n",
       "1      2.84527     -1.88693      2.22591  -0.00359014    ...              1   \n",
       "2      2.84527     -1.88693      2.22591   0.00687726    ...              1   \n",
       "3      2.84527     -1.88693    -0.851603  -0.00309731    ...              1   \n",
       "4      2.84527    -0.456624      2.22591  -0.00312026    ...              1   \n",
       "\n",
       "  DR00000158 DR00000159 DR00000160 DR00000161 DR00000162 DR00000163  \\\n",
       "0          0          1          0          0          0          0   \n",
       "1          0          3          0          0          0          0   \n",
       "2          0          3          0          0          0          0   \n",
       "3          0          1          0          0          0          0   \n",
       "4          0          3          0          1          1          0   \n",
       "\n",
       "  DR00000164 DR00000165 DR00000166  \n",
       "0          1          0          0  \n",
       "1          0          0          0  \n",
       "2          1          0          0  \n",
       "3          0          0          0  \n",
       "4          1          0          0  \n",
       "\n",
       "[5 rows x 705 columns]"
      ]
     },
     "execution_count": 334,
     "metadata": {},
     "output_type": "execute_result"
    }
   ],
   "source": [
    "# 항목명 (열명) 셋팅\n",
    "factor_cols = list(af_cols[1:-2])\n",
    "train_set.columns = factor_cols\n",
    "test_set.columns = factor_cols\n",
    "train_set.head()"
   ]
  },
  {
   "cell_type": "code",
   "execution_count": 335,
   "metadata": {},
   "outputs": [],
   "source": [
    "# core인 경우 main에서 핵심 변수만 추림\n",
    "\n",
    "if df == 'core':\n",
    "    final_factors = ['key', 'industry', 'label']\n",
    "    final_factors = final_factors + core_factors\n",
    "    train_set = train_set[final_factors]\n",
    "    test_set = test_set[final_factors]\n",
    "else:\n",
    "    pass"
   ]
  },
  {
   "cell_type": "code",
   "execution_count": 336,
   "metadata": {},
   "outputs": [
    {
     "data": {
      "text/plain": [
       "('all', (755, 705), (333, 705))"
      ]
     },
     "execution_count": 336,
     "metadata": {},
     "output_type": "execute_result"
    }
   ],
   "source": [
    "df, train_set.shape, test_set.shape"
   ]
  },
  {
   "cell_type": "code",
   "execution_count": 337,
   "metadata": {},
   "outputs": [
    {
     "data": {
      "text/html": [
       "<div>\n",
       "<style scoped>\n",
       "    .dataframe tbody tr th:only-of-type {\n",
       "        vertical-align: middle;\n",
       "    }\n",
       "\n",
       "    .dataframe tbody tr th {\n",
       "        vertical-align: top;\n",
       "    }\n",
       "\n",
       "    .dataframe thead th {\n",
       "        text-align: right;\n",
       "    }\n",
       "</style>\n",
       "<table border=\"1\" class=\"dataframe\">\n",
       "  <thead>\n",
       "    <tr style=\"text-align: right;\">\n",
       "      <th></th>\n",
       "      <th>key</th>\n",
       "      <th>industry</th>\n",
       "      <th>label</th>\n",
       "      <th>S430000600O0</th>\n",
       "      <th>3001104004O0</th>\n",
       "      <th>3001212005O0</th>\n",
       "      <th>3001403004O0</th>\n",
       "      <th>3001111005O0</th>\n",
       "      <th>S430000100O0</th>\n",
       "      <th>3001104004J0</th>\n",
       "      <th>...</th>\n",
       "      <th>DR00000157</th>\n",
       "      <th>DR00000158</th>\n",
       "      <th>DR00000159</th>\n",
       "      <th>DR00000160</th>\n",
       "      <th>DR00000161</th>\n",
       "      <th>DR00000162</th>\n",
       "      <th>DR00000163</th>\n",
       "      <th>DR00000164</th>\n",
       "      <th>DR00000165</th>\n",
       "      <th>DR00000166</th>\n",
       "    </tr>\n",
       "  </thead>\n",
       "  <tbody>\n",
       "    <tr>\n",
       "      <th>0</th>\n",
       "      <td>2017217190</td>\n",
       "      <td>C</td>\n",
       "      <td>0</td>\n",
       "      <td>10.2437</td>\n",
       "      <td>2.96982</td>\n",
       "      <td>2.88132</td>\n",
       "      <td>2.84527</td>\n",
       "      <td>-0.456624</td>\n",
       "      <td>2.22591</td>\n",
       "      <td>-0.00312026</td>\n",
       "      <td>...</td>\n",
       "      <td>1</td>\n",
       "      <td>0</td>\n",
       "      <td>1</td>\n",
       "      <td>0</td>\n",
       "      <td>0</td>\n",
       "      <td>0</td>\n",
       "      <td>0</td>\n",
       "      <td>1</td>\n",
       "      <td>0</td>\n",
       "      <td>0</td>\n",
       "    </tr>\n",
       "    <tr>\n",
       "      <th>1</th>\n",
       "      <td>2016097870</td>\n",
       "      <td>C</td>\n",
       "      <td>0</td>\n",
       "      <td>11.3082</td>\n",
       "      <td>2.96982</td>\n",
       "      <td>2.88132</td>\n",
       "      <td>2.84527</td>\n",
       "      <td>-1.88693</td>\n",
       "      <td>2.22591</td>\n",
       "      <td>-0.00359014</td>\n",
       "      <td>...</td>\n",
       "      <td>1</td>\n",
       "      <td>0</td>\n",
       "      <td>3</td>\n",
       "      <td>0</td>\n",
       "      <td>0</td>\n",
       "      <td>0</td>\n",
       "      <td>0</td>\n",
       "      <td>0</td>\n",
       "      <td>0</td>\n",
       "      <td>0</td>\n",
       "    </tr>\n",
       "    <tr>\n",
       "      <th>2</th>\n",
       "      <td>2015115610</td>\n",
       "      <td>C</td>\n",
       "      <td>0</td>\n",
       "      <td>10.7966</td>\n",
       "      <td>2.96982</td>\n",
       "      <td>2.88132</td>\n",
       "      <td>2.84527</td>\n",
       "      <td>-1.88693</td>\n",
       "      <td>2.22591</td>\n",
       "      <td>0.00687726</td>\n",
       "      <td>...</td>\n",
       "      <td>1</td>\n",
       "      <td>0</td>\n",
       "      <td>3</td>\n",
       "      <td>0</td>\n",
       "      <td>0</td>\n",
       "      <td>0</td>\n",
       "      <td>0</td>\n",
       "      <td>1</td>\n",
       "      <td>0</td>\n",
       "      <td>0</td>\n",
       "    </tr>\n",
       "    <tr>\n",
       "      <th>3</th>\n",
       "      <td>2017093050</td>\n",
       "      <td>C</td>\n",
       "      <td>0</td>\n",
       "      <td>13.7269</td>\n",
       "      <td>2.96982</td>\n",
       "      <td>2.88132</td>\n",
       "      <td>2.84527</td>\n",
       "      <td>-1.88693</td>\n",
       "      <td>-0.851603</td>\n",
       "      <td>-0.00309731</td>\n",
       "      <td>...</td>\n",
       "      <td>1</td>\n",
       "      <td>0</td>\n",
       "      <td>1</td>\n",
       "      <td>0</td>\n",
       "      <td>0</td>\n",
       "      <td>0</td>\n",
       "      <td>0</td>\n",
       "      <td>0</td>\n",
       "      <td>0</td>\n",
       "      <td>0</td>\n",
       "    </tr>\n",
       "    <tr>\n",
       "      <th>4</th>\n",
       "      <td>2013005030</td>\n",
       "      <td>C</td>\n",
       "      <td>0</td>\n",
       "      <td>9.76709</td>\n",
       "      <td>2.96982</td>\n",
       "      <td>2.88132</td>\n",
       "      <td>2.84527</td>\n",
       "      <td>-0.456624</td>\n",
       "      <td>2.22591</td>\n",
       "      <td>-0.00312026</td>\n",
       "      <td>...</td>\n",
       "      <td>1</td>\n",
       "      <td>0</td>\n",
       "      <td>3</td>\n",
       "      <td>0</td>\n",
       "      <td>1</td>\n",
       "      <td>1</td>\n",
       "      <td>0</td>\n",
       "      <td>1</td>\n",
       "      <td>0</td>\n",
       "      <td>0</td>\n",
       "    </tr>\n",
       "  </tbody>\n",
       "</table>\n",
       "<p>5 rows × 705 columns</p>\n",
       "</div>"
      ],
      "text/plain": [
       "          key industry label S430000600O0 3001104004O0 3001212005O0  \\\n",
       "0  2017217190        C     0      10.2437      2.96982      2.88132   \n",
       "1  2016097870        C     0      11.3082      2.96982      2.88132   \n",
       "2  2015115610        C     0      10.7966      2.96982      2.88132   \n",
       "3  2017093050        C     0      13.7269      2.96982      2.88132   \n",
       "4  2013005030        C     0      9.76709      2.96982      2.88132   \n",
       "\n",
       "  3001403004O0 3001111005O0 S430000100O0 3001104004J0    ...     DR00000157  \\\n",
       "0      2.84527    -0.456624      2.22591  -0.00312026    ...              1   \n",
       "1      2.84527     -1.88693      2.22591  -0.00359014    ...              1   \n",
       "2      2.84527     -1.88693      2.22591   0.00687726    ...              1   \n",
       "3      2.84527     -1.88693    -0.851603  -0.00309731    ...              1   \n",
       "4      2.84527    -0.456624      2.22591  -0.00312026    ...              1   \n",
       "\n",
       "  DR00000158 DR00000159 DR00000160 DR00000161 DR00000162 DR00000163  \\\n",
       "0          0          1          0          0          0          0   \n",
       "1          0          3          0          0          0          0   \n",
       "2          0          3          0          0          0          0   \n",
       "3          0          1          0          0          0          0   \n",
       "4          0          3          0          1          1          0   \n",
       "\n",
       "  DR00000164 DR00000165 DR00000166  \n",
       "0          1          0          0  \n",
       "1          0          0          0  \n",
       "2          1          0          0  \n",
       "3          0          0          0  \n",
       "4          1          0          0  \n",
       "\n",
       "[5 rows x 705 columns]"
      ]
     },
     "execution_count": 337,
     "metadata": {},
     "output_type": "execute_result"
    }
   ],
   "source": [
    "train_set.head()"
   ]
  },
  {
   "cell_type": "markdown",
   "metadata": {},
   "source": [
    "### 데이터 분리 및 타입변경"
   ]
  },
  {
   "cell_type": "code",
   "execution_count": 338,
   "metadata": {},
   "outputs": [],
   "source": [
    "# 데이터 분리\n",
    "cols = train_set.columns.values\n",
    "train_info = train_set[cols[0:3]]\n",
    "x_train = train_set[cols[3:]]\n",
    "y_train = train_set['label']\n",
    "train_len = x_train.shape[0]\n",
    "\n",
    "cols = test_set.columns.values\n",
    "test_info = test_set[cols[0:3]]\n",
    "x_test = test_set[cols[3:]]\n",
    "y_test = test_set['label']\n",
    "test_len = x_test.shape[0]"
   ]
  },
  {
   "cell_type": "code",
   "execution_count": 339,
   "metadata": {
    "scrolled": true
   },
   "outputs": [
    {
     "data": {
      "text/plain": [
       "((755, 702), (755,))"
      ]
     },
     "execution_count": 339,
     "metadata": {},
     "output_type": "execute_result"
    }
   ],
   "source": [
    "x_train.shape, y_train.shape"
   ]
  },
  {
   "cell_type": "code",
   "execution_count": 340,
   "metadata": {},
   "outputs": [],
   "source": [
    "x_train = np.array(x_train)\n",
    "x_test = np.array(x_test)"
   ]
  },
  {
   "cell_type": "markdown",
   "metadata": {},
   "source": [
    "### MIN MAX 스케일 조정"
   ]
  },
  {
   "cell_type": "markdown",
   "metadata": {},
   "source": [
    "\n",
    "스케일링 하는 이유 : 데이터가 0~1이 아닐 경우 loss가 마이너스로 계산됨. 학습이 정상적이지 않을 수 있음.\n",
    "\n",
    "다른 딥러닝 모델에서도 이미지 학습시 /255 처리하는 이유\n"
   ]
  },
  {
   "cell_type": "code",
   "execution_count": 341,
   "metadata": {},
   "outputs": [
    {
     "name": "stderr",
     "output_type": "stream",
     "text": [
      "C:\\ProgramData\\Anaconda3\\envs\\tensorflow\\lib\\site-packages\\sklearn\\utils\\validation.py:475: DataConversionWarning: Data with input dtype object was converted to float64 by MinMaxScaler.\n",
      "  warnings.warn(msg, DataConversionWarning)\n"
     ]
    }
   ],
   "source": [
    "\n",
    "# 데이터 스케일 조정 (MinMax)\n",
    "# 재작업시 위에 실행 후 처리하기\n",
    "\n",
    "from sklearn.preprocessing import MinMaxScaler\n",
    "\n",
    "scaler = MinMaxScaler(feature_range=(0, 1))\n",
    "scaler.fit_transform(x_train)\n",
    "x_train = scaler.fit_transform(x_train)\n",
    "x_test = scaler.fit_transform(x_test)"
   ]
  },
  {
   "cell_type": "code",
   "execution_count": null,
   "metadata": {},
   "outputs": [],
   "source": []
  },
  {
   "cell_type": "code",
   "execution_count": null,
   "metadata": {},
   "outputs": [],
   "source": []
  },
  {
   "cell_type": "code",
   "execution_count": null,
   "metadata": {},
   "outputs": [],
   "source": []
  },
  {
   "cell_type": "markdown",
   "metadata": {},
   "source": [
    "### 모델 입력값 설정"
   ]
  },
  {
   "cell_type": "code",
   "execution_count": 342,
   "metadata": {},
   "outputs": [],
   "source": [
    "np.random.seed(42)\n",
    "\n",
    "# 분류갯수\n",
    "classes = 2\n",
    "\n",
    "# 학습데이터\n",
    "img_rows = 1\n",
    "img_cols = x_train.shape[1] \n",
    "\n"
   ]
  },
  {
   "cell_type": "code",
   "execution_count": 343,
   "metadata": {},
   "outputs": [
    {
     "data": {
      "text/plain": [
       "(1, 702)"
      ]
     },
     "execution_count": 343,
     "metadata": {},
     "output_type": "execute_result"
    }
   ],
   "source": [
    "img_rows, img_cols"
   ]
  },
  {
   "cell_type": "code",
   "execution_count": null,
   "metadata": {},
   "outputs": [],
   "source": []
  },
  {
   "cell_type": "markdown",
   "metadata": {},
   "source": [
    "### input shape 변경"
   ]
  },
  {
   "cell_type": "code",
   "execution_count": 344,
   "metadata": {},
   "outputs": [
    {
     "name": "stdout",
     "output_type": "stream",
     "text": [
      "(1, 702, 1)\n"
     ]
    }
   ],
   "source": [
    "# X_train = X_train.reshape(X_train.shape[0], img_rows, img_cols, 1)\n",
    "# X_test = X_test.reshape(X_test.shape[0], img_rows, img_cols, 1)\n",
    "X_train = x_train.reshape(x_train.shape[0], 1, x_train.shape[1], 1) # (1, # of features, # of chnnels) # input.shape[1:끝]\n",
    "X_test = x_test.reshape(x_test.shape[0], 1, x_test.shape[1], 1) # (1, # of features, # of chnnels) # input.shape[1:끝]\n",
    "\n",
    "# 변수명 전환\n",
    "Y_train = y_train\n",
    "Y_test = y_test\n",
    "\n",
    "input_shape= X_train.shape[1:4]\n",
    "print(input_shape)"
   ]
  },
  {
   "cell_type": "code",
   "execution_count": 345,
   "metadata": {},
   "outputs": [
    {
     "data": {
      "text/plain": [
       "755"
      ]
     },
     "execution_count": 345,
     "metadata": {},
     "output_type": "execute_result"
    }
   ],
   "source": [
    "x_train.shape[0]"
   ]
  },
  {
   "cell_type": "code",
   "execution_count": 346,
   "metadata": {},
   "outputs": [],
   "source": [
    "### 모델 파라메터 설정"
   ]
  },
  {
   "cell_type": "code",
   "execution_count": 347,
   "metadata": {},
   "outputs": [
    {
     "name": "stdout",
     "output_type": "stream",
     "text": [
      "한번에 처리될 row 수 : 50 ,   한 row date가 반복 학습될 횟수 :  50 ,    37750 개 row에 대해 학습하게 됨\n",
      "\n",
      "< 처리기준 >\n",
      "n : 755, m :702, filter_size : 4, batch_size : 50, epochs : 50\n"
     ]
    }
   ],
   "source": [
    "\n",
    "# if x_train.shape[1] >= 100:\n",
    "#     filter_size = 8\n",
    "# elif x_train.shape[1] >= 50:\n",
    "#     filter_size = 8\n",
    "# else:\n",
    "#     filter_size = 8\n",
    "\n",
    "filter_size = 4\n",
    "batch_size = 50\n",
    "epochs = 50\n",
    "\n",
    "print(\"한번에 처리될 row 수 :\", batch_size, \",   한 row date가 반복 학습될 횟수 : \", epochs, \",   \", x_train.shape[0]*epochs, \"개 row에 대해 학습하게 됨\")\n",
    "\n",
    "print(\"\\n< 처리기준 >\")\n",
    "print_string = \"n : {}, m :{}, filter_size : {}, batch_size : {}, epochs : {}\"\n",
    "print(print_string.format(x_train.shape[0],x_train.shape[1],filter_size,batch_size,epochs))\n"
   ]
  },
  {
   "cell_type": "code",
   "execution_count": null,
   "metadata": {},
   "outputs": [],
   "source": []
  },
  {
   "cell_type": "code",
   "execution_count": 348,
   "metadata": {},
   "outputs": [
    {
     "data": {
      "text/plain": [
       "((755, 2), (333, 2))"
      ]
     },
     "execution_count": 348,
     "metadata": {},
     "output_type": "execute_result"
    }
   ],
   "source": [
    "# Y값을 1개항목에서 카테고리화 함\n",
    "Y_train = to_categorical(y_train, num_classes=classes) # one-hot 인코딩\n",
    "Y_test = to_categorical(y_test, num_classes=classes) # one-hot 인코딩\n",
    "\n",
    "Y_train.shape, Y_test.shape"
   ]
  },
  {
   "cell_type": "markdown",
   "metadata": {},
   "source": [
    "## CNN 모델 설계"
   ]
  },
  {
   "cell_type": "markdown",
   "metadata": {},
   "source": [
    "- 활성화함수 : relu보다 elu사용해 0에 수렴하는 케이스 방지. 단 속도가 느려질 수 있음\n",
    "- 초기화함수 : he_normal를 사용. relu 파생 활성화함수는 xavier에 적합하지 않으므로\n",
    "(normal, uniform 중 normal 사용. 더 성능이 우수함)"
   ]
  },
  {
   "cell_type": "code",
   "execution_count": null,
   "metadata": {},
   "outputs": [],
   "source": []
  },
  {
   "cell_type": "code",
   "execution_count": 349,
   "metadata": {},
   "outputs": [
    {
     "data": {
      "text/plain": [
       "((755, 1, 702, 1), (333, 1, 702, 1), (755, 2), (333, 2))"
      ]
     },
     "execution_count": 349,
     "metadata": {},
     "output_type": "execute_result"
    }
   ],
   "source": [
    "X_train.shape, X_test.shape, Y_train.shape, Y_test.shape"
   ]
  },
  {
   "cell_type": "code",
   "execution_count": 350,
   "metadata": {},
   "outputs": [
    {
     "name": "stderr",
     "output_type": "stream",
     "text": [
      "C:\\ProgramData\\Anaconda3\\envs\\tensorflow\\lib\\site-packages\\ipykernel_launcher.py:4: UserWarning: Update your `Conv2D` call to the Keras 2 API: `Conv2D(4, (1, 2), input_shape=(1, 702, 1..., activation=\"relu\", padding=\"same\", kernel_initializer=\"he_normal\")`\n",
      "  after removing the cwd from sys.path.\n",
      "C:\\ProgramData\\Anaconda3\\envs\\tensorflow\\lib\\site-packages\\ipykernel_launcher.py:23: UserWarning: Update your `Dense` call to the Keras 2 API: `Dense(2, activation=\"sigmoid\", kernel_initializer=\"glorot_normal\")`\n"
     ]
    },
    {
     "name": "stdout",
     "output_type": "stream",
     "text": [
      "_________________________________________________________________\n",
      "Layer (type)                 Output Shape              Param #   \n",
      "=================================================================\n",
      "conv2d_127 (Conv2D)          (None, 1, 702, 4)         12        \n",
      "_________________________________________________________________\n",
      "activation_125 (Activation)  (None, 1, 702, 4)         0         \n",
      "_________________________________________________________________\n",
      "conv2d_128 (Conv2D)          (None, 1, 702, 8)         136       \n",
      "_________________________________________________________________\n",
      "activation_126 (Activation)  (None, 1, 702, 8)         0         \n",
      "_________________________________________________________________\n",
      "conv2d_129 (Conv2D)          (None, 1, 702, 8)         264       \n",
      "_________________________________________________________________\n",
      "activation_127 (Activation)  (None, 1, 702, 8)         0         \n",
      "_________________________________________________________________\n",
      "conv2d_130 (Conv2D)          (None, 1, 699, 4)         132       \n",
      "_________________________________________________________________\n",
      "activation_128 (Activation)  (None, 1, 699, 4)         0         \n",
      "_________________________________________________________________\n",
      "flatten_32 (Flatten)         (None, 2796)              0         \n",
      "_________________________________________________________________\n",
      "dense_32 (Dense)             (None, 2)                 5594      \n",
      "=================================================================\n",
      "Total params: 6,138\n",
      "Trainable params: 6,138\n",
      "Non-trainable params: 0\n",
      "_________________________________________________________________\n"
     ]
    }
   ],
   "source": [
    "# 1. 모델구성\n",
    "model = Sequential()\n",
    "\n",
    "model.add(Conv2D(filter_size, (1, 2), input_shape = X_train.shape[1:4], activation = 'relu', padding='same', init=\"he_normal\")) # 2D (1, 4) size 필터\n",
    "model.add(Activation('elu'))\n",
    "\n",
    "model.add(Conv2D(filter_size*2, (1, 4), padding='same', kernel_initializer=\"he_normal\"))\n",
    "# model.add(BatchNormalization())\n",
    "model.add(Activation('elu'))\n",
    "# model.add(MaxPooling2D((1, 2)))\n",
    "# model.add(Dropout(0.2))\n",
    "\n",
    "model.add(Conv2D(filter_size*2, (1, 4), padding='same', kernel_initializer=\"he_normal\"))\n",
    "# model.add(BatchNormalization())\n",
    "model.add(Activation('elu'))\n",
    "\n",
    "model.add(Conv2D(filter_size, (1, 4), kernel_initializer=\"he_normal\"))\n",
    "model.add(Activation('elu'))\n",
    "# model.add(MaxPooling2D((1, 2)))\n",
    "# model.add(Dropout(0.2))\n",
    "\n",
    "model.add(Flatten())\n",
    "model.add(Dense(classes, activation = 'sigmoid', init=\"glorot_normal\"))# 마지막 class 분류\n",
    "\n",
    "# 2. 모델 학습과정 설정하기\n",
    "model.compile(loss = 'categorical_crossentropy', optimizer = 'adam', metrics = ['accuracy'])\n",
    "model.summary()"
   ]
  },
  {
   "cell_type": "code",
   "execution_count": 351,
   "metadata": {},
   "outputs": [
    {
     "name": "stdout",
     "output_type": "stream",
     "text": [
      "Train on 604 samples, validate on 151 samples\n",
      "Epoch 1/50\n",
      "604/604 [==============================] - 8s 14ms/step - loss: 0.5620 - acc: 0.7368 - val_loss: 0.9300 - val_acc: 0.2649\n",
      "Epoch 2/50\n",
      "604/604 [==============================] - 6s 9ms/step - loss: 0.3644 - acc: 0.8460 - val_loss: 1.0391 - val_acc: 0.5232\n",
      "Epoch 3/50\n",
      "604/604 [==============================] - 6s 10ms/step - loss: 0.2752 - acc: 0.8841 - val_loss: 1.3130 - val_acc: 0.4967\n",
      "Epoch 4/50\n",
      "604/604 [==============================] - 6s 10ms/step - loss: 0.2768 - acc: 0.8841 - val_loss: 1.0171 - val_acc: 0.6159\n",
      "Epoch 5/50\n",
      "604/604 [==============================] - 6s 10ms/step - loss: 0.2342 - acc: 0.9123 - val_loss: 0.9879 - val_acc: 0.6159\n",
      "Epoch 6/50\n",
      "604/604 [==============================] - 6s 10ms/step - loss: 0.2063 - acc: 0.9288 - val_loss: 0.6664 - val_acc: 0.7550\n",
      "Epoch 7/50\n",
      "604/604 [==============================] - 7s 11ms/step - loss: 0.1959 - acc: 0.9321 - val_loss: 0.8617 - val_acc: 0.6954\n",
      "Epoch 8/50\n",
      "604/604 [==============================] - 5s 9ms/step - loss: 0.1899 - acc: 0.9222 - val_loss: 0.9771 - val_acc: 0.6424\n",
      "Epoch 9/50\n",
      "604/604 [==============================] - 6s 10ms/step - loss: 0.1773 - acc: 0.9354 - val_loss: 1.2235 - val_acc: 0.5960\n",
      "Epoch 10/50\n",
      "604/604 [==============================] - 6s 11ms/step - loss: 0.1997 - acc: 0.9255 - val_loss: 0.7415 - val_acc: 0.7417\n",
      "Epoch 11/50\n",
      "604/604 [==============================] - 6s 9ms/step - loss: 0.1624 - acc: 0.9437 - val_loss: 0.5792 - val_acc: 0.8013\n",
      "Epoch 12/50\n",
      "604/604 [==============================] - 10s 16ms/step - loss: 0.1627 - acc: 0.9387 - val_loss: 0.4683 - val_acc: 0.8411\n",
      "Epoch 13/50\n",
      "604/604 [==============================] - 8s 14ms/step - loss: 0.1597 - acc: 0.9487 - val_loss: 0.3849 - val_acc: 0.8675\n",
      "Epoch 14/50\n",
      "604/604 [==============================] - 6s 10ms/step - loss: 0.1996 - acc: 0.9222 - val_loss: 0.9518 - val_acc: 0.6887\n",
      "Epoch 15/50\n",
      "604/604 [==============================] - 5s 9ms/step - loss: 0.1521 - acc: 0.9338 - val_loss: 0.7489 - val_acc: 0.7616\n",
      "Epoch 16/50\n",
      "604/604 [==============================] - 6s 10ms/step - loss: 0.1406 - acc: 0.9470 - val_loss: 0.8342 - val_acc: 0.7020\n",
      "Epoch 17/50\n",
      "604/604 [==============================] - 6s 10ms/step - loss: 0.1412 - acc: 0.9520 - val_loss: 0.4865 - val_acc: 0.8411\n",
      "Epoch 18/50\n",
      "604/604 [==============================] - 5s 9ms/step - loss: 0.1434 - acc: 0.9421 - val_loss: 0.5781 - val_acc: 0.8411\n",
      "Epoch 19/50\n",
      "604/604 [==============================] - 6s 10ms/step - loss: 0.1459 - acc: 0.9421 - val_loss: 0.9335 - val_acc: 0.7086\n",
      "Epoch 20/50\n",
      "604/604 [==============================] - 6s 10ms/step - loss: 0.1213 - acc: 0.9553 - val_loss: 0.6199 - val_acc: 0.8013\n",
      "Epoch 21/50\n",
      "604/604 [==============================] - 6s 9ms/step - loss: 0.1257 - acc: 0.9553 - val_loss: 0.5514 - val_acc: 0.8411\n",
      "Epoch 22/50\n",
      "604/604 [==============================] - 8s 13ms/step - loss: 0.1167 - acc: 0.9586 - val_loss: 0.8648 - val_acc: 0.7351\n",
      "Epoch 23/50\n",
      "604/604 [==============================] - 8s 13ms/step - loss: 0.1075 - acc: 0.9652 - val_loss: 0.9550 - val_acc: 0.7219\n",
      "Epoch 24/50\n",
      "604/604 [==============================] - 7s 12ms/step - loss: 0.1092 - acc: 0.9636 - val_loss: 0.6111 - val_acc: 0.8146\n",
      "Epoch 25/50\n",
      "604/604 [==============================] - 7s 12ms/step - loss: 0.1385 - acc: 0.9470 - val_loss: 0.7170 - val_acc: 0.7616\n",
      "Epoch 26/50\n",
      "604/604 [==============================] - 7s 11ms/step - loss: 0.1117 - acc: 0.9603 - val_loss: 0.8043 - val_acc: 0.7483\n",
      "Epoch 27/50\n",
      "604/604 [==============================] - 7s 11ms/step - loss: 0.1130 - acc: 0.9619 - val_loss: 1.0340 - val_acc: 0.6954\n",
      "Epoch 28/50\n",
      "604/604 [==============================] - 5s 8ms/step - loss: 0.1052 - acc: 0.9586 - val_loss: 1.3549 - val_acc: 0.6225\n",
      "Epoch 29/50\n",
      "604/604 [==============================] - 8s 13ms/step - loss: 0.1238 - acc: 0.9503 - val_loss: 1.0832 - val_acc: 0.6954\n",
      "Epoch 30/50\n",
      "604/604 [==============================] - 6s 10ms/step - loss: 0.1177 - acc: 0.9487 - val_loss: 1.0433 - val_acc: 0.6954\n",
      "Epoch 31/50\n",
      "604/604 [==============================] - 5s 9ms/step - loss: 0.1363 - acc: 0.9437 - val_loss: 0.7109 - val_acc: 0.7815\n",
      "Epoch 32/50\n",
      "604/604 [==============================] - 9s 15ms/step - loss: 0.1030 - acc: 0.9702 - val_loss: 0.6295 - val_acc: 0.8212\n",
      "Epoch 33/50\n",
      "604/604 [==============================] - 6s 10ms/step - loss: 0.1174 - acc: 0.9570 - val_loss: 0.9689 - val_acc: 0.7351\n",
      "Epoch 34/50\n",
      "604/604 [==============================] - 7s 11ms/step - loss: 0.0898 - acc: 0.9685 - val_loss: 0.7043 - val_acc: 0.8013\n",
      "Epoch 35/50\n",
      "604/604 [==============================] - 5s 8ms/step - loss: 0.0838 - acc: 0.9735 - val_loss: 0.8915 - val_acc: 0.7682\n",
      "Epoch 36/50\n",
      "604/604 [==============================] - 7s 11ms/step - loss: 0.0816 - acc: 0.9685 - val_loss: 0.7556 - val_acc: 0.8079\n",
      "Epoch 37/50\n",
      "604/604 [==============================] - 7s 11ms/step - loss: 0.1133 - acc: 0.9520 - val_loss: 1.2174 - val_acc: 0.6821\n",
      "Epoch 38/50\n",
      "604/604 [==============================] - 6s 10ms/step - loss: 0.0971 - acc: 0.9586 - val_loss: 0.6982 - val_acc: 0.8013\n",
      "Epoch 39/50\n",
      "604/604 [==============================] - 7s 11ms/step - loss: 0.1054 - acc: 0.9553 - val_loss: 1.1742 - val_acc: 0.6623\n",
      "Epoch 40/50\n",
      "604/604 [==============================] - 6s 11ms/step - loss: 0.0855 - acc: 0.9735 - val_loss: 0.9821 - val_acc: 0.7417\n",
      "Epoch 41/50\n",
      "604/604 [==============================] - 5s 9ms/step - loss: 0.0780 - acc: 0.9685 - val_loss: 1.1043 - val_acc: 0.7285\n",
      "Epoch 42/50\n",
      "604/604 [==============================] - 7s 12ms/step - loss: 0.0923 - acc: 0.9735 - val_loss: 0.8487 - val_acc: 0.7947\n",
      "Epoch 43/50\n",
      "604/604 [==============================] - 6s 10ms/step - loss: 0.0690 - acc: 0.9818 - val_loss: 0.7843 - val_acc: 0.8013\n",
      "Epoch 44/50\n",
      "604/604 [==============================] - 6s 11ms/step - loss: 0.0656 - acc: 0.9735 - val_loss: 1.1752 - val_acc: 0.7285\n",
      "Epoch 45/50\n",
      "604/604 [==============================] - 6s 10ms/step - loss: 0.0624 - acc: 0.9801 - val_loss: 1.0043 - val_acc: 0.7748\n",
      "Epoch 46/50\n",
      "604/604 [==============================] - 5s 9ms/step - loss: 0.0544 - acc: 0.9801 - val_loss: 1.0008 - val_acc: 0.7748\n",
      "Epoch 47/50\n",
      "604/604 [==============================] - 6s 10ms/step - loss: 0.0550 - acc: 0.9785 - val_loss: 1.1051 - val_acc: 0.7616\n",
      "Epoch 48/50\n",
      "604/604 [==============================] - 6s 10ms/step - loss: 0.0508 - acc: 0.9801 - val_loss: 0.7124 - val_acc: 0.8344\n",
      "Epoch 49/50\n",
      "604/604 [==============================] - 6s 9ms/step - loss: 0.0684 - acc: 0.9685 - val_loss: 0.8832 - val_acc: 0.7947\n",
      "Epoch 50/50\n",
      "604/604 [==============================] - 7s 11ms/step - loss: 0.0517 - acc: 0.9801 - val_loss: 0.9320 - val_acc: 0.8013\n"
     ]
    }
   ],
   "source": [
    "# 3. 모델 학습시키기\n",
    "\n",
    "hist = model.fit(X_train, Y_train, batch_size = batch_size, epochs = epochs, verbose = 1, validation_split = .2)"
   ]
  },
  {
   "cell_type": "code",
   "execution_count": 352,
   "metadata": {},
   "outputs": [
    {
     "data": {
      "image/png": "[encoded data removed]",
      "text/plain": [
       "<Figure size 432x288 with 2 Axes>"
      ]
     },
     "metadata": {},
     "output_type": "display_data"
    },
    {
     "name": "stdout",
     "output_type": "stream",
     "text": [
      "755/755 [==============================] - 0s 605us/step\n",
      "Train score: 0.2222\n",
      "Train accuracy: 0.9483\n",
      "333/333 [==============================] - 0s 650us/step\n",
      "Test score: 0.5968\n",
      "Test accuracy: 0.8288\n"
     ]
    }
   ],
   "source": [
    "\n",
    "# 4. 학습과정 살펴보기(그래프)\n",
    "fig, loss_ax = plt.subplots()\n",
    "acc_ax = loss_ax.twinx()\n",
    "\n",
    "loss_ax.plot(hist.history['loss'], 'y', label='train loss')\n",
    "loss_ax.plot(hist.history['val_loss'], 'r', label='val loss')\n",
    "\n",
    "acc_ax.plot(hist.history['acc'], 'b', label='train acc')\n",
    "acc_ax.plot(hist.history['val_acc'], 'g', label='val acc')\n",
    "\n",
    "loss_ax.set_xlabel('epoch')\n",
    "loss_ax.set_ylabel('loss')\n",
    "acc_ax.set_ylabel('accuray')\n",
    "\n",
    "loss_ax.legend(loc='upper left')\n",
    "acc_ax.legend(loc='lower left')\n",
    "\n",
    "plt.show()\n",
    "\n",
    "\n",
    "# 5. 모델 평가하기 - 테스트셋\n",
    "'''\n",
    "score는 비용함수에 대한 평가값\n",
    "'''\n",
    "\n",
    "score = model.evaluate(X_train, Y_train, verbose=1)\n",
    "print('Train score: {:.4f}'.format(score[0]))\n",
    "print('Train accuracy: {:.4f}'.format(score[1]))\n",
    "\n",
    "\n",
    "score = model.evaluate(X_test, Y_test, verbose=1)\n",
    "print('Test score: {:.4f}'.format(score[0]))\n",
    "print('Test accuracy: {:.4f}'.format(score[1]))\n",
    "\n",
    "# model.evaluate ; 손실 값을 계산하는 데 사용\n",
    "# model.predict_classes() ; 범주 출력을 계산하는 데 사용\n",
    "# model.predict_proba() ; 범주 확률을 계산하는 데 사용\n"
   ]
  },
  {
   "cell_type": "code",
   "execution_count": null,
   "metadata": {},
   "outputs": [],
   "source": []
  },
  {
   "cell_type": "code",
   "execution_count": 353,
   "metadata": {},
   "outputs": [
    {
     "data": {
      "image/png": "[encoded data removed]",
      "text/plain": [
       "<Figure size 432x288 with 1 Axes>"
      ]
     },
     "metadata": {},
     "output_type": "display_data"
    },
    {
     "data": {
      "image/png": "[encoded data removed]",
      "text/plain": [
       "<Figure size 432x288 with 1 Axes>"
      ]
     },
     "metadata": {},
     "output_type": "display_data"
    }
   ],
   "source": [
    "\n",
    "# 5. 분리된 그래프\n",
    "\n",
    "# loss\n",
    "fig, loss_ax = plt.subplots()\n",
    "\n",
    "loss_ax.plot(hist.history['loss'], 'y', label='train loss')\n",
    "loss_ax.plot(hist.history['val_loss'], 'r', label='val loss')\n",
    "\n",
    "loss_ax.set_xlabel('epoch')\n",
    "loss_ax.set_ylabel('loss')\n",
    "\n",
    "loss_ax.legend(loc='upper left')\n",
    "\n",
    "plt.show()\n",
    "\n",
    "# accuray\n",
    "fig, acc_ax = plt.subplots()\n",
    "\n",
    "acc_ax.plot(hist.history['acc'], 'b', label='train acc')\n",
    "acc_ax.plot(hist.history['val_acc'], 'g', label='val acc')\n",
    "\n",
    "loss_ax.set_xlabel('epoch')\n",
    "acc_ax.set_ylabel('accuray')\n",
    "\n",
    "acc_ax.legend(loc='upper left')\n",
    "\n",
    "plt.show()\n"
   ]
  },
  {
   "cell_type": "code",
   "execution_count": 330,
   "metadata": {
    "scrolled": true
   },
   "outputs": [
    {
     "data": {
      "text/plain": [
       "array([[0.        , 0.05776515, 0.85217175, ..., 0.07416437, 0.        ,\n",
       "        1.        ],\n",
       "       [0.        , 0.21440362, 0.92364485, ..., 0.10109309, 0.        ,\n",
       "        0.        ],\n",
       "       [0.        , 0.21440362, 0.89229149, ..., 0.19876986, 0.        ,\n",
       "        0.        ],\n",
       "       ...,\n",
       "       [0.        , 0.21440362, 0.80203268, ..., 0.19876986, 0.        ,\n",
       "        1.        ],\n",
       "       [1.        , 0.21440362, 0.80213942, ..., 0.19876986, 0.        ,\n",
       "        1.        ],\n",
       "       [1.        , 0.21440362, 0.79781884, ..., 0.19876986, 0.        ,\n",
       "        1.        ]])"
      ]
     },
     "execution_count": 330,
     "metadata": {},
     "output_type": "execute_result"
    }
   ],
   "source": [
    "X_train.reshape(-1,X_train.shape[2])"
   ]
  },
  {
   "cell_type": "code",
   "execution_count": null,
   "metadata": {},
   "outputs": [],
   "source": []
  },
  {
   "cell_type": "code",
   "execution_count": null,
   "metadata": {},
   "outputs": [],
   "source": []
  },
  {
   "cell_type": "code",
   "execution_count": null,
   "metadata": {},
   "outputs": [],
   "source": []
  },
  {
   "cell_type": "code",
   "execution_count": null,
   "metadata": {},
   "outputs": [],
   "source": []
  },
  {
   "cell_type": "code",
   "execution_count": null,
   "metadata": {},
   "outputs": [],
   "source": []
  },
  {
   "cell_type": "code",
   "execution_count": null,
   "metadata": {},
   "outputs": [],
   "source": []
  },
  {
   "cell_type": "code",
   "execution_count": null,
   "metadata": {},
   "outputs": [],
   "source": []
  },
  {
   "cell_type": "code",
   "execution_count": null,
   "metadata": {},
   "outputs": [],
   "source": []
  },
  {
   "cell_type": "code",
   "execution_count": null,
   "metadata": {},
   "outputs": [],
   "source": []
  },
  {
   "cell_type": "code",
   "execution_count": null,
   "metadata": {},
   "outputs": [],
   "source": [
    "# 사용한 데이터 검증용 (엑셀 전환 후 비교)"
   ]
  },
  {
   "cell_type": "code",
   "execution_count": 80,
   "metadata": {
    "scrolled": false
   },
   "outputs": [],
   "source": [
    "x_train_df = pd.DataFrame(X_train.reshape(-1,X_train.shape[2]))\n",
    "x_test_df = pd.DataFrame(X_test.reshape(-1,X_test.shape[2]))\n",
    "y_train_df = pd.DataFrame(Y_train)\n",
    "y_test_df = pd.DataFrame(Y_test)"
   ]
  },
  {
   "cell_type": "code",
   "execution_count": 86,
   "metadata": {},
   "outputs": [],
   "source": [
    "train_list = [train_info,y_train_df, x_train_df]\n",
    "test_list = [test_info,y_test_df, x_test_df]\n",
    "\n",
    "result_train = pd.concat(train_list,axis=1) \n",
    "result_test = pd.concat(test_list,axis=1) \n",
    "\n",
    "# 파일 생성\n",
    "result_train.to_csv('./datas/train_check.csv')\n",
    "result_test.to_csv('./datas/test_check.csv')"
   ]
  },
  {
   "cell_type": "code",
   "execution_count": 89,
   "metadata": {},
   "outputs": [
    {
     "data": {
      "text/plain": [
       "array(['DR00000136', '6000201001O0', '6000903016D1', 'FNMKFN02',\n",
       "       '6000901002D1', 'S41000210FD1', '6000207003O0', 'DR00000052',\n",
       "       '6000906001D6', 'DR00000156', '6000901001D3', 'DR00000082',\n",
       "       'S41000210FD2', '6000902001D2', '6000908001D3', '6000904001D3',\n",
       "       '6000908001D2', 'S41B0D1009O0', '6000901002D3', '6000903001D2',\n",
       "       '6000403001O0', 'CO10100170O0', 'DR00000113', '6000908001D7'],\n",
       "      dtype=object)"
      ]
     },
     "execution_count": 89,
     "metadata": {},
     "output_type": "execute_result"
    }
   ],
   "source": [
    "cols = train_set.columns.values\n",
    "cols[3:]"
   ]
  },
  {
   "cell_type": "code",
   "execution_count": null,
   "metadata": {},
   "outputs": [],
   "source": []
  }
 ],
 "metadata": {
  "kernelspec": {
   "display_name": "Python 3",
   "language": "python",
   "name": "python3"
  },
  "language_info": {
   "codemirror_mode": {
    "name": "ipython",
    "version": 3
   },
   "file_extension": ".py",
   "mimetype": "text/x-python",
   "name": "python",
   "nbconvert_exporter": "python",
   "pygments_lexer": "ipython3",
   "version": "3.6.5"
  }
 },
 "nbformat": 4,
 "nbformat_minor": 2
}
