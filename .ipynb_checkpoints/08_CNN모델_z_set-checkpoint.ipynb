{
 "cells": [
  {
   "cell_type": "markdown",
   "metadata": {},
   "source": [
    "## CNN"
   ]
  },
  {
   "cell_type": "markdown",
   "metadata": {},
   "source": [
    "VAE를 통해 차원을 축소한 데이터 사용"
   ]
  },
  {
   "cell_type": "code",
   "execution_count": null,
   "metadata": {},
   "outputs": [],
   "source": []
  },
  {
   "cell_type": "code",
   "execution_count": null,
   "metadata": {},
   "outputs": [],
   "source": []
  },
  {
   "cell_type": "code",
   "execution_count": 162,
   "metadata": {},
   "outputs": [],
   "source": [
    "import pandas as pd\n",
    "import numpy as np\n",
    "from keras.datasets import mnist\n",
    "from keras.utils import np_utils\n",
    "from keras.models import Sequential\n",
    "from keras.layers import Dense, Activation, Conv2D, MaxPooling2D, Flatten, Dropout, BatchNormalization, initializers\n",
    "from keras.optimizers import RMSprop, Adadelta, Adam, SGD, Adagrad\n",
    "from keras.utils import to_categorical\n",
    "import matplotlib.pyplot as plt\n",
    "%matplotlib inline\n",
    "import pickle # 파이썬 객체저장을 위한 모듈"
   ]
  },
  {
   "cell_type": "markdown",
   "metadata": {},
   "source": [
    "## 사전값 셋팅 확인 필수"
   ]
  },
  {
   "cell_type": "code",
   "execution_count": 222,
   "metadata": {},
   "outputs": [],
   "source": [
    "df = 'all'   # 수정필수\n",
    "# core/all/main\n",
    "\n",
    "\n",
    "\n",
    "\n",
    "# core설정시 확인해야 함\n",
    "# R을 통해 확인한 stepwise 유의 변수 리스트\n",
    "core_factors = ['DR00000136','6000201001O0','6000903016D1','FNMKFN02','6000901002D1','S41000210FD1',\n",
    "'6000207003O0','DR00000052','6000906001D6','DR00000156','6000901001D3','DR00000082',\n",
    "'S41000210FD2','6000902001D2','6000908001D3','6000904001D3','6000908001D2','S41B0D1009O0',\n",
    "'6000901002D3','6000903001D2','6000403001O0','CO10100170O0','DR00000113','6000908001D7']\n",
    "\n",
    "#  키별로 비율 배분이 잘 됐는지 확인\n",
    "if df == 'all':\n",
    "    max_idx = 707\n",
    "else:\n",
    "    max_idx = 124\n",
    "    "
   ]
  },
  {
   "cell_type": "code",
   "execution_count": 223,
   "metadata": {},
   "outputs": [],
   "source": [
    "if df == 'all':\n",
    "    file_nm = \"./pickles/vae_all.p\"\n",
    "elif df == 'main':\n",
    "    file_nm = \"./pickles/vae_main.p\"\n",
    "elif df == 'core':\n",
    "    file_nm = \"./pickles/vae_core.p\"\n",
    "\n",
    "#파이썬 객체 읽어오기\n",
    "with open(file_nm, 'rb') as file:  \n",
    "    z_train = pickle.load(file)\n",
    "    z_test = pickle.load(file)\n",
    "    y_train = pickle.load(file)\n",
    "    y_test = pickle.load(file)\n",
    "    train_set = pickle.load(file)\n",
    "    test_set = pickle.load(file)   \n",
    "    "
   ]
  },
  {
   "cell_type": "code",
   "execution_count": 224,
   "metadata": {},
   "outputs": [
    {
     "data": {
      "text/plain": [
       "('all', (755, 32), (333, 32), (755,), (333,))"
      ]
     },
     "execution_count": 224,
     "metadata": {},
     "output_type": "execute_result"
    }
   ],
   "source": [
    "df, z_train.shape, z_test.shape, y_train.shape, y_test.shape"
   ]
  },
  {
   "cell_type": "markdown",
   "metadata": {},
   "source": [
    "### 모델 입력값 설정"
   ]
  },
  {
   "cell_type": "code",
   "execution_count": 225,
   "metadata": {},
   "outputs": [],
   "source": [
    "np.random.seed(42)\n",
    "\n",
    "# 분류갯수\n",
    "classes = 2\n",
    "\n",
    "# 학습데이터\n",
    "img_rows = 1\n",
    "img_cols = z_train.shape[1] \n",
    "\n"
   ]
  },
  {
   "cell_type": "code",
   "execution_count": 226,
   "metadata": {},
   "outputs": [
    {
     "data": {
      "text/plain": [
       "(1, 32)"
      ]
     },
     "execution_count": 226,
     "metadata": {},
     "output_type": "execute_result"
    }
   ],
   "source": [
    "img_rows, img_cols"
   ]
  },
  {
   "cell_type": "code",
   "execution_count": null,
   "metadata": {},
   "outputs": [],
   "source": []
  },
  {
   "cell_type": "markdown",
   "metadata": {},
   "source": [
    "### input shape 변경"
   ]
  },
  {
   "cell_type": "code",
   "execution_count": 227,
   "metadata": {},
   "outputs": [
    {
     "name": "stdout",
     "output_type": "stream",
     "text": [
      "(1, 32, 1)\n"
     ]
    }
   ],
   "source": [
    "# X_train = X_train.reshape(X_train.shape[0], img_rows, img_cols, 1)\n",
    "# X_test = X_test.reshape(X_test.shape[0], img_rows, img_cols, 1)\n",
    "X_train = z_train.reshape(z_train.shape[0], 1, z_train.shape[1], 1) # (1, # of features, # of chnnels) # input.shape[1:끝]\n",
    "X_test = z_test.reshape(z_test.shape[0], 1, z_test.shape[1], 1) # (1, # of features, # of chnnels) # input.shape[1:끝]\n",
    "\n",
    "# 변수명 전환\n",
    "Y_train = y_train\n",
    "Y_test = y_test\n",
    "\n",
    "input_shape= X_train.shape[1:4]\n",
    "print(input_shape)"
   ]
  },
  {
   "cell_type": "code",
   "execution_count": 228,
   "metadata": {},
   "outputs": [
    {
     "data": {
      "text/plain": [
       "32"
      ]
     },
     "execution_count": 228,
     "metadata": {},
     "output_type": "execute_result"
    }
   ],
   "source": [
    "z_train.shape[1]"
   ]
  },
  {
   "cell_type": "code",
   "execution_count": 229,
   "metadata": {},
   "outputs": [],
   "source": [
    "if z_train.shape[1] >= 100:\n",
    "    filter_size = 32    \n",
    "    MaxPool_size  = 4\n",
    "elif z_train.shape[1] >= 50:\n",
    "    filter_size = 8    \n",
    "    MaxPool_size = 4\n",
    "else:\n",
    "    filter_size = input_shape[1]/2    \n",
    "    MaxPool_size = 2 \n"
   ]
  },
  {
   "cell_type": "code",
   "execution_count": 230,
   "metadata": {},
   "outputs": [
    {
     "data": {
      "text/plain": [
       "((755, 2), (333, 2))"
      ]
     },
     "execution_count": 230,
     "metadata": {},
     "output_type": "execute_result"
    }
   ],
   "source": [
    "# Y값을 1개항목에서 카테고리화 함\n",
    "Y_train = to_categorical(y_train, num_classes=classes) # one-hot 인코딩\n",
    "Y_test = to_categorical(y_test, num_classes=classes) # one-hot 인코딩\n",
    "\n",
    "Y_train.shape, Y_test.shape"
   ]
  },
  {
   "cell_type": "markdown",
   "metadata": {},
   "source": [
    "## CNN 모델 설계"
   ]
  },
  {
   "cell_type": "code",
   "execution_count": 231,
   "metadata": {},
   "outputs": [
    {
     "data": {
      "text/plain": [
       "((755, 1, 32, 1), (333, 1, 32, 1), (755, 2), (333, 2))"
      ]
     },
     "execution_count": 231,
     "metadata": {},
     "output_type": "execute_result"
    }
   ],
   "source": [
    "X_train.shape, X_test.shape, Y_train.shape, Y_test.shape"
   ]
  },
  {
   "cell_type": "code",
   "execution_count": 232,
   "metadata": {},
   "outputs": [],
   "source": [
    "filter_size = 4\n"
   ]
  },
  {
   "cell_type": "code",
   "execution_count": 233,
   "metadata": {},
   "outputs": [
    {
     "name": "stdout",
     "output_type": "stream",
     "text": [
      "Train on 604 samples, validate on 151 samples\n",
      "Epoch 1/100\n",
      "604/604 [==============================] - 2s 3ms/step - loss: 0.6110 - acc: 0.7053 - val_loss: 0.9212 - val_acc: 0.0397\n",
      "Epoch 2/100\n",
      "604/604 [==============================] - 0s 69us/step - loss: 0.6002 - acc: 0.7351 - val_loss: 0.9443 - val_acc: 0.0265\n",
      "Epoch 3/100\n",
      "604/604 [==============================] - 0s 66us/step - loss: 0.6021 - acc: 0.7417 - val_loss: 0.9687 - val_acc: 0.0199\n",
      "Epoch 4/100\n",
      "604/604 [==============================] - 0s 84us/step - loss: 0.6119 - acc: 0.7417 - val_loss: 0.9937 - val_acc: 0.0199\n",
      "Epoch 5/100\n",
      "604/604 [==============================] - 0s 76us/step - loss: 0.6042 - acc: 0.7368 - val_loss: 1.0204 - val_acc: 0.0132\n",
      "Epoch 6/100\n",
      "604/604 [==============================] - 0s 81us/step - loss: 0.6020 - acc: 0.7136 - val_loss: 1.0484 - val_acc: 0.0066\n",
      "Epoch 7/100\n",
      "604/604 [==============================] - 0s 73us/step - loss: 0.6077 - acc: 0.7401 - val_loss: 1.0756 - val_acc: 0.0000e+00\n",
      "Epoch 8/100\n",
      "604/604 [==============================] - 0s 112us/step - loss: 0.6035 - acc: 0.7368 - val_loss: 1.0987 - val_acc: 0.0000e+00\n",
      "Epoch 9/100\n",
      "604/604 [==============================] - ETA: 0s - loss: 0.5928 - acc: 0.740 - 0s 92us/step - loss: 0.5909 - acc: 0.7417 - val_loss: 1.1181 - val_acc: 0.0000e+00\n",
      "Epoch 10/100\n",
      "604/604 [==============================] - 0s 102us/step - loss: 0.5894 - acc: 0.7566 - val_loss: 1.1310 - val_acc: 0.0000e+00\n",
      "Epoch 11/100\n",
      "604/604 [==============================] - 0s 83us/step - loss: 0.6053 - acc: 0.7517 - val_loss: 1.1379 - val_acc: 0.0000e+00\n",
      "Epoch 12/100\n",
      "604/604 [==============================] - 0s 91us/step - loss: 0.5822 - acc: 0.7417 - val_loss: 1.1458 - val_acc: 0.0000e+00\n",
      "Epoch 13/100\n",
      "604/604 [==============================] - 0s 78us/step - loss: 0.6004 - acc: 0.7434 - val_loss: 1.1520 - val_acc: 0.0000e+00\n",
      "Epoch 14/100\n",
      "604/604 [==============================] - 0s 84us/step - loss: 0.5900 - acc: 0.7417 - val_loss: 1.1566 - val_acc: 0.0000e+00\n",
      "Epoch 15/100\n",
      "604/604 [==============================] - 0s 83us/step - loss: 0.5816 - acc: 0.7467 - val_loss: 1.1570 - val_acc: 0.0000e+00\n",
      "Epoch 16/100\n",
      "604/604 [==============================] - 0s 92us/step - loss: 0.5824 - acc: 0.7467 - val_loss: 1.1551 - val_acc: 0.0000e+00\n",
      "Epoch 17/100\n",
      "604/604 [==============================] - 0s 96us/step - loss: 0.5847 - acc: 0.7517 - val_loss: 1.1504 - val_acc: 0.0000e+00\n",
      "Epoch 18/100\n",
      "604/604 [==============================] - 0s 86us/step - loss: 0.5891 - acc: 0.7450 - val_loss: 1.1425 - val_acc: 0.0000e+00\n",
      "Epoch 19/100\n",
      "604/604 [==============================] - 0s 88us/step - loss: 0.5875 - acc: 0.7467 - val_loss: 1.1346 - val_acc: 0.0000e+00\n",
      "Epoch 20/100\n",
      "604/604 [==============================] - 0s 71us/step - loss: 0.5716 - acc: 0.7434 - val_loss: 1.1285 - val_acc: 0.0000e+00\n",
      "Epoch 21/100\n",
      "604/604 [==============================] - 0s 81us/step - loss: 0.5779 - acc: 0.7450 - val_loss: 1.1195 - val_acc: 0.0000e+00\n",
      "Epoch 22/100\n",
      "604/604 [==============================] - 0s 69us/step - loss: 0.5624 - acc: 0.7500 - val_loss: 1.1126 - val_acc: 0.0000e+00\n",
      "Epoch 23/100\n",
      "604/604 [==============================] - 0s 74us/step - loss: 0.5790 - acc: 0.7500 - val_loss: 1.1069 - val_acc: 0.0000e+00\n",
      "Epoch 24/100\n",
      "604/604 [==============================] - 0s 73us/step - loss: 0.5926 - acc: 0.7368 - val_loss: 1.0995 - val_acc: 0.0000e+00\n",
      "Epoch 25/100\n",
      "604/604 [==============================] - 0s 76us/step - loss: 0.5868 - acc: 0.7434 - val_loss: 1.0918 - val_acc: 0.0000e+00\n",
      "Epoch 26/100\n",
      "604/604 [==============================] - 0s 84us/step - loss: 0.5800 - acc: 0.7450 - val_loss: 1.0834 - val_acc: 0.0000e+00\n",
      "Epoch 27/100\n",
      "604/604 [==============================] - 0s 64us/step - loss: 0.5844 - acc: 0.7467 - val_loss: 1.0737 - val_acc: 0.0000e+00\n",
      "Epoch 28/100\n",
      "604/604 [==============================] - 0s 71us/step - loss: 0.5878 - acc: 0.7467 - val_loss: 1.0652 - val_acc: 0.0000e+00\n",
      "Epoch 29/100\n",
      "604/604 [==============================] - 0s 73us/step - loss: 0.5848 - acc: 0.7384 - val_loss: 1.0598 - val_acc: 0.0000e+00\n",
      "Epoch 30/100\n",
      "604/604 [==============================] - 0s 61us/step - loss: 0.5748 - acc: 0.7533 - val_loss: 1.0592 - val_acc: 0.0000e+00\n",
      "Epoch 31/100\n",
      "604/604 [==============================] - 0s 78us/step - loss: 0.5744 - acc: 0.7467 - val_loss: 1.0606 - val_acc: 0.0000e+00\n",
      "Epoch 32/100\n",
      "604/604 [==============================] - 0s 76us/step - loss: 0.5666 - acc: 0.7483 - val_loss: 1.0654 - val_acc: 0.0000e+00\n",
      "Epoch 33/100\n",
      "604/604 [==============================] - 0s 78us/step - loss: 0.5891 - acc: 0.7533 - val_loss: 1.0725 - val_acc: 0.0000e+00\n",
      "Epoch 34/100\n",
      "604/604 [==============================] - 0s 79us/step - loss: 0.5700 - acc: 0.7467 - val_loss: 1.0823 - val_acc: 0.0000e+00\n",
      "Epoch 35/100\n",
      "604/604 [==============================] - 0s 102us/step - loss: 0.5725 - acc: 0.7450 - val_loss: 1.0933 - val_acc: 0.0000e+00\n",
      "Epoch 36/100\n",
      "604/604 [==============================] - 0s 78us/step - loss: 0.5677 - acc: 0.7500 - val_loss: 1.1048 - val_acc: 0.0000e+00\n",
      "Epoch 37/100\n",
      "604/604 [==============================] - 0s 76us/step - loss: 0.5671 - acc: 0.7450 - val_loss: 1.1172 - val_acc: 0.0000e+00\n",
      "Epoch 38/100\n",
      "604/604 [==============================] - 0s 91us/step - loss: 0.5619 - acc: 0.7500 - val_loss: 1.1271 - val_acc: 0.0000e+00\n",
      "Epoch 39/100\n",
      "604/604 [==============================] - 0s 81us/step - loss: 0.5578 - acc: 0.7500 - val_loss: 1.1362 - val_acc: 0.0000e+00\n",
      "Epoch 40/100\n",
      "604/604 [==============================] - 0s 121us/step - loss: 0.5561 - acc: 0.7483 - val_loss: 1.1455 - val_acc: 0.0000e+00\n",
      "Epoch 41/100\n",
      "604/604 [==============================] - 0s 88us/step - loss: 0.5704 - acc: 0.7483 - val_loss: 1.1520 - val_acc: 0.0000e+00\n",
      "Epoch 42/100\n",
      "604/604 [==============================] - 0s 162us/step - loss: 0.5668 - acc: 0.7533 - val_loss: 1.1538 - val_acc: 0.0000e+00\n",
      "Epoch 43/100\n",
      "604/604 [==============================] - 0s 84us/step - loss: 0.5710 - acc: 0.7533 - val_loss: 1.1546 - val_acc: 0.0000e+00\n",
      "Epoch 44/100\n",
      "604/604 [==============================] - 0s 111us/step - loss: 0.5699 - acc: 0.7434 - val_loss: 1.1511 - val_acc: 0.0000e+00\n",
      "Epoch 45/100\n",
      "604/604 [==============================] - 0s 89us/step - loss: 0.5776 - acc: 0.7450 - val_loss: 1.1435 - val_acc: 0.0000e+00\n",
      "Epoch 46/100\n",
      "604/604 [==============================] - 0s 81us/step - loss: 0.5618 - acc: 0.7500 - val_loss: 1.1387 - val_acc: 0.0000e+00\n",
      "Epoch 47/100\n",
      "604/604 [==============================] - 0s 94us/step - loss: 0.5644 - acc: 0.7500 - val_loss: 1.1350 - val_acc: 0.0000e+00\n",
      "Epoch 48/100\n",
      "604/604 [==============================] - 0s 79us/step - loss: 0.5535 - acc: 0.7500 - val_loss: 1.1343 - val_acc: 0.0000e+00\n",
      "Epoch 49/100\n",
      "604/604 [==============================] - 0s 89us/step - loss: 0.5450 - acc: 0.7533 - val_loss: 1.1370 - val_acc: 0.0000e+00\n",
      "Epoch 50/100\n",
      "604/604 [==============================] - 0s 117us/step - loss: 0.5518 - acc: 0.7483 - val_loss: 1.1398 - val_acc: 0.0000e+00\n",
      "Epoch 51/100\n",
      "604/604 [==============================] - 0s 116us/step - loss: 0.5548 - acc: 0.7583 - val_loss: 1.1388 - val_acc: 0.0000e+00\n",
      "Epoch 52/100\n",
      "604/604 [==============================] - 0s 99us/step - loss: 0.5565 - acc: 0.7483 - val_loss: 1.1344 - val_acc: 0.0000e+00\n",
      "Epoch 53/100\n",
      "604/604 [==============================] - 0s 122us/step - loss: 0.5738 - acc: 0.7566 - val_loss: 1.1281 - val_acc: 0.0000e+00\n",
      "Epoch 54/100\n",
      "604/604 [==============================] - 0s 89us/step - loss: 0.5662 - acc: 0.7483 - val_loss: 1.1212 - val_acc: 0.0000e+00\n",
      "Epoch 55/100\n",
      "604/604 [==============================] - 0s 114us/step - loss: 0.5719 - acc: 0.7401 - val_loss: 1.1124 - val_acc: 0.0000e+00\n",
      "Epoch 56/100\n",
      "604/604 [==============================] - 0s 76us/step - loss: 0.5686 - acc: 0.7500 - val_loss: 1.1057 - val_acc: 0.0000e+00\n",
      "Epoch 57/100\n",
      "604/604 [==============================] - 0s 142us/step - loss: 0.5647 - acc: 0.7500 - val_loss: 1.1018 - val_acc: 0.0000e+00\n",
      "Epoch 58/100\n",
      "604/604 [==============================] - 0s 79us/step - loss: 0.5530 - acc: 0.7616 - val_loss: 1.0983 - val_acc: 0.0000e+00\n",
      "Epoch 59/100\n"
     ]
    },
    {
     "name": "stdout",
     "output_type": "stream",
     "text": [
      "604/604 [==============================] - 0s 145us/step - loss: 0.5685 - acc: 0.7467 - val_loss: 1.0949 - val_acc: 0.0000e+00\n",
      "Epoch 60/100\n",
      "604/604 [==============================] - 0s 125us/step - loss: 0.5646 - acc: 0.7434 - val_loss: 1.0933 - val_acc: 0.0000e+00\n",
      "Epoch 61/100\n",
      "604/604 [==============================] - 0s 78us/step - loss: 0.5589 - acc: 0.7417 - val_loss: 1.0923 - val_acc: 0.0000e+00\n",
      "Epoch 62/100\n",
      "604/604 [==============================] - 0s 99us/step - loss: 0.5532 - acc: 0.7533 - val_loss: 1.0908 - val_acc: 0.0000e+00\n",
      "Epoch 63/100\n",
      "604/604 [==============================] - 0s 81us/step - loss: 0.5532 - acc: 0.7483 - val_loss: 1.0927 - val_acc: 0.0000e+00\n",
      "Epoch 64/100\n",
      "604/604 [==============================] - 0s 112us/step - loss: 0.5585 - acc: 0.7550 - val_loss: 1.0961 - val_acc: 0.0000e+00\n",
      "Epoch 65/100\n",
      "604/604 [==============================] - 0s 107us/step - loss: 0.5558 - acc: 0.7467 - val_loss: 1.0986 - val_acc: 0.0000e+00\n",
      "Epoch 66/100\n",
      "604/604 [==============================] - 0s 109us/step - loss: 0.5667 - acc: 0.7450 - val_loss: 1.1014 - val_acc: 0.0000e+00\n",
      "Epoch 67/100\n",
      "604/604 [==============================] - 0s 117us/step - loss: 0.5622 - acc: 0.7517 - val_loss: 1.1028 - val_acc: 0.0000e+00\n",
      "Epoch 68/100\n",
      "604/604 [==============================] - 0s 155us/step - loss: 0.5637 - acc: 0.7533 - val_loss: 1.1028 - val_acc: 0.0000e+00\n",
      "Epoch 69/100\n",
      "604/604 [==============================] - 0s 81us/step - loss: 0.5657 - acc: 0.7351 - val_loss: 1.1014 - val_acc: 0.0000e+00\n",
      "Epoch 70/100\n",
      "604/604 [==============================] - 0s 129us/step - loss: 0.5495 - acc: 0.7417 - val_loss: 1.0993 - val_acc: 0.0000e+00\n",
      "Epoch 71/100\n",
      "604/604 [==============================] - 0s 91us/step - loss: 0.5585 - acc: 0.7417 - val_loss: 1.0969 - val_acc: 0.0000e+00\n",
      "Epoch 72/100\n",
      "604/604 [==============================] - 0s 102us/step - loss: 0.5493 - acc: 0.7517 - val_loss: 1.0950 - val_acc: 0.0000e+00\n",
      "Epoch 73/100\n",
      "604/604 [==============================] - 0s 91us/step - loss: 0.5568 - acc: 0.7517 - val_loss: 1.0956 - val_acc: 0.0000e+00\n",
      "Epoch 74/100\n",
      "604/604 [==============================] - 0s 101us/step - loss: 0.5606 - acc: 0.7517 - val_loss: 1.0958 - val_acc: 0.0000e+00\n",
      "Epoch 75/100\n",
      "604/604 [==============================] - 0s 111us/step - loss: 0.5463 - acc: 0.7450 - val_loss: 1.0978 - val_acc: 0.0000e+00\n",
      "Epoch 76/100\n",
      "604/604 [==============================] - 0s 96us/step - loss: 0.5569 - acc: 0.7483 - val_loss: 1.1022 - val_acc: 0.0000e+00\n",
      "Epoch 77/100\n",
      "604/604 [==============================] - ETA: 0s - loss: 0.5290 - acc: 0.764 - 0s 104us/step - loss: 0.5491 - acc: 0.7483 - val_loss: 1.1062 - val_acc: 0.0000e+00\n",
      "Epoch 78/100\n",
      "604/604 [==============================] - 0s 78us/step - loss: 0.5489 - acc: 0.7649 - val_loss: 1.1059 - val_acc: 0.0000e+00\n",
      "Epoch 79/100\n",
      "604/604 [==============================] - 0s 132us/step - loss: 0.5540 - acc: 0.7434 - val_loss: 1.1028 - val_acc: 0.0000e+00\n",
      "Epoch 80/100\n",
      "604/604 [==============================] - 0s 125us/step - loss: 0.5526 - acc: 0.7483 - val_loss: 1.1019 - val_acc: 0.0000e+00\n",
      "Epoch 81/100\n",
      "604/604 [==============================] - 0s 89us/step - loss: 0.5519 - acc: 0.7517 - val_loss: 1.1042 - val_acc: 0.0000e+00\n",
      "Epoch 82/100\n",
      "604/604 [==============================] - 0s 101us/step - loss: 0.5523 - acc: 0.7533 - val_loss: 1.1070 - val_acc: 0.0000e+00\n",
      "Epoch 83/100\n",
      "604/604 [==============================] - 0s 94us/step - loss: 0.5415 - acc: 0.7616 - val_loss: 1.1096 - val_acc: 0.0000e+00\n",
      "Epoch 84/100\n",
      "604/604 [==============================] - 0s 99us/step - loss: 0.5567 - acc: 0.7434 - val_loss: 1.1122 - val_acc: 0.0000e+00\n",
      "Epoch 85/100\n",
      "604/604 [==============================] - 0s 88us/step - loss: 0.5632 - acc: 0.7351 - val_loss: 1.1151 - val_acc: 0.0000e+00\n",
      "Epoch 86/100\n",
      "604/604 [==============================] - 0s 104us/step - loss: 0.5326 - acc: 0.7699 - val_loss: 1.1181 - val_acc: 0.0000e+00\n",
      "Epoch 87/100\n",
      "604/604 [==============================] - 0s 86us/step - loss: 0.5402 - acc: 0.7599 - val_loss: 1.1206 - val_acc: 0.0000e+00\n",
      "Epoch 88/100\n",
      "604/604 [==============================] - 0s 150us/step - loss: 0.5546 - acc: 0.7616 - val_loss: 1.1220 - val_acc: 0.0000e+00\n",
      "Epoch 89/100\n",
      "604/604 [==============================] - 0s 83us/step - loss: 0.5582 - acc: 0.7483 - val_loss: 1.1190 - val_acc: 0.0000e+00\n",
      "Epoch 90/100\n",
      "604/604 [==============================] - 0s 92us/step - loss: 0.5598 - acc: 0.7500 - val_loss: 1.1135 - val_acc: 0.0000e+00\n",
      "Epoch 91/100\n",
      "604/604 [==============================] - 0s 88us/step - loss: 0.5506 - acc: 0.7616 - val_loss: 1.1093 - val_acc: 0.0000e+00\n",
      "Epoch 92/100\n",
      "604/604 [==============================] - 0s 94us/step - loss: 0.5468 - acc: 0.7583 - val_loss: 1.1087 - val_acc: 0.0000e+00\n",
      "Epoch 93/100\n",
      "604/604 [==============================] - 0s 116us/step - loss: 0.5550 - acc: 0.7599 - val_loss: 1.1117 - val_acc: 0.0000e+00\n",
      "Epoch 94/100\n",
      "604/604 [==============================] - 0s 109us/step - loss: 0.5375 - acc: 0.7566 - val_loss: 1.1157 - val_acc: 0.0000e+00\n",
      "Epoch 95/100\n",
      "604/604 [==============================] - 0s 79us/step - loss: 0.5550 - acc: 0.7500 - val_loss: 1.1201 - val_acc: 0.0000e+00\n",
      "Epoch 96/100\n",
      "604/604 [==============================] - 0s 79us/step - loss: 0.5508 - acc: 0.7500 - val_loss: 1.1238 - val_acc: 0.0000e+00\n",
      "Epoch 97/100\n",
      "604/604 [==============================] - 0s 83us/step - loss: 0.5408 - acc: 0.7483 - val_loss: 1.1269 - val_acc: 0.0000e+00\n",
      "Epoch 98/100\n",
      "604/604 [==============================] - 0s 83us/step - loss: 0.5331 - acc: 0.7649 - val_loss: 1.1268 - val_acc: 0.0000e+00\n",
      "Epoch 99/100\n",
      "604/604 [==============================] - 0s 78us/step - loss: 0.5284 - acc: 0.7550 - val_loss: 1.1222 - val_acc: 0.0000e+00\n",
      "Epoch 100/100\n",
      "604/604 [==============================] - 0s 74us/step - loss: 0.5509 - acc: 0.7583 - val_loss: 1.1174 - val_acc: 0.0000e+00\n"
     ]
    }
   ],
   "source": [
    "\n",
    "\n",
    "# 1. 모델구성\n",
    "model = Sequential()\n",
    "\n",
    "model.add(Conv2D(filter_size, (1, 2), input_shape = X_train.shape[1:4], activation = 'elu', padding='same')) # 2D (1, 4) size 필터\n",
    "model.add(Activation('relu'))\n",
    "\n",
    "model.add(Conv2D(filter_size, (1, 2), padding='same'))\n",
    "model.add(Activation('relu'))\n",
    "model.add(MaxPooling2D((1, 2)))\n",
    "model.add(Dropout(0.25))\n",
    "\n",
    "model.add(Conv2D(filter_size, (1, 2), padding='same'))\n",
    "model.add(Activation('relu'))\n",
    "\n",
    "model.add(Conv2D(filter_size, (1, 2)))\n",
    "model.add(Activation('relu'))\n",
    "model.add(MaxPooling2D((1, 2)))\n",
    "model.add(Dropout(0.25))\n",
    "\n",
    "model.add(Flatten())\n",
    "model.add(Dense(classes, activation = 'softmax'))# 마지막 class 분류\n",
    "\n",
    "# 2. 모델 학습과정 설정하기\n",
    "model.compile(loss = 'categorical_crossentropy', optimizer = 'adam', metrics = ['accuracy'])\n",
    "\n",
    "\n",
    "# 3. 모델 학습시키기\n",
    "hist = model.fit(X_train, Y_train, batch_size = 500, epochs = 100, verbose = 1, validation_split = .2)\n",
    "\n"
   ]
  },
  {
   "cell_type": "code",
   "execution_count": 234,
   "metadata": {
    "scrolled": true
   },
   "outputs": [
    {
     "data": {
      "image/png": "[encoded data removed]",
      "text/plain": [
       "<Figure size 432x288 with 2 Axes>"
      ]
     },
     "metadata": {},
     "output_type": "display_data"
    },
    {
     "name": "stdout",
     "output_type": "stream",
     "text": [
      "755/755 [==============================] - 0s 91us/step\n",
      "Train score: 0.6422\n",
      "Train accuracy: 0.6040\n",
      "333/333 [==============================] - 0s 129us/step\n",
      "Test score: 0.6550\n",
      "Test accuracy: 0.6006\n"
     ]
    }
   ],
   "source": [
    "\n",
    "# 4. 학습과정 살펴보기(그래프)\n",
    "fig, loss_ax = plt.subplots()\n",
    "acc_ax = loss_ax.twinx()\n",
    "\n",
    "loss_ax.plot(hist.history['loss'], 'y', label='train loss')\n",
    "loss_ax.plot(hist.history['val_loss'], 'r', label='val loss')\n",
    "\n",
    "acc_ax.plot(hist.history['acc'], 'b', label='train acc')\n",
    "acc_ax.plot(hist.history['val_acc'], 'g', label='val acc')\n",
    "\n",
    "loss_ax.set_xlabel('epoch')\n",
    "loss_ax.set_ylabel('loss')\n",
    "acc_ax.set_ylabel('accuray')\n",
    "\n",
    "loss_ax.legend(loc='upper left')\n",
    "acc_ax.legend(loc='lower left')\n",
    "\n",
    "plt.show()\n",
    "\n",
    "\n",
    "# 5. 모델 평가하기 - 테스트셋\n",
    "'''\n",
    "score는 비용함수에 대한 평가값\n",
    "'''\n",
    "\n",
    "score = model.evaluate(X_train, Y_train, verbose=1)\n",
    "print('Train score: {:.4f}'.format(score[0]))\n",
    "print('Train accuracy: {:.4f}'.format(score[1]))\n",
    "\n",
    "\n",
    "score = model.evaluate(X_test, Y_test, verbose=1)\n",
    "print('Test score: {:.4f}'.format(score[0]))\n",
    "print('Test accuracy: {:.4f}'.format(score[1]))\n",
    "\n",
    "# model.evaluate ; 손실 값을 계산하는 데 사용\n",
    "# model.predict_classes() ; 범주 출력을 계산하는 데 사용\n",
    "# model.predict_proba() ; 범주 확률을 계산하는 데 사용\n"
   ]
  },
  {
   "cell_type": "code",
   "execution_count": 235,
   "metadata": {},
   "outputs": [
    {
     "data": {
      "image/png": "[encoded data removed]",
      "text/plain": [
       "<Figure size 432x288 with 1 Axes>"
      ]
     },
     "metadata": {},
     "output_type": "display_data"
    },
    {
     "data": {
      "image/png": "[encoded data removed]",
      "text/plain": [
       "<Figure size 432x288 with 1 Axes>"
      ]
     },
     "metadata": {},
     "output_type": "display_data"
    }
   ],
   "source": [
    "\n",
    "# 5. 분리된 그래프\n",
    "\n",
    "# loss\n",
    "fig, loss_ax = plt.subplots()\n",
    "\n",
    "loss_ax.plot(hist.history['loss'], 'y', label='train loss')\n",
    "loss_ax.plot(hist.history['val_loss'], 'r', label='val loss')\n",
    "\n",
    "loss_ax.set_xlabel('epoch')\n",
    "loss_ax.set_ylabel('loss')\n",
    "\n",
    "loss_ax.legend(loc='upper left')\n",
    "\n",
    "plt.show()\n",
    "\n",
    "# accuray\n",
    "fig, acc_ax = plt.subplots()\n",
    "\n",
    "acc_ax.plot(hist.history['acc'], 'b', label='train acc')\n",
    "acc_ax.plot(hist.history['val_acc'], 'g', label='val acc')\n",
    "\n",
    "loss_ax.set_xlabel('epoch')\n",
    "acc_ax.set_ylabel('accuray')\n",
    "\n",
    "acc_ax.legend(loc='upper left')\n",
    "\n",
    "plt.show()\n"
   ]
  },
  {
   "cell_type": "code",
   "execution_count": null,
   "metadata": {},
   "outputs": [],
   "source": []
  },
  {
   "cell_type": "code",
   "execution_count": null,
   "metadata": {},
   "outputs": [],
   "source": []
  }
 ],
 "metadata": {
  "kernelspec": {
   "display_name": "Python 3",
   "language": "python",
   "name": "python3"
  },
  "language_info": {
   "codemirror_mode": {
    "name": "ipython",
    "version": 3
   },
   "file_extension": ".py",
   "mimetype": "text/x-python",
   "name": "python",
   "nbconvert_exporter": "python",
   "pygments_lexer": "ipython3",
   "version": "3.6.5"
  }
 },
 "nbformat": 4,
 "nbformat_minor": 2
}
