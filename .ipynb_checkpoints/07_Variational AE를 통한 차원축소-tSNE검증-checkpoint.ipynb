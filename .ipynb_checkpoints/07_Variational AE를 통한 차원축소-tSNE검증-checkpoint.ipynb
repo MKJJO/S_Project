{
 "cells": [
  {
   "cell_type": "markdown",
   "metadata": {},
   "source": [
    "## Variational AutoEncoder"
   ]
  },
  {
   "cell_type": "markdown",
   "metadata": {},
   "source": [
    "### <차원의 저주>\n",
    "\n",
    "차원이 증가하면 그것을 표현하기 위한 데이터의 수가 기하급수적으로 증가한다.\n",
    "\n",
    "(일정 차원이 넘으면 분류기의 성능은 점점 떨어져 0으로 수렴함)"
   ]
  },
  {
   "cell_type": "markdown",
   "metadata": {},
   "source": [
    "AE는 입력값보다 작은 차원을 갖는 hidden layer를 이용해 데이터 속에 숨어있는 변수를 발굴할 수 있게 해준다.\n",
    "\n",
    "흔히 사용되는 PCA는 선형적인 한계가 있다. 하지만 AE는 뉴런이 갖고 있는 non-linear 및 constraints로 인해 훨씬 뛰어난 차원 축소 능력을 가지고 있다.\n"
   ]
  },
  {
   "cell_type": "markdown",
   "metadata": {},
   "source": [
    "### <VAE와 AE의 차이>\n",
    "\n",
    "VAE는 AE와 비슷하지만 약간 다른점이 존재한다. z가 training data와 특별이 관련이 없이 단순히 계산 중간에 나오는 한 값일 뿐이라면 VAE에서의 latent variable인 z는 continouous한 분포를 갖는 random variable이라는 점이 중요한 차이다. 이 latent variable z의 분포는 training 과정에서의 data로부터 학습된다.\n",
    "(즉, VAE는 z를 좀 더 다루기 쉬운 우리가 잘 아는 분포(가우시안)의 형태를 띄게 만들어 지는 것\n",
    "\n",
    "결론적으로, AE와 다른 점은 z 하나하나를 \"모으고\", \"흔들어서\", z 공간을 더 촘촘히 채워줘서 더 유용한 z 공간을 만든다는 것"
   ]
  },
  {
   "cell_type": "markdown",
   "metadata": {},
   "source": [
    "http://blog.naver.com/PostView.nhn?blogId=laonple&logNo=220880813236&parentCategoryNo=&categoryNo=18&viewDate=&isShowPopularPosts=true&from=search"
   ]
  },
  {
   "cell_type": "markdown",
   "metadata": {},
   "source": [
    "### < PCA vs VAE vs GAN >\n",
    "\n",
    "https://spark-in.me/post/playing-with-vae-umap-pca"
   ]
  },
  {
   "cell_type": "markdown",
   "metadata": {},
   "source": [
    "### <VAE 소스 출처>"
   ]
  },
  {
   "cell_type": "markdown",
   "metadata": {},
   "source": [
    "http://nbviewer.jupyter.org/github/rickiepark/deep-learning-with-python-notebooks/blob/master/8.4-generating-images-with-vaes.ipynb"
   ]
  },
  {
   "cell_type": "code",
   "execution_count": null,
   "metadata": {},
   "outputs": [],
   "source": []
  },
  {
   "cell_type": "code",
   "execution_count": 288,
   "metadata": {},
   "outputs": [],
   "source": [
    "import keras\n",
    "from keras import layers\n",
    "from keras import backend as K\n",
    "from keras.models import Model\n",
    "import numpy as np\n"
   ]
  },
  {
   "cell_type": "markdown",
   "metadata": {},
   "source": [
    "## 1. 사전 변경값 확인"
   ]
  },
  {
   "cell_type": "code",
   "execution_count": 626,
   "metadata": {},
   "outputs": [],
   "source": [
    "# 구분 최초 설정 필요\n",
    "\n",
    "df = 'all'\n",
    "target_temp_df = 'Y'  # 정상:부실의 데이터 비율을 맞추기 위한 데이터셋을 사용할 건지 여부 (데이터스케일링 쥬피터 결과 기준)\n",
    "\n",
    "# main/all/core 3가지로 설정 \n",
    "\n",
    "\n",
    "\n",
    "\n",
    "# core설정시 확인해야 함\n",
    "# R을 통해 확인한 stepwise 유의 변수 리스트\n",
    "core_factors = ['DR00000136','6000201001O0','6000903016D1','FNMKFN02','6000901002D1','S41000210FD1',\n",
    "'6000207003O0','DR00000052','6000906001D6','DR00000156','6000901001D3','DR00000082',\n",
    "'S41000210FD2','6000902001D2','6000908001D3','6000904001D3','6000908001D2','S41B0D1009O0',\n",
    "'6000901002D3','6000903001D2','6000403001O0','CO10100170O0','DR00000113','6000908001D7']\n",
    "\n",
    "#  키별로 비율 배분이 잘 됐는지 확인\n",
    "if df == 'all':\n",
    "    max_idx = 707\n",
    "else:\n",
    "    max_idx = 123\n",
    "    "
   ]
  },
  {
   "cell_type": "code",
   "execution_count": null,
   "metadata": {},
   "outputs": [],
   "source": []
  },
  {
   "cell_type": "markdown",
   "metadata": {},
   "source": [
    "## 2. 데이터셋 셋팅"
   ]
  },
  {
   "cell_type": "code",
   "execution_count": 627,
   "metadata": {},
   "outputs": [],
   "source": [
    "import pickle # 파이썬 객체저장을 위한 모듈\n",
    "\n",
    "# 파이썬 객체 읽어오기\n",
    "\n",
    "if target_temp_df != 'Y':\n",
    "    if df == 'all':\n",
    "        with open('./pickles/dataset_all.p', 'rb') as file:    # hello.txt 파일을 바이너리 읽기 모드(rb)로 열기\n",
    "            train_set = pickle.load(file)\n",
    "            test_set = pickle.load(file)\n",
    "    else:\n",
    "        with open('./pickles/dataset_main.p', 'rb') as file:    # hello.txt 파일을 바이너리 읽기 모드(rb)로 열기\n",
    "            train_set = pickle.load(file)\n",
    "            test_set = pickle.load(file)\n",
    "else:\n",
    "# 정상:부실의 데이터 비율 조정 기준\n",
    "    if df == 'all':\n",
    "        with open('./pickles/data6vs4_all.p', 'rb') as file:    # hello.txt 파일을 바이너리 읽기 모드(rb)로 열기\n",
    "            temp_train_set = pickle.load(file)\n",
    "            temp_test_set = pickle.load(file)\n",
    "            af_cols = pickle.load(file)\n",
    "    else:\n",
    "        with open('./pickles/data6vs4_main.p', 'rb') as file:    # hello.txt 파일을 바이너리 읽기 모드(rb)로 열기\n",
    "            temp_train_set = pickle.load(file)\n",
    "            temp_test_set = pickle.load(file)\n",
    "            af_cols = pickle.load(file)\n",
    "            \n",
    "# 필요없는 열 삭제\n",
    "train_set = temp_train_set.drop(['index', 0, max_idx-1,max_idx],axis=1)  # 열삭제\n",
    "test_set = temp_test_set.drop(['index', 0, max_idx-1,max_idx],axis=1)  # 열삭제\n",
    "\n",
    "\n",
    "# 항목명 (열명) 셋팅\n",
    "factor_cols = list(af_cols[1:-2])\n",
    "train_set.columns = factor_cols\n",
    "test_set.columns = factor_cols\n"
   ]
  },
  {
   "cell_type": "code",
   "execution_count": 628,
   "metadata": {},
   "outputs": [],
   "source": [
    "# core인 경우 main에서 핵심 변수만 추림\n",
    "\n",
    "if df == 'core':\n",
    "    final_factors = ['key', 'industry', 'label']\n",
    "    final_factors = final_factors + core_factors\n",
    "    train_set = train_set[final_factors]\n",
    "    test_set = test_set[final_factors]\n",
    "else:\n",
    "    pass"
   ]
  },
  {
   "cell_type": "code",
   "execution_count": 629,
   "metadata": {},
   "outputs": [
    {
     "data": {
      "text/plain": [
       "('all', (755, 705), (333, 705))"
      ]
     },
     "execution_count": 629,
     "metadata": {},
     "output_type": "execute_result"
    }
   ],
   "source": [
    "df, train_set.shape, test_set.shape"
   ]
  },
  {
   "cell_type": "markdown",
   "metadata": {},
   "source": [
    "### 데이터 분리 및 타입변경"
   ]
  },
  {
   "cell_type": "code",
   "execution_count": 630,
   "metadata": {},
   "outputs": [],
   "source": [
    "# 데이터 분리\n",
    "cols = train_set.columns.values\n",
    "train_info = train_set[cols[0:3]]\n",
    "X_train = train_set[cols[3:]]\n",
    "Y_train = train_set['label']\n",
    "train_len = X_train.shape[0]\n",
    "\n",
    "cols = test_set.columns.values\n",
    "test_info = test_set[cols[0:3]]\n",
    "X_test = test_set[cols[3:]]\n",
    "Y_test = test_set['label']\n",
    "test_len = X_test.shape[0]"
   ]
  },
  {
   "cell_type": "code",
   "execution_count": 631,
   "metadata": {
    "scrolled": true
   },
   "outputs": [
    {
     "data": {
      "text/plain": [
       "((755, 702), (755,))"
      ]
     },
     "execution_count": 631,
     "metadata": {},
     "output_type": "execute_result"
    }
   ],
   "source": [
    "X_train.shape, Y_train.shape"
   ]
  },
  {
   "cell_type": "code",
   "execution_count": 632,
   "metadata": {},
   "outputs": [
    {
     "data": {
      "text/html": [
       "<div>\n",
       "<style scoped>\n",
       "    .dataframe tbody tr th:only-of-type {\n",
       "        vertical-align: middle;\n",
       "    }\n",
       "\n",
       "    .dataframe tbody tr th {\n",
       "        vertical-align: top;\n",
       "    }\n",
       "\n",
       "    .dataframe thead th {\n",
       "        text-align: right;\n",
       "    }\n",
       "</style>\n",
       "<table border=\"1\" class=\"dataframe\">\n",
       "  <thead>\n",
       "    <tr style=\"text-align: right;\">\n",
       "      <th></th>\n",
       "      <th>S430000600O0</th>\n",
       "      <th>3001104004O0</th>\n",
       "      <th>3001212005O0</th>\n",
       "      <th>3001403004O0</th>\n",
       "      <th>3001111005O0</th>\n",
       "      <th>S430000100O0</th>\n",
       "      <th>3001104004J0</th>\n",
       "      <th>3001403004J0</th>\n",
       "      <th>3001111005J0</th>\n",
       "      <th>6000901001O0</th>\n",
       "      <th>...</th>\n",
       "      <th>DR00000157</th>\n",
       "      <th>DR00000158</th>\n",
       "      <th>DR00000159</th>\n",
       "      <th>DR00000160</th>\n",
       "      <th>DR00000161</th>\n",
       "      <th>DR00000162</th>\n",
       "      <th>DR00000163</th>\n",
       "      <th>DR00000164</th>\n",
       "      <th>DR00000165</th>\n",
       "      <th>DR00000166</th>\n",
       "    </tr>\n",
       "  </thead>\n",
       "  <tbody>\n",
       "    <tr>\n",
       "      <th>0</th>\n",
       "      <td>10.2437</td>\n",
       "      <td>2.96982</td>\n",
       "      <td>2.88132</td>\n",
       "      <td>2.84527</td>\n",
       "      <td>-0.456624</td>\n",
       "      <td>2.22591</td>\n",
       "      <td>-0.00312026</td>\n",
       "      <td>0.00763451</td>\n",
       "      <td>-0.488002</td>\n",
       "      <td>17.6098</td>\n",
       "      <td>...</td>\n",
       "      <td>1</td>\n",
       "      <td>0</td>\n",
       "      <td>1</td>\n",
       "      <td>0</td>\n",
       "      <td>0</td>\n",
       "      <td>0</td>\n",
       "      <td>0</td>\n",
       "      <td>1</td>\n",
       "      <td>0</td>\n",
       "      <td>0</td>\n",
       "    </tr>\n",
       "    <tr>\n",
       "      <th>1</th>\n",
       "      <td>11.3082</td>\n",
       "      <td>2.96982</td>\n",
       "      <td>2.88132</td>\n",
       "      <td>2.84527</td>\n",
       "      <td>-1.88693</td>\n",
       "      <td>2.22591</td>\n",
       "      <td>-0.00359014</td>\n",
       "      <td>-0.000912187</td>\n",
       "      <td>0.301502</td>\n",
       "      <td>18.0805</td>\n",
       "      <td>...</td>\n",
       "      <td>1</td>\n",
       "      <td>0</td>\n",
       "      <td>3</td>\n",
       "      <td>0</td>\n",
       "      <td>0</td>\n",
       "      <td>0</td>\n",
       "      <td>0</td>\n",
       "      <td>0</td>\n",
       "      <td>0</td>\n",
       "      <td>0</td>\n",
       "    </tr>\n",
       "    <tr>\n",
       "      <th>2</th>\n",
       "      <td>10.7966</td>\n",
       "      <td>2.96982</td>\n",
       "      <td>2.88132</td>\n",
       "      <td>2.84527</td>\n",
       "      <td>-1.88693</td>\n",
       "      <td>2.22591</td>\n",
       "      <td>0.00687726</td>\n",
       "      <td>0.000272504</td>\n",
       "      <td>-1.69078e-05</td>\n",
       "      <td>17.4047</td>\n",
       "      <td>...</td>\n",
       "      <td>1</td>\n",
       "      <td>0</td>\n",
       "      <td>3</td>\n",
       "      <td>0</td>\n",
       "      <td>0</td>\n",
       "      <td>0</td>\n",
       "      <td>0</td>\n",
       "      <td>1</td>\n",
       "      <td>0</td>\n",
       "      <td>0</td>\n",
       "    </tr>\n",
       "    <tr>\n",
       "      <th>3</th>\n",
       "      <td>13.7269</td>\n",
       "      <td>2.96982</td>\n",
       "      <td>2.88132</td>\n",
       "      <td>2.84527</td>\n",
       "      <td>-1.88693</td>\n",
       "      <td>-0.851603</td>\n",
       "      <td>-0.00309731</td>\n",
       "      <td>0.00171106</td>\n",
       "      <td>0.333241</td>\n",
       "      <td>21.19</td>\n",
       "      <td>...</td>\n",
       "      <td>1</td>\n",
       "      <td>0</td>\n",
       "      <td>1</td>\n",
       "      <td>0</td>\n",
       "      <td>0</td>\n",
       "      <td>0</td>\n",
       "      <td>0</td>\n",
       "      <td>0</td>\n",
       "      <td>0</td>\n",
       "      <td>0</td>\n",
       "    </tr>\n",
       "    <tr>\n",
       "      <th>4</th>\n",
       "      <td>9.76709</td>\n",
       "      <td>2.96982</td>\n",
       "      <td>2.88132</td>\n",
       "      <td>2.84527</td>\n",
       "      <td>-0.456624</td>\n",
       "      <td>2.22591</td>\n",
       "      <td>-0.00312026</td>\n",
       "      <td>-0.00937427</td>\n",
       "      <td>-0.407663</td>\n",
       "      <td>19.272</td>\n",
       "      <td>...</td>\n",
       "      <td>1</td>\n",
       "      <td>0</td>\n",
       "      <td>3</td>\n",
       "      <td>0</td>\n",
       "      <td>1</td>\n",
       "      <td>1</td>\n",
       "      <td>0</td>\n",
       "      <td>1</td>\n",
       "      <td>0</td>\n",
       "      <td>0</td>\n",
       "    </tr>\n",
       "  </tbody>\n",
       "</table>\n",
       "<p>5 rows × 702 columns</p>\n",
       "</div>"
      ],
      "text/plain": [
       "  S430000600O0 3001104004O0 3001212005O0 3001403004O0 3001111005O0  \\\n",
       "0      10.2437      2.96982      2.88132      2.84527    -0.456624   \n",
       "1      11.3082      2.96982      2.88132      2.84527     -1.88693   \n",
       "2      10.7966      2.96982      2.88132      2.84527     -1.88693   \n",
       "3      13.7269      2.96982      2.88132      2.84527     -1.88693   \n",
       "4      9.76709      2.96982      2.88132      2.84527    -0.456624   \n",
       "\n",
       "  S430000100O0 3001104004J0 3001403004J0 3001111005J0 6000901001O0    ...      \\\n",
       "0      2.22591  -0.00312026   0.00763451    -0.488002      17.6098    ...       \n",
       "1      2.22591  -0.00359014 -0.000912187     0.301502      18.0805    ...       \n",
       "2      2.22591   0.00687726  0.000272504 -1.69078e-05      17.4047    ...       \n",
       "3    -0.851603  -0.00309731   0.00171106     0.333241        21.19    ...       \n",
       "4      2.22591  -0.00312026  -0.00937427    -0.407663       19.272    ...       \n",
       "\n",
       "  DR00000157 DR00000158 DR00000159 DR00000160 DR00000161 DR00000162  \\\n",
       "0          1          0          1          0          0          0   \n",
       "1          1          0          3          0          0          0   \n",
       "2          1          0          3          0          0          0   \n",
       "3          1          0          1          0          0          0   \n",
       "4          1          0          3          0          1          1   \n",
       "\n",
       "  DR00000163 DR00000164 DR00000165 DR00000166  \n",
       "0          0          1          0          0  \n",
       "1          0          0          0          0  \n",
       "2          0          1          0          0  \n",
       "3          0          0          0          0  \n",
       "4          0          1          0          0  \n",
       "\n",
       "[5 rows x 702 columns]"
      ]
     },
     "execution_count": 632,
     "metadata": {},
     "output_type": "execute_result"
    }
   ],
   "source": [
    "X_train.head()"
   ]
  },
  {
   "cell_type": "code",
   "execution_count": 633,
   "metadata": {},
   "outputs": [],
   "source": [
    "X_train = np.array(X_train)\n",
    "X_test = np.array(X_test)"
   ]
  },
  {
   "cell_type": "markdown",
   "metadata": {},
   "source": [
    "### MIN MAX 스케일 조정\n",
    "스케일링 하는 이유 : 데이터가 0~1이 아닐 경우 loss가 마이너스로 계산됨. 학습이 정상적이지 않을 수 있음.\n",
    "\n",
    "다른 딥러닝 모델에서도 이미지 학습시 /255 처리하는 이유"
   ]
  },
  {
   "cell_type": "code",
   "execution_count": 634,
   "metadata": {},
   "outputs": [
    {
     "name": "stderr",
     "output_type": "stream",
     "text": [
      "C:\\ProgramData\\Anaconda3\\envs\\tensorflow\\lib\\site-packages\\sklearn\\utils\\validation.py:475: DataConversionWarning: Data with input dtype object was converted to float64 by MinMaxScaler.\n",
      "  warnings.warn(msg, DataConversionWarning)\n"
     ]
    }
   ],
   "source": [
    "# 데이터 스케일 조정 (MinMax)\n",
    "# 재작업시 위에 실행 후 처리하기\n",
    "\n",
    "from sklearn.preprocessing import MinMaxScaler\n",
    "\n",
    "scaler = MinMaxScaler(feature_range=(0, 1))\n",
    "scaler.fit_transform(X_train)\n",
    "X_train = scaler.fit_transform(X_train)\n",
    "X_test = scaler.fit_transform(X_test)"
   ]
  },
  {
   "cell_type": "code",
   "execution_count": null,
   "metadata": {},
   "outputs": [],
   "source": []
  },
  {
   "cell_type": "code",
   "execution_count": 635,
   "metadata": {},
   "outputs": [
    {
     "data": {
      "text/plain": [
       "(755, 702)"
      ]
     },
     "execution_count": 635,
     "metadata": {},
     "output_type": "execute_result"
    }
   ],
   "source": [
    "X_train.shape"
   ]
  },
  {
   "cell_type": "code",
   "execution_count": 636,
   "metadata": {},
   "outputs": [
    {
     "data": {
      "text/plain": [
       "(1, 702, 1)"
      ]
     },
     "execution_count": 636,
     "metadata": {},
     "output_type": "execute_result"
    }
   ],
   "source": [
    "X_train[0].reshape(1, X_train.shape[1], 1).shape"
   ]
  },
  {
   "cell_type": "code",
   "execution_count": null,
   "metadata": {},
   "outputs": [],
   "source": []
  },
  {
   "cell_type": "markdown",
   "metadata": {},
   "source": [
    "## 3. VAE 모델링"
   ]
  },
  {
   "cell_type": "markdown",
   "metadata": {},
   "source": [
    "다음 코드는 이미지를 잠재 공간 상의 확률 분포 파라미터로 매핑하는 인코더 네트워크입니다. 입력 이미지 x를 두 벡터 z_mean과 z_log_var로 매핑하는 간단한 컨브넷입니다."
   ]
  },
  {
   "cell_type": "markdown",
   "metadata": {},
   "source": [
    "\n",
    "<오류케이스>\n",
    "\n",
    "\n",
    "- 2차원 행렬 데이터의 경우, slide 사이즈 (1, ?) 형태가 되어야 함\n",
    "    해당오류 : InvalidArgumentError: Incompatible shapes:\n",
    "\n",
    "- InvalidArgumentError: Incompatible shapes:\n",
    "    매칭되는 train과 test의 데이터 shape가 맞지 않거나 cpu 메모리가 너무 많이 소모되는 문제\n",
    "\n",
    "\n",
    "<데이터shape>\n",
    "\n",
    "mmist 한 row의 데이터 -> (28,28,1)\n",
    "\n",
    "2차원데이터 한 row의 데이터 -> (1, 10, 1) # 10 factor 기준\n"
   ]
  },
  {
   "cell_type": "code",
   "execution_count": 637,
   "metadata": {},
   "outputs": [],
   "source": [
    "## [모델 파라메터 설정시]\n",
    "### VAE 모델에서는 자기자신과 가장 유사한 결과를 나오게 하는게 목적이므로, 그리고 새로운 데이터가 아닌 학습데이터 자체를 축소하여 사용하는 시도이므로 과적합 우려 없이 많이 학습하게 하는게 유용하다고 판단됨.\n",
    "### 평소보다 epoch와 filter_size 수를 늘림"
   ]
  },
  {
   "cell_type": "code",
   "execution_count": 638,
   "metadata": {},
   "outputs": [
    {
     "name": "stdout",
     "output_type": "stream",
     "text": [
      "한번에 처리될 row 수 : 50 ,   한 row date가 반복 학습될 횟수 :  150 ,    113250 개 row에 대해 학습하게 됨\n",
      "\n",
      "< 처리기준 >\n",
      "n : 755, m :702, latent_dim : 32, filter_size : 8, batch_size : 50, epochs : 150\n"
     ]
    }
   ],
   "source": [
    "m = X_train.shape[1] # 가로 열, 주의! 설명항목 제외\n",
    "n = X_train.shape[0] # 세로 행 \n",
    "\n",
    "# latent vector  z 의 차원   32\n",
    "if m >= 300:\n",
    "    latent_dim = 32\n",
    "    filter_size = 8   # Conv2D에서 2배 적용됨 유의\n",
    "    MaxPool_size  = 4\n",
    "if m >= 100:\n",
    "    latent_dim = 32\n",
    "    filter_size = 8   # Conv2D에서 2배 적용됨 유의\n",
    "    MaxPool_size  = 4\n",
    "elif m >= 50:\n",
    "    latent_dim = 16\n",
    "    filter_size = 8  \n",
    "    MaxPool_size = 4\n",
    "else:\n",
    "    latent_dim = 10   # 최소 10개 이상은 지정되어야 함. CNN 필터 사이즈 스캔 오류 가능\n",
    "    filter_size = 8\n",
    "    MaxPool_size = 2 \n",
    "\n",
    "\n",
    "batch_size = 50\n",
    "epochs = 150\n",
    "print(\"한번에 처리될 row 수 :\", batch_size, \",   한 row date가 반복 학습될 횟수 : \", epochs, \",   \", n*epochs, \"개 row에 대해 학습하게 됨\")\n",
    "img_shape = X_train[0].reshape(1, X_train.shape[1], 1).shape\n",
    "\n",
    "print(\"\\n< 처리기준 >\")\n",
    "print_string = \"n : {}, m :{}, latent_dim : {}, filter_size : {}, batch_size : {}, epochs : {}\"\n",
    "print(print_string.format(n,m,latent_dim,filter_size,batch_size,epochs))\n"
   ]
  },
  {
   "cell_type": "code",
   "execution_count": 639,
   "metadata": {},
   "outputs": [],
   "source": [
    "input_img = keras.Input(shape=img_shape)\n",
    "\n",
    "x = layers.Conv2D(filter_size, 3,\n",
    "                  padding='same', activation='relu', kernel_initializer=\"glorot_uniform\")(input_img)\n",
    "x = layers.Conv2D(filter_size*2, 3,\n",
    "                  padding='same', activation='relu',\n",
    "                  strides=(1, 2), kernel_initializer=\"glorot_normal\")(x)\n",
    "x = layers.Conv2D(filter_size*2, 3,\n",
    "                  padding='same', activation='relu', kernel_initializer=\"glorot_uniform\")(x)\n",
    "\n",
    "x = layers.Conv2D(filter_size*2, 3,\n",
    "                  padding='same', activation='relu', kernel_initializer=\"glorot_uniform\")(x)\n",
    "shape_before_flattening = K.int_shape(x)\n",
    "\n",
    "x = layers.Flatten()(x)\n",
    "x = layers.Dense(latent_dim*2, activation='relu')(x)\n",
    "\n",
    "z_mean = layers.Dense(latent_dim)(x)\n",
    "z_log_var = layers.Dense(latent_dim)(x)"
   ]
  },
  {
   "cell_type": "code",
   "execution_count": null,
   "metadata": {},
   "outputs": [],
   "source": []
  },
  {
   "cell_type": "markdown",
   "metadata": {},
   "source": [
    "다음은 z_mean과 z_log_var를 사용하는 코드입니다. 이 두 파라미터가 input_img를 생성한 통계 분포의 파라미터라고 가정하고 잠재 공간 포인트 z를 생성합니다. 여기에서 (케라스의 백엔드 기능으로 만든) 일련의 코드를 Lambda 층으로 감쌉니다. 케라스에서는 모든 것이 층이므로 기본 층을 사용하지 않은 코드는 Lambda로 (또는 직접 만든 층으로) 감싸야 합니다."
   ]
  },
  {
   "cell_type": "code",
   "execution_count": 640,
   "metadata": {},
   "outputs": [],
   "source": [
    "\"\"\"\n",
    "z를 학습할때마다 랜덤하게 흔들어줌\n",
    "z공간을 더 많이 학습된 공간으로 채워 준다. 결국 Decoder 입장에서 z 공간이 훨씬 더 믿을 만한 (유용한) 공간이 됨\n",
    "\"\"\"\n",
    "\n",
    "def sampling(args):\n",
    "    z_mean, z_log_var = args\n",
    "    epsilon = K.random_normal(shape=(K.shape(z_mean)[0], latent_dim),\n",
    "                              mean=0., stddev=1.)\n",
    "    return z_mean + K.exp(z_log_var) * epsilon\n",
    "\n",
    "z = layers.Lambda(sampling)([z_mean, z_log_var])"
   ]
  },
  {
   "cell_type": "code",
   "execution_count": null,
   "metadata": {},
   "outputs": [],
   "source": []
  },
  {
   "cell_type": "markdown",
   "metadata": {},
   "source": [
    "다음 코드는 디코더 구현입니다. 벡터 z를 이전 특성 맵 차원으로 크기를 바꾸고 몇 개의 합성곱 층을 사용해 최종 출력 이미지를 만듭니다. 최종 이미지는 원본 input_img와 차원이 같습니다."
   ]
  },
  {
   "cell_type": "code",
   "execution_count": 641,
   "metadata": {},
   "outputs": [],
   "source": [
    "# Input에 z를 주입합니다\n",
    "decoder_input = layers.Input(K.int_shape(z)[1:])\n",
    "\n",
    "# 입력을 업샘플링합니다\n",
    "x = layers.Dense(np.prod(shape_before_flattening[1:]),\n",
    "                 activation='relu')(decoder_input)\n",
    "\n",
    "# 인코더 모델의 마지막 Flatten 층 직전의 특성 맵과 같은 크기를 가진 특성 맵으로 z의 크기를 바꿉니다\n",
    "x = layers.Reshape(shape_before_flattening[1:])(x)\n",
    "\n",
    "# Conv2DTranspose 층과 Conv2D 층을 사용해 z를 원본 입력 이미지와 같은 크기의 특성 맵으로 디코딩합니다\n",
    "x = layers.Conv2DTranspose(filter_size, 3,\n",
    "                           padding='same', activation='relu',\n",
    "                           strides=(1, 2),kernel_initializer=\"glorot_uniform\")(x)\n",
    "x = layers.Conv2D(1, 3,\n",
    "                  padding='same', activation='sigmoid')(x)   # 복원된 마지막 레이어의 1은 데이터 원본의 차원값과 같아야 함(RGB는 3)\n",
    "# 특성 맵의 크기가 원본 입력과 같아집니다\n",
    "\n",
    "# 디코더 모델 객체를 만듭니다\n",
    "decoder = Model(decoder_input, x)\n",
    "\n",
    "# 모델에 z를 주입하면 디코딩된 z를 출력합니다\n",
    "z_decoded = decoder(z)"
   ]
  },
  {
   "cell_type": "code",
   "execution_count": null,
   "metadata": {},
   "outputs": [],
   "source": []
  },
  {
   "cell_type": "markdown",
   "metadata": {},
   "source": [
    "일반적인 샘플 기준의 함수인 loss(y_true, y_pred) 형태는 VAE의 이중 손실에 맞지 않습니다. add_loss 내장 메서드를 사용하는 층을 직접 만들어 임의의 손실을 정의하겠습니다."
   ]
  },
  {
   "cell_type": "markdown",
   "metadata": {},
   "source": [
    "VAE loss 함수 참고\n",
    "https://www.facebook.com/groups/TensorFlowKR/permalink/524873987853664/"
   ]
  },
  {
   "cell_type": "code",
   "execution_count": 642,
   "metadata": {},
   "outputs": [],
   "source": [
    "class CustomVariationalLayer(keras.layers.Layer):\n",
    "\n",
    "    def vae_loss(self, x, z_decoded):\n",
    "        x = K.flatten(x)\n",
    "        z_decoded = K.flatten(z_decoded)\n",
    "        xent_loss = keras.metrics.binary_crossentropy(x, z_decoded)\n",
    "        kl_loss = -5e-4 * K.mean(\n",
    "            1 + z_log_var - K.square(z_mean) - K.exp(z_log_var), axis=-1)\n",
    "        return K.mean(xent_loss + kl_loss)\n",
    "\n",
    "    def call(self, inputs):\n",
    "        x = inputs[0]\n",
    "        z_decoded = inputs[1]\n",
    "        loss = self.vae_loss(x, z_decoded)\n",
    "        self.add_loss(loss, inputs=inputs)\n",
    "        # 출력 값을 사용하지 않습니다\n",
    "        return x\n",
    "\n",
    "# 입력과 디코딩된 출력으로 이 층을 호출하여 모델의 최종 출력을 얻습니다\n",
    "y = CustomVariationalLayer()([input_img, z_decoded])"
   ]
  },
  {
   "cell_type": "code",
   "execution_count": null,
   "metadata": {},
   "outputs": [],
   "source": []
  },
  {
   "cell_type": "code",
   "execution_count": null,
   "metadata": {},
   "outputs": [],
   "source": []
  },
  {
   "cell_type": "markdown",
   "metadata": {},
   "source": [
    "이제 모델 객체를 만들고 훈련할 준비가 되었습니다. 층에서 손실을 직접 다루기 때문에 compile 메서드에서 손실을 지정하지 않습니다(loss=None). 그 결과 훈련하는 동안 타깃 데이터를 전달하지 않아도 됩니다(다음 코드처럼 모델의 fit 메서드에 x_train만 전달합니다)."
   ]
  },
  {
   "cell_type": "markdown",
   "metadata": {},
   "source": [
    "### input shape 변경"
   ]
  },
  {
   "cell_type": "code",
   "execution_count": 643,
   "metadata": {},
   "outputs": [
    {
     "name": "stdout",
     "output_type": "stream",
     "text": [
      "(755, 1, 702) (333, 1, 702)\n",
      "(755, 1, 702, 1) (333, 1, 702, 1)\n"
     ]
    },
    {
     "data": {
      "text/plain": [
       "numpy.ndarray"
      ]
     },
     "execution_count": 643,
     "metadata": {},
     "output_type": "execute_result"
    }
   ],
   "source": [
    "x_train = X_train.reshape(X_train.shape[0], 1, X_train.shape[1]) # (1, # of features, # of chnnels) # input.shape[1:끝]\n",
    "x_test = X_test.reshape(X_test.shape[0], 1, X_test.shape[1]) # (1, # of features, # of chnnels) # input.shape[1:끝]\n",
    "print(x_train.shape, x_test.shape)\n",
    "\n",
    "x_train = x_train.astype('float32') \n",
    "x_train = x_train.reshape(x_train.shape + (1,))\n",
    "x_test = x_test.astype('float32')\n",
    "x_test = x_test.reshape(x_test.shape + (1,))\n",
    "print(x_train.shape, x_test.shape)\n",
    "type(x_train)"
   ]
  },
  {
   "cell_type": "markdown",
   "metadata": {},
   "source": [
    "### 검증데이터셋 분리 (skip)"
   ]
  },
  {
   "cell_type": "code",
   "execution_count": 644,
   "metadata": {},
   "outputs": [],
   "source": [
    "# from sklearn.model_selection import train_test_split\n",
    "\n",
    "# x_train_splited, x_valid, = train_test_split(x_train, \n",
    "#                                         test_size=0.2, #  20% 검증셋 분리\n",
    "#                                         random_state=42) "
   ]
  },
  {
   "cell_type": "code",
   "execution_count": null,
   "metadata": {},
   "outputs": [],
   "source": []
  },
  {
   "cell_type": "markdown",
   "metadata": {},
   "source": [
    "### 모델 학습"
   ]
  },
  {
   "cell_type": "code",
   "execution_count": 645,
   "metadata": {},
   "outputs": [
    {
     "name": "stdout",
     "output_type": "stream",
     "text": [
      "__________________________________________________________________________________________________\n",
      "Layer (type)                    Output Shape         Param #     Connected to                     \n",
      "==================================================================================================\n",
      "input_87 (InputLayer)           (None, 1, 702, 1)    0                                            \n",
      "__________________________________________________________________________________________________\n",
      "conv2d_210 (Conv2D)             (None, 1, 702, 8)    80          input_87[0][0]                   \n",
      "__________________________________________________________________________________________________\n",
      "conv2d_211 (Conv2D)             (None, 1, 351, 16)   1168        conv2d_210[0][0]                 \n",
      "__________________________________________________________________________________________________\n",
      "conv2d_212 (Conv2D)             (None, 1, 351, 16)   2320        conv2d_211[0][0]                 \n",
      "__________________________________________________________________________________________________\n",
      "conv2d_213 (Conv2D)             (None, 1, 351, 16)   2320        conv2d_212[0][0]                 \n",
      "__________________________________________________________________________________________________\n",
      "flatten_42 (Flatten)            (None, 5616)         0           conv2d_213[0][0]                 \n",
      "__________________________________________________________________________________________________\n",
      "dense_169 (Dense)               (None, 64)           359488      flatten_42[0][0]                 \n",
      "__________________________________________________________________________________________________\n",
      "dense_170 (Dense)               (None, 32)           2080        dense_169[0][0]                  \n",
      "__________________________________________________________________________________________________\n",
      "dense_171 (Dense)               (None, 32)           2080        dense_169[0][0]                  \n",
      "__________________________________________________________________________________________________\n",
      "lambda_40 (Lambda)              (None, 32)           0           dense_170[0][0]                  \n",
      "                                                                 dense_171[0][0]                  \n",
      "__________________________________________________________________________________________________\n",
      "model_94 (Model)                (None, 1, 702, 1)    186561      lambda_40[0][0]                  \n",
      "__________________________________________________________________________________________________\n",
      "custom_variational_layer_44 (Cu [(None, 1, 702, 1),  0           input_87[0][0]                   \n",
      "                                                                 model_94[1][0]                   \n",
      "==================================================================================================\n",
      "Total params: 556,097\n",
      "Trainable params: 556,097\n",
      "Non-trainable params: 0\n",
      "__________________________________________________________________________________________________\n"
     ]
    }
   ],
   "source": [
    "vae = Model(input_img, y)\n",
    "vae.compile(optimizer='rmsprop', loss=None)\n",
    "vae.summary()"
   ]
  },
  {
   "cell_type": "markdown",
   "metadata": {},
   "source": [
    "### Fitting!!"
   ]
  },
  {
   "cell_type": "code",
   "execution_count": 646,
   "metadata": {},
   "outputs": [
    {
     "data": {
      "text/plain": [
       "((755, 1, 702, 1), (333, 1, 702, 1))"
      ]
     },
     "execution_count": 646,
     "metadata": {},
     "output_type": "execute_result"
    }
   ],
   "source": [
    "x_train.shape, x_test.shape"
   ]
  },
  {
   "cell_type": "code",
   "execution_count": null,
   "metadata": {},
   "outputs": [
    {
     "name": "stdout",
     "output_type": "stream",
     "text": [
      "Train on 755 samples, validate on 333 samples\n",
      "Epoch 1/150\n",
      "755/755 [==============================] - 69s 91ms/step - loss: 0.6496 - val_loss: 0.6056\n",
      "Epoch 2/150\n",
      "755/755 [==============================] - 61s 80ms/step - loss: 0.5132 - val_loss: 0.5903\n",
      "Epoch 3/150\n",
      "755/755 [==============================] - 69s 91ms/step - loss: 0.4856 - val_loss: 0.5699\n",
      "Epoch 4/150\n",
      "755/755 [==============================] - 61s 81ms/step - loss: 0.4763 - val_loss: 0.5543\n",
      "Epoch 5/150\n",
      "755/755 [==============================] - 61s 80ms/step - loss: 0.4726 - val_loss: 0.5539\n",
      "Epoch 6/150\n",
      "755/755 [==============================] - 62s 83ms/step - loss: 0.4694 - val_loss: 0.5679\n",
      "Epoch 7/150\n",
      "755/755 [==============================] - 58s 77ms/step - loss: 0.4684 - val_loss: 0.5815\n",
      "Epoch 8/150\n",
      "755/755 [==============================] - 68s 90ms/step - loss: 0.4679 - val_loss: 0.5685\n",
      "Epoch 9/150\n",
      "755/755 [==============================] - 59s 78ms/step - loss: 0.4662 - val_loss: 0.5764\n",
      "Epoch 10/150\n",
      "755/755 [==============================] - 63s 84ms/step - loss: 0.4665 - val_loss: 0.5462\n",
      "Epoch 11/150\n",
      "755/755 [==============================] - 56s 74ms/step - loss: 0.4663 - val_loss: 0.5862\n",
      "Epoch 12/150\n",
      "755/755 [==============================] - 60s 79ms/step - loss: 0.4655 - val_loss: 0.5497\n",
      "Epoch 13/150\n",
      "755/755 [==============================] - 61s 81ms/step - loss: 0.4646 - val_loss: 0.5462\n",
      "Epoch 14/150\n",
      "755/755 [==============================] - 58s 76ms/step - loss: 0.4650 - val_loss: 0.5460\n",
      "Epoch 15/150\n",
      "755/755 [==============================] - 55s 73ms/step - loss: 0.4645 - val_loss: 0.5644\n",
      "Epoch 16/150\n",
      "755/755 [==============================] - 54s 72ms/step - loss: 0.4637 - val_loss: 0.5727\n",
      "Epoch 17/150\n",
      "755/755 [==============================] - 66s 87ms/step - loss: 0.4628 - val_loss: 0.6011\n",
      "Epoch 18/150\n",
      "755/755 [==============================] - 64s 85ms/step - loss: 0.4608 - val_loss: 0.5712\n",
      "Epoch 19/150\n",
      "755/755 [==============================] - 59s 78ms/step - loss: 0.4527 - val_loss: 0.5634\n",
      "Epoch 20/150\n",
      "755/755 [==============================] - 55s 73ms/step - loss: 0.4412 - val_loss: 0.5657\n",
      "Epoch 21/150\n",
      "755/755 [==============================] - 54s 71ms/step - loss: 0.4304 - val_loss: 0.5259\n",
      "Epoch 22/150\n",
      "755/755 [==============================] - 55s 73ms/step - loss: 0.4202 - val_loss: 0.5366\n",
      "Epoch 23/150\n",
      "755/755 [==============================] - 62s 82ms/step - loss: 0.4100 - val_loss: 0.5053\n",
      "Epoch 24/150\n",
      "755/755 [==============================] - 60s 80ms/step - loss: 0.4001 - val_loss: 0.4942\n",
      "Epoch 25/150\n",
      "755/755 [==============================] - 60s 80ms/step - loss: 0.3910 - val_loss: 0.5058\n",
      "Epoch 26/150\n",
      "755/755 [==============================] - 59s 78ms/step - loss: 0.3827 - val_loss: 0.4974\n",
      "Epoch 27/150\n",
      "755/755 [==============================] - 61s 81ms/step - loss: 0.3763 - val_loss: 0.4947\n",
      "Epoch 28/150\n",
      "755/755 [==============================] - 61s 81ms/step - loss: 0.3703 - val_loss: 0.4728\n",
      "Epoch 29/150\n",
      "755/755 [==============================] - 63s 83ms/step - loss: 0.3666 - val_loss: 0.4590\n",
      "Epoch 30/150\n",
      "755/755 [==============================] - 61s 81ms/step - loss: 0.3626 - val_loss: 0.4507\n",
      "Epoch 31/150\n",
      "755/755 [==============================] - 56s 75ms/step - loss: 0.3607 - val_loss: 0.4574\n",
      "Epoch 32/150\n",
      "755/755 [==============================] - 58s 77ms/step - loss: 0.3579 - val_loss: 0.4696\n",
      "Epoch 33/150\n",
      "755/755 [==============================] - 57s 75ms/step - loss: 0.3564 - val_loss: 0.4572\n",
      "Epoch 34/150\n",
      "755/755 [==============================] - 65s 86ms/step - loss: 0.3547 - val_loss: 0.4616\n",
      "Epoch 35/150\n",
      "755/755 [==============================] - 61s 81ms/step - loss: 0.3532 - val_loss: 0.4487\n",
      "Epoch 36/150\n",
      "755/755 [==============================] - 57s 75ms/step - loss: 0.3521 - val_loss: 0.4448\n",
      "Epoch 37/150\n",
      "755/755 [==============================] - 60s 79ms/step - loss: 0.3506 - val_loss: 0.4420\n",
      "Epoch 38/150\n",
      "755/755 [==============================] - 62s 82ms/step - loss: 0.3496 - val_loss: 0.4526\n",
      "Epoch 39/150\n",
      "755/755 [==============================] - 69s 91ms/step - loss: 0.3479 - val_loss: 0.4448\n",
      "Epoch 40/150\n",
      "755/755 [==============================] - 54s 71ms/step - loss: 0.3467 - val_loss: 0.4460\n",
      "Epoch 41/150\n",
      "755/755 [==============================] - 60s 80ms/step - loss: 0.3453 - val_loss: 0.4384\n",
      "Epoch 42/150\n",
      "755/755 [==============================] - 60s 79ms/step - loss: 0.3444 - val_loss: 0.4433\n",
      "Epoch 43/150\n",
      "755/755 [==============================] - 63s 83ms/step - loss: 0.3427 - val_loss: 0.4484\n",
      "Epoch 44/150\n",
      "755/755 [==============================] - 63s 83ms/step - loss: 0.3413 - val_loss: 0.4365\n",
      "Epoch 45/150\n",
      "755/755 [==============================] - 63s 84ms/step - loss: 0.3401 - val_loss: 0.4366\n",
      "Epoch 46/150\n",
      "755/755 [==============================] - 62s 82ms/step - loss: 0.3387 - val_loss: 0.4397\n",
      "Epoch 47/150\n",
      "755/755 [==============================] - 65s 87ms/step - loss: 0.3377 - val_loss: 0.4369\n",
      "Epoch 48/150\n",
      "755/755 [==============================] - 71s 93ms/step - loss: 0.3376 - val_loss: 0.4312\n",
      "Epoch 49/150\n",
      "755/755 [==============================] - 71s 94ms/step - loss: 0.3363 - val_loss: 0.4311\n",
      "Epoch 50/150\n",
      "755/755 [==============================] - 66s 88ms/step - loss: 0.3346 - val_loss: 0.4369\n",
      "Epoch 51/150\n",
      "755/755 [==============================] - 68s 90ms/step - loss: 0.3340 - val_loss: 0.4309\n",
      "Epoch 52/150\n",
      "755/755 [==============================] - 68s 90ms/step - loss: 0.3334 - val_loss: 0.4294\n",
      "Epoch 53/150\n",
      "755/755 [==============================] - 60s 80ms/step - loss: 0.3322 - val_loss: 0.4360\n",
      "Epoch 54/150\n",
      "755/755 [==============================] - 59s 79ms/step - loss: 0.3314 - val_loss: 0.4271\n",
      "Epoch 55/150\n",
      "755/755 [==============================] - 57s 75ms/step - loss: 0.3312 - val_loss: 0.4285\n",
      "Epoch 56/150\n",
      "755/755 [==============================] - 57s 75ms/step - loss: 0.3294 - val_loss: 0.4256\n",
      "Epoch 57/150\n",
      "755/755 [==============================] - 64s 85ms/step - loss: 0.3291 - val_loss: 0.4287\n",
      "Epoch 58/150\n",
      "755/755 [==============================] - 66s 87ms/step - loss: 0.3288 - val_loss: 0.4450\n",
      "Epoch 59/150\n",
      "755/755 [==============================] - 63s 83ms/step - loss: 0.3278 - val_loss: 0.4260\n",
      "Epoch 60/150\n",
      "755/755 [==============================] - 62s 82ms/step - loss: 0.3272 - val_loss: 0.4312\n",
      "Epoch 61/150\n",
      "755/755 [==============================] - 57s 75ms/step - loss: 0.3263 - val_loss: 0.4302\n",
      "Epoch 62/150\n",
      "755/755 [==============================] - 55s 73ms/step - loss: 0.3260 - val_loss: 0.4348\n",
      "Epoch 63/150\n",
      "755/755 [==============================] - 55s 73ms/step - loss: 0.3251 - val_loss: 0.4318\n",
      "Epoch 64/150\n",
      "755/755 [==============================] - 60s 79ms/step - loss: 0.3247 - val_loss: 0.4345\n",
      "Epoch 65/150\n",
      "755/755 [==============================] - 62s 82ms/step - loss: 0.3240 - val_loss: 0.4401\n",
      "Epoch 66/150\n",
      "755/755 [==============================] - 61s 81ms/step - loss: 0.3236 - val_loss: 0.4275\n",
      "Epoch 67/150\n",
      "250/755 [========>.....................] - ETA: 1:12 - loss: 0.3246"
     ]
    }
   ],
   "source": [
    "hist = vae.fit(x=x_train, y=None,\n",
    "        shuffle=True,\n",
    "        epochs=epochs,\n",
    "        batch_size=batch_size,\n",
    "        validation_data=(x_test, None))   # train, test 모두 같은 모델 사용해 차원 축소할 예정이므로 검증셋 따로 만들어 쓰지 않음"
   ]
  },
  {
   "cell_type": "code",
   "execution_count": null,
   "metadata": {},
   "outputs": [],
   "source": []
  },
  {
   "cell_type": "code",
   "execution_count": null,
   "metadata": {},
   "outputs": [],
   "source": [
    "# 학습과정 살펴보기\n",
    "%matplotlib inline\n",
    "import matplotlib.pyplot as plt\n",
    "\n",
    "fig, loss_ax = plt.subplots()\n",
    "\n",
    "loss_ax.plot(hist.history['loss'], 'b', label='train loss')\n",
    "loss_ax.plot(hist.history['val_loss'], 'r', label='val loss')\n",
    "\n",
    "loss_ax.set_xlabel('epoch')\n",
    "loss_ax.set_ylabel('loss')\n",
    "\n",
    "loss_ax.legend(loc='upper left')\n",
    "\n",
    "plt.show()\n"
   ]
  },
  {
   "cell_type": "code",
   "execution_count": null,
   "metadata": {},
   "outputs": [],
   "source": []
  },
  {
   "cell_type": "markdown",
   "metadata": {},
   "source": [
    "### 차원 축소 결과"
   ]
  },
  {
   "cell_type": "code",
   "execution_count": 587,
   "metadata": {},
   "outputs": [],
   "source": [
    "encoder = Model(input_img, z)"
   ]
  },
  {
   "cell_type": "code",
   "execution_count": 588,
   "metadata": {},
   "outputs": [
    {
     "data": {
      "text/plain": [
       "(333, 32)"
      ]
     },
     "execution_count": 588,
     "metadata": {},
     "output_type": "execute_result"
    }
   ],
   "source": [
    "# 차원 축소 결과값 추출\n",
    "z_train = encoder.predict(x_train, batch_size=batch_size)\n",
    "z_test = encoder.predict(x_test, batch_size=batch_size)\n",
    "z_test.shape"
   ]
  },
  {
   "cell_type": "code",
   "execution_count": null,
   "metadata": {},
   "outputs": [],
   "source": []
  },
  {
   "cell_type": "code",
   "execution_count": null,
   "metadata": {},
   "outputs": [],
   "source": []
  },
  {
   "cell_type": "markdown",
   "metadata": {},
   "source": [
    "## 5. 결과 저장하기"
   ]
  },
  {
   "cell_type": "code",
   "execution_count": 589,
   "metadata": {},
   "outputs": [],
   "source": [
    "y_train = Y_train\n",
    "y_test = Y_test"
   ]
  },
  {
   "cell_type": "code",
   "execution_count": 590,
   "metadata": {},
   "outputs": [],
   "source": [
    "# 변수저장\n",
    "import pickle # 파이썬 객체저장을 위한 모듈\n",
    "\n",
    "if df == 'all':\n",
    "    file_nm = './pickles/vae_all.p'\n",
    "elif df == 'main':\n",
    "    file_nm = './pickles/vae_main.p'\n",
    "elif df == 'core':\n",
    "    file_nm = './pickles/vae_core.p'\n",
    "   \n",
    "    \n",
    "    \n",
    "# 파이썬 객체 상태로 저장하기\n",
    "with open(file_nm, 'wb') as file:  # hello.txt 파일을 바이너리 쓰기 모드(wb)\n",
    "    pickle.dump(z_train, file)\n",
    "    pickle.dump(z_test, file)\n",
    "    pickle.dump(x_train, file)   # 0~1 스케일된 데이터 유의!\n",
    "    pickle.dump(x_test, file)    # 0~1 스케일된 데이터 유의!\n",
    "    pickle.dump(y_train, file)\n",
    "    pickle.dump(y_test, file)\n",
    "    pickle.dump(train_set, file)\n",
    "    pickle.dump(test_set, file)"
   ]
  },
  {
   "cell_type": "code",
   "execution_count": null,
   "metadata": {},
   "outputs": [],
   "source": []
  },
  {
   "cell_type": "markdown",
   "metadata": {},
   "source": [
    "## 6. 모델의 시각화"
   ]
  },
  {
   "cell_type": "code",
   "execution_count": 559,
   "metadata": {},
   "outputs": [
    {
     "data": {
      "image/svg+xml": [
       "<svg height=\"775pt\" viewBox=\"0.00 0.00 407.00 775.00\" width=\"407pt\" xmlns=\"http://www.w3.org/2000/svg\" xmlns:xlink=\"http://www.w3.org/1999/xlink\">\n",
       "<g class=\"graph\" id=\"graph0\" transform=\"scale(1 1) rotate(0) translate(4 771)\">\n",
       "<title>G</title>\n",
       "<polygon fill=\"white\" points=\"-4,4 -4,-771 403,-771 403,4 -4,4\" stroke=\"none\"/>\n",
       "<!-- 2433362242696 -->\n",
       "<g class=\"node\" id=\"node1\"><title>2433362242696</title>\n",
       "<polygon fill=\"none\" points=\"169.5,-730.5 169.5,-766.5 302.5,-766.5 302.5,-730.5 169.5,-730.5\" stroke=\"black\"/>\n",
       "<text font-family=\"Times New Roman,serif\" font-size=\"14.00\" text-anchor=\"middle\" x=\"236\" y=\"-744.8\">input_78: InputLayer</text>\n",
       "</g>\n",
       "<!-- 2433362242752 -->\n",
       "<g class=\"node\" id=\"node2\"><title>2433362242752</title>\n",
       "<polygon fill=\"none\" points=\"117,-657.5 117,-693.5 257,-693.5 257,-657.5 117,-657.5\" stroke=\"black\"/>\n",
       "<text font-family=\"Times New Roman,serif\" font-size=\"14.00\" text-anchor=\"middle\" x=\"187\" y=\"-671.8\">conv2d_189: Conv2D</text>\n",
       "</g>\n",
       "<!-- 2433362242696&#45;&gt;2433362242752 -->\n",
       "<g class=\"edge\" id=\"edge1\"><title>2433362242696-&gt;2433362242752</title>\n",
       "<path d=\"M224.138,-730.313C218.24,-721.766 210.996,-711.269 204.476,-701.823\" fill=\"none\" stroke=\"black\"/>\n",
       "<polygon fill=\"black\" points=\"207.313,-699.771 198.752,-693.529 201.552,-703.747 207.313,-699.771\" stroke=\"black\"/>\n",
       "</g>\n",
       "<!-- 2433387949416 -->\n",
       "<g class=\"node\" id=\"node12\"><title>2433387949416</title>\n",
       "<polygon fill=\"none\" points=\"81,-0.5 81,-36.5 399,-36.5 399,-0.5 81,-0.5\" stroke=\"black\"/>\n",
       "<text font-family=\"Times New Roman,serif\" font-size=\"14.00\" text-anchor=\"middle\" x=\"240\" y=\"-14.8\">custom_variational_layer_40: CustomVariationalLayer</text>\n",
       "</g>\n",
       "<!-- 2433362242696&#45;&gt;2433387949416 -->\n",
       "<g class=\"edge\" id=\"edge12\"><title>2433362242696-&gt;2433387949416</title>\n",
       "<path d=\"M247.408,-730.321C253.711,-720.137 261.211,-706.762 266,-694 280.44,-655.521 285,-644.599 285,-603.5 285,-603.5 285,-603.5 285,-163.5 285,-120.858 266.8,-74.2133 253.549,-45.9034\" fill=\"none\" stroke=\"black\"/>\n",
       "<polygon fill=\"black\" points=\"256.603,-44.178 249.106,-36.6911 250.298,-47.2187 256.603,-44.178\" stroke=\"black\"/>\n",
       "</g>\n",
       "<!-- 2433362243480 -->\n",
       "<g class=\"node\" id=\"node3\"><title>2433362243480</title>\n",
       "<polygon fill=\"none\" points=\"117,-584.5 117,-620.5 257,-620.5 257,-584.5 117,-584.5\" stroke=\"black\"/>\n",
       "<text font-family=\"Times New Roman,serif\" font-size=\"14.00\" text-anchor=\"middle\" x=\"187\" y=\"-598.8\">conv2d_190: Conv2D</text>\n",
       "</g>\n",
       "<!-- 2433362242752&#45;&gt;2433362243480 -->\n",
       "<g class=\"edge\" id=\"edge2\"><title>2433362242752-&gt;2433362243480</title>\n",
       "<path d=\"M187,-657.313C187,-649.289 187,-639.547 187,-630.569\" fill=\"none\" stroke=\"black\"/>\n",
       "<polygon fill=\"black\" points=\"190.5,-630.529 187,-620.529 183.5,-630.529 190.5,-630.529\" stroke=\"black\"/>\n",
       "</g>\n",
       "<!-- 2433362242808 -->\n",
       "<g class=\"node\" id=\"node4\"><title>2433362242808</title>\n",
       "<polygon fill=\"none\" points=\"117,-511.5 117,-547.5 257,-547.5 257,-511.5 117,-511.5\" stroke=\"black\"/>\n",
       "<text font-family=\"Times New Roman,serif\" font-size=\"14.00\" text-anchor=\"middle\" x=\"187\" y=\"-525.8\">conv2d_191: Conv2D</text>\n",
       "</g>\n",
       "<!-- 2433362243480&#45;&gt;2433362242808 -->\n",
       "<g class=\"edge\" id=\"edge3\"><title>2433362243480-&gt;2433362242808</title>\n",
       "<path d=\"M187,-584.313C187,-576.289 187,-566.547 187,-557.569\" fill=\"none\" stroke=\"black\"/>\n",
       "<polygon fill=\"black\" points=\"190.5,-557.529 187,-547.529 183.5,-557.529 190.5,-557.529\" stroke=\"black\"/>\n",
       "</g>\n",
       "<!-- 2433362266208 -->\n",
       "<g class=\"node\" id=\"node5\"><title>2433362266208</title>\n",
       "<polygon fill=\"none\" points=\"117,-438.5 117,-474.5 257,-474.5 257,-438.5 117,-438.5\" stroke=\"black\"/>\n",
       "<text font-family=\"Times New Roman,serif\" font-size=\"14.00\" text-anchor=\"middle\" x=\"187\" y=\"-452.8\">conv2d_192: Conv2D</text>\n",
       "</g>\n",
       "<!-- 2433362242808&#45;&gt;2433362266208 -->\n",
       "<g class=\"edge\" id=\"edge4\"><title>2433362242808-&gt;2433362266208</title>\n",
       "<path d=\"M187,-511.313C187,-503.289 187,-493.547 187,-484.569\" fill=\"none\" stroke=\"black\"/>\n",
       "<polygon fill=\"black\" points=\"190.5,-484.529 187,-474.529 183.5,-484.529 190.5,-484.529\" stroke=\"black\"/>\n",
       "</g>\n",
       "<!-- 2433362518480 -->\n",
       "<g class=\"node\" id=\"node6\"><title>2433362518480</title>\n",
       "<polygon fill=\"none\" points=\"129,-365.5 129,-401.5 245,-401.5 245,-365.5 129,-365.5\" stroke=\"black\"/>\n",
       "<text font-family=\"Times New Roman,serif\" font-size=\"14.00\" text-anchor=\"middle\" x=\"187\" y=\"-379.8\">flatten_38: Flatten</text>\n",
       "</g>\n",
       "<!-- 2433362266208&#45;&gt;2433362518480 -->\n",
       "<g class=\"edge\" id=\"edge5\"><title>2433362266208-&gt;2433362518480</title>\n",
       "<path d=\"M187,-438.313C187,-430.289 187,-420.547 187,-411.569\" fill=\"none\" stroke=\"black\"/>\n",
       "<polygon fill=\"black\" points=\"190.5,-411.529 187,-401.529 183.5,-411.529 190.5,-411.529\" stroke=\"black\"/>\n",
       "</g>\n",
       "<!-- 2433362303744 -->\n",
       "<g class=\"node\" id=\"node7\"><title>2433362303744</title>\n",
       "<polygon fill=\"none\" points=\"128,-292.5 128,-328.5 246,-328.5 246,-292.5 128,-292.5\" stroke=\"black\"/>\n",
       "<text font-family=\"Times New Roman,serif\" font-size=\"14.00\" text-anchor=\"middle\" x=\"187\" y=\"-306.8\">dense_152: Dense</text>\n",
       "</g>\n",
       "<!-- 2433362518480&#45;&gt;2433362303744 -->\n",
       "<g class=\"edge\" id=\"edge6\"><title>2433362518480-&gt;2433362303744</title>\n",
       "<path d=\"M187,-365.313C187,-357.289 187,-347.547 187,-338.569\" fill=\"none\" stroke=\"black\"/>\n",
       "<polygon fill=\"black\" points=\"190.5,-338.529 187,-328.529 183.5,-338.529 190.5,-338.529\" stroke=\"black\"/>\n",
       "</g>\n",
       "<!-- 2433362520104 -->\n",
       "<g class=\"node\" id=\"node8\"><title>2433362520104</title>\n",
       "<polygon fill=\"none\" points=\"0,-219.5 0,-255.5 118,-255.5 118,-219.5 0,-219.5\" stroke=\"black\"/>\n",
       "<text font-family=\"Times New Roman,serif\" font-size=\"14.00\" text-anchor=\"middle\" x=\"59\" y=\"-233.8\">dense_153: Dense</text>\n",
       "</g>\n",
       "<!-- 2433362303744&#45;&gt;2433362520104 -->\n",
       "<g class=\"edge\" id=\"edge7\"><title>2433362303744-&gt;2433362520104</title>\n",
       "<path d=\"M156.341,-292.494C139.053,-282.904 117.261,-270.817 98.6816,-260.511\" fill=\"none\" stroke=\"black\"/>\n",
       "<polygon fill=\"black\" points=\"100.295,-257.404 89.8526,-255.614 96.8997,-263.525 100.295,-257.404\" stroke=\"black\"/>\n",
       "</g>\n",
       "<!-- 2433362732144 -->\n",
       "<g class=\"node\" id=\"node9\"><title>2433362732144</title>\n",
       "<polygon fill=\"none\" points=\"136,-219.5 136,-255.5 254,-255.5 254,-219.5 136,-219.5\" stroke=\"black\"/>\n",
       "<text font-family=\"Times New Roman,serif\" font-size=\"14.00\" text-anchor=\"middle\" x=\"195\" y=\"-233.8\">dense_154: Dense</text>\n",
       "</g>\n",
       "<!-- 2433362303744&#45;&gt;2433362732144 -->\n",
       "<g class=\"edge\" id=\"edge8\"><title>2433362303744-&gt;2433362732144</title>\n",
       "<path d=\"M188.937,-292.313C189.841,-284.289 190.938,-274.547 191.95,-265.569\" fill=\"none\" stroke=\"black\"/>\n",
       "<polygon fill=\"black\" points=\"195.439,-265.858 193.081,-255.529 188.484,-265.074 195.439,-265.858\" stroke=\"black\"/>\n",
       "</g>\n",
       "<!-- 2433362242584 -->\n",
       "<g class=\"node\" id=\"node10\"><title>2433362242584</title>\n",
       "<polygon fill=\"none\" points=\"125.5,-146.5 125.5,-182.5 256.5,-182.5 256.5,-146.5 125.5,-146.5\" stroke=\"black\"/>\n",
       "<text font-family=\"Times New Roman,serif\" font-size=\"14.00\" text-anchor=\"middle\" x=\"191\" y=\"-160.8\">lambda_36: Lambda</text>\n",
       "</g>\n",
       "<!-- 2433362520104&#45;&gt;2433362242584 -->\n",
       "<g class=\"edge\" id=\"edge9\"><title>2433362520104-&gt;2433362242584</title>\n",
       "<path d=\"M90.6173,-219.494C108.527,-209.861 131.123,-197.707 150.339,-187.37\" fill=\"none\" stroke=\"black\"/>\n",
       "<polygon fill=\"black\" points=\"152.034,-190.433 159.183,-182.614 148.718,-184.268 152.034,-190.433\" stroke=\"black\"/>\n",
       "</g>\n",
       "<!-- 2433362732144&#45;&gt;2433362242584 -->\n",
       "<g class=\"edge\" id=\"edge10\"><title>2433362732144-&gt;2433362242584</title>\n",
       "<path d=\"M194.032,-219.313C193.58,-211.289 193.031,-201.547 192.525,-192.569\" fill=\"none\" stroke=\"black\"/>\n",
       "<polygon fill=\"black\" points=\"196.016,-192.316 191.959,-182.529 189.027,-192.71 196.016,-192.316\" stroke=\"black\"/>\n",
       "</g>\n",
       "<!-- 2433388290000 -->\n",
       "<g class=\"node\" id=\"node11\"><title>2433388290000</title>\n",
       "<polygon fill=\"none\" points=\"137.5,-73.5 137.5,-109.5 252.5,-109.5 252.5,-73.5 137.5,-73.5\" stroke=\"black\"/>\n",
       "<text font-family=\"Times New Roman,serif\" font-size=\"14.00\" text-anchor=\"middle\" x=\"195\" y=\"-87.8\">model_84: Model</text>\n",
       "</g>\n",
       "<!-- 2433362242584&#45;&gt;2433388290000 -->\n",
       "<g class=\"edge\" id=\"edge11\"><title>2433362242584-&gt;2433388290000</title>\n",
       "<path d=\"M191.968,-146.313C192.42,-138.289 192.969,-128.547 193.475,-119.569\" fill=\"none\" stroke=\"black\"/>\n",
       "<polygon fill=\"black\" points=\"196.973,-119.71 194.041,-109.529 189.984,-119.316 196.973,-119.71\" stroke=\"black\"/>\n",
       "</g>\n",
       "<!-- 2433388290000&#45;&gt;2433387949416 -->\n",
       "<g class=\"edge\" id=\"edge13\"><title>2433388290000-&gt;2433387949416</title>\n",
       "<path d=\"M205.893,-73.3129C211.255,-64.8534 217.827,-54.4835 223.767,-45.1124\" fill=\"none\" stroke=\"black\"/>\n",
       "<polygon fill=\"black\" points=\"226.81,-46.8489 229.207,-36.5288 220.897,-43.1016 226.81,-46.8489\" stroke=\"black\"/>\n",
       "</g>\n",
       "</g>\n",
       "</svg>"
      ],
      "text/plain": [
       "<IPython.core.display.SVG object>"
      ]
     },
     "execution_count": 559,
     "metadata": {},
     "output_type": "execute_result"
    }
   ],
   "source": [
    "from IPython.display import SVG\n",
    "from keras.utils.vis_utils import model_to_dot\n",
    "\n",
    "SVG(model_to_dot(vae).create(prog='dot', format='svg'))"
   ]
  },
  {
   "cell_type": "code",
   "execution_count": null,
   "metadata": {},
   "outputs": [],
   "source": []
  },
  {
   "cell_type": "code",
   "execution_count": null,
   "metadata": {},
   "outputs": [],
   "source": []
  },
  {
   "cell_type": "code",
   "execution_count": null,
   "metadata": {},
   "outputs": [],
   "source": []
  },
  {
   "cell_type": "markdown",
   "metadata": {},
   "source": [
    "## 7. t-SNE로 검증하기"
   ]
  },
  {
   "cell_type": "markdown",
   "metadata": {},
   "source": [
    "[참고] MNIST 데이터 세트 (비교적) 명확한 클러스터링의 시각화 - 자동 인코딩 + t-SNE dim-reduction\n",
    "AE/VAE를 통해 작은 차원으로 압축한 다음 t-SNE 차원 감소를 적용하여 사람이 시각적으로 확인 가능한 작은 차원(2,3차원) 재축소시킴.\n",
    "\n",
    "이후 그래프를 통해 시각적으로 확인가능하도록 함.\n",
    "\n",
    "ex) 100차원의 데이터를 VAE로 10차원 압축 후, 압축된 10차원데이터를 다시 t-SNE로 2차원 압축해 의미있게 분류된 결과를 보이는지 확인\n",
    "\n",
    "https://github.com/ncampost/vis-autoencoder-tsne"
   ]
  },
  {
   "cell_type": "markdown",
   "metadata": {},
   "source": [
    "[코드출처] https://lumiamitie.github.io/r/python/tsne-for-r-py/"
   ]
  },
  {
   "cell_type": "markdown",
   "metadata": {},
   "source": [
    "## 1) 파이썬 객체 가져오기! (사용 주의!)"
   ]
  },
  {
   "cell_type": "markdown",
   "metadata": {},
   "source": [
    "#### VAE 모델을 돌리지 않고 과거 작업한 데이터 가져와서 사용시에만 실행!!"
   ]
  },
  {
   "cell_type": "markdown",
   "metadata": {},
   "source": [
    "df == 'main'"
   ]
  },
  {
   "cell_type": "markdown",
   "metadata": {},
   "source": [
    "if df == 'all':\n",
    "    file_nm = \"./pickles/vae_all.p\"\n",
    "elif df == 'main':\n",
    "    file_nm = \"./pickles/vae_main.p\"\n",
    "elif df == 'core':\n",
    "    file_nm = \"./pickles/vae_core.p\"\n",
    "\n",
    "#파이썬 객체 읽어오기\n",
    "with open(file_nm, 'rb') as file:  \n",
    "    z_train = pickle.load(file)\n",
    "    z_test = pickle.load(file)\n",
    "    x_train = pickle.load(file)   # 0~1 스케일 처리됨\n",
    "    x_test = pickle.load(file)   # 0~1 스케일 처리됨\n",
    "    y_train = pickle.load(file)\n",
    "    y_test = pickle.load(file)\n",
    "    train_set = pickle.load(file)\n",
    "    test_set = pickle.load(file)   \n",
    "    "
   ]
  },
  {
   "cell_type": "code",
   "execution_count": 560,
   "metadata": {},
   "outputs": [
    {
     "data": {
      "text/plain": [
       "(755, 10)"
      ]
     },
     "execution_count": 560,
     "metadata": {},
     "output_type": "execute_result"
    }
   ],
   "source": [
    "z_train.shape"
   ]
  },
  {
   "cell_type": "code",
   "execution_count": null,
   "metadata": {},
   "outputs": [],
   "source": []
  },
  {
   "cell_type": "markdown",
   "metadata": {},
   "source": [
    "## 2) tSNE 코드 실행"
   ]
  },
  {
   "cell_type": "markdown",
   "metadata": {},
   "source": [
    "[코드출처] https://github.com/scikit-learn/scikit-learn/blob/master/sklearn/manifold/t_sne.py"
   ]
  },
  {
   "cell_type": "code",
   "execution_count": 591,
   "metadata": {},
   "outputs": [
    {
     "data": {
      "text/plain": [
       "(755, 2)"
      ]
     },
     "execution_count": 591,
     "metadata": {},
     "output_type": "execute_result"
    }
   ],
   "source": [
    "import numpy as np\n",
    "from sklearn.manifold import TSNE\n",
    "\n",
    "tsne_x_train = x_train.reshape(-1,x_train.shape[2])\n",
    "tsne_z_train = z_train.reshape(-1,z_train.shape[1])\n",
    "\n",
    "# 2개의 차원으로 축소\n",
    "x_transformed = TSNE(n_components=2).fit_transform(tsne_x_train)\n",
    "z_transformed = TSNE(n_components=2).fit_transform(tsne_z_train)\n",
    "x_transformed.shape\n"
   ]
  },
  {
   "cell_type": "markdown",
   "metadata": {},
   "source": [
    "### 그래프 해석\n",
    "비지도 학습을 통해 분류된 데이터에 라벨을 붙혀 유의하게 분리되어 있음을 확인"
   ]
  },
  {
   "cell_type": "markdown",
   "metadata": {},
   "source": [
    "### x_train 데이터 그래프"
   ]
  },
  {
   "cell_type": "code",
   "execution_count": 592,
   "metadata": {
    "scrolled": true
   },
   "outputs": [
    {
     "data": {
      "image/png": "[encoded data removed]",
      "text/plain": [
       "<Figure size 432x288 with 1 Axes>"
      ]
     },
     "metadata": {},
     "output_type": "display_data"
    }
   ],
   "source": [
    "xs = x_transformed[:,0]\n",
    "ys = x_transformed[:,1]\n",
    "plt.scatter(xs,ys, c=y_train)  # 라벨은 색상으로 분류됨\n",
    "\n",
    "plt.show()\n"
   ]
  },
  {
   "cell_type": "markdown",
   "metadata": {},
   "source": [
    "### z_train 데이터 그래프"
   ]
  },
  {
   "cell_type": "code",
   "execution_count": 593,
   "metadata": {},
   "outputs": [
    {
     "data": {
      "image/png": "[encoded data removed]",
      "text/plain": [
       "<Figure size 432x288 with 1 Axes>"
      ]
     },
     "metadata": {},
     "output_type": "display_data"
    }
   ],
   "source": [
    "xs = z_transformed[:,0]\n",
    "ys = z_transformed[:,1]\n",
    "plt.scatter(xs,ys, c=y_train)  # 라벨은 색상으로 분류됨\n",
    "\n",
    "plt.show()"
   ]
  },
  {
   "cell_type": "code",
   "execution_count": null,
   "metadata": {},
   "outputs": [],
   "source": []
  },
  {
   "cell_type": "code",
   "execution_count": null,
   "metadata": {},
   "outputs": [],
   "source": []
  },
  {
   "cell_type": "code",
   "execution_count": null,
   "metadata": {},
   "outputs": [],
   "source": []
  },
  {
   "cell_type": "code",
   "execution_count": null,
   "metadata": {},
   "outputs": [],
   "source": []
  },
  {
   "cell_type": "code",
   "execution_count": null,
   "metadata": {},
   "outputs": [],
   "source": []
  },
  {
   "cell_type": "code",
   "execution_count": null,
   "metadata": {},
   "outputs": [],
   "source": []
  },
  {
   "cell_type": "code",
   "execution_count": null,
   "metadata": {},
   "outputs": [],
   "source": []
  },
  {
   "cell_type": "code",
   "execution_count": null,
   "metadata": {},
   "outputs": [],
   "source": []
  },
  {
   "cell_type": "code",
   "execution_count": null,
   "metadata": {},
   "outputs": [],
   "source": []
  },
  {
   "cell_type": "code",
   "execution_count": null,
   "metadata": {},
   "outputs": [],
   "source": []
  },
  {
   "cell_type": "code",
   "execution_count": 63,
   "metadata": {},
   "outputs": [],
   "source": []
  }
 ],
 "metadata": {
  "kernelspec": {
   "display_name": "Python 3",
   "language": "python",
   "name": "python3"
  },
  "language_info": {
   "codemirror_mode": {
    "name": "ipython",
    "version": 3
   },
   "file_extension": ".py",
   "mimetype": "text/x-python",
   "name": "python",
   "nbconvert_exporter": "python",
   "pygments_lexer": "ipython3",
   "version": "3.6.5"
  }
 },
 "nbformat": 4,
 "nbformat_minor": 2
}
