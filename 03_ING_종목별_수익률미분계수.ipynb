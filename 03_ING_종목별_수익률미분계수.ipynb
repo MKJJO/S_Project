{
 "cells": [
  {
   "cell_type": "markdown",
   "metadata": {},
   "source": [
    "## 종목별 수익률 미분계수 구하기\n",
    "### 심볼릭 연산"
   ]
  },
  {
   "cell_type": "markdown",
   "metadata": {},
   "source": [
    "https://datascienceschool.net/view-notebook/5f5f4a966f9042efa43d711008df9c0b/"
   ]
  },
  {
   "cell_type": "code",
   "execution_count": 2,
   "metadata": {},
   "outputs": [
    {
     "data": {
      "text/plain": [
       "'0.6.0'"
      ]
     },
     "execution_count": 2,
     "metadata": {},
     "output_type": "execute_result"
    }
   ],
   "source": [
    "import FinanceDataReader as fdr\n",
    "fdr.__version__"
   ]
  },
  {
   "cell_type": "code",
   "execution_count": 3,
   "metadata": {},
   "outputs": [
    {
     "data": {
      "text/html": [
       "<div>\n",
       "<style scoped>\n",
       "    .dataframe tbody tr th:only-of-type {\n",
       "        vertical-align: middle;\n",
       "    }\n",
       "\n",
       "    .dataframe tbody tr th {\n",
       "        vertical-align: top;\n",
       "    }\n",
       "\n",
       "    .dataframe thead th {\n",
       "        text-align: right;\n",
       "    }\n",
       "</style>\n",
       "<table border=\"1\" class=\"dataframe\">\n",
       "  <thead>\n",
       "    <tr style=\"text-align: right;\">\n",
       "      <th></th>\n",
       "      <th>Symbol</th>\n",
       "      <th>Name</th>\n",
       "      <th>Sector</th>\n",
       "      <th>Industry</th>\n",
       "    </tr>\n",
       "  </thead>\n",
       "  <tbody>\n",
       "    <tr>\n",
       "      <th>0</th>\n",
       "      <td>001040</td>\n",
       "      <td>CJ</td>\n",
       "      <td>기타 금융업</td>\n",
       "      <td>지주회사</td>\n",
       "    </tr>\n",
       "    <tr>\n",
       "      <th>1</th>\n",
       "      <td>011150</td>\n",
       "      <td>CJ씨푸드</td>\n",
       "      <td>기타 식품 제조업</td>\n",
       "      <td>수산물(어묵,맛살)가공품 도매,원양수산업,수출입</td>\n",
       "    </tr>\n",
       "    <tr>\n",
       "      <th>2</th>\n",
       "      <td>012630</td>\n",
       "      <td>HDC</td>\n",
       "      <td>건물 건설업</td>\n",
       "      <td>토목공사,건축공사,아파트분양사업,재개발/재건축사업</td>\n",
       "    </tr>\n",
       "    <tr>\n",
       "      <th>3</th>\n",
       "      <td>082740</td>\n",
       "      <td>HSD엔진</td>\n",
       "      <td>일반 목적용 기계 제조업</td>\n",
       "      <td>대형선박용엔진,내연발전엔진</td>\n",
       "    </tr>\n",
       "    <tr>\n",
       "      <th>4</th>\n",
       "      <td>001390</td>\n",
       "      <td>KG케미칼</td>\n",
       "      <td>기초 화학물질 제조업</td>\n",
       "      <td>콘크리트혼화제, 비료, 친환경농자재, 수처리제</td>\n",
       "    </tr>\n",
       "  </tbody>\n",
       "</table>\n",
       "</div>"
      ],
      "text/plain": [
       "   Symbol   Name         Sector                     Industry\n",
       "0  001040     CJ         기타 금융업                         지주회사\n",
       "1  011150  CJ씨푸드      기타 식품 제조업   수산물(어묵,맛살)가공품 도매,원양수산업,수출입\n",
       "2  012630    HDC         건물 건설업  토목공사,건축공사,아파트분양사업,재개발/재건축사업\n",
       "3  082740  HSD엔진  일반 목적용 기계 제조업               대형선박용엔진,내연발전엔진\n",
       "4  001390  KG케미칼    기초 화학물질 제조업    콘크리트혼화제, 비료, 친환경농자재, 수처리제"
      ]
     },
     "execution_count": 3,
     "metadata": {},
     "output_type": "execute_result"
    }
   ],
   "source": [
    "# import FinanceDataReader as fdr\n",
    "\n",
    "# 한국거래소 상장종목 전체\n",
    "df_krx = fdr.StockListing('KRX')\n",
    "df_krx.head()"
   ]
  },
  {
   "cell_type": "code",
   "execution_count": 4,
   "metadata": {},
   "outputs": [],
   "source": [
    "import numpy as np \n",
    "import pandas as pd "
   ]
  },
  {
   "cell_type": "code",
   "execution_count": 5,
   "metadata": {},
   "outputs": [],
   "source": [
    "def stock_select(code,strt_year='2012', end_date='2018-09-30'):\n",
    "\n",
    "    stock_df = fdr.DataReader(code,strt_year,end_date)\n",
    "\n",
    "    # Date를 인덱스에서 제거하고 항목으로 사용\n",
    "    stock_df = stock_df.reset_index()\n",
    "\n",
    "    # Date에서 연도를 추출함\n",
    "    stock_df['Year'] = stock_df.Date.map(lambda x : x.year )\n",
    "    stock_df['Code'] = code\n",
    "\n",
    "    return stock_df\n"
   ]
  },
  {
   "cell_type": "markdown",
   "metadata": {},
   "source": [
    "## 다항식 만들기"
   ]
  },
  {
   "cell_type": "code",
   "execution_count": 22,
   "metadata": {},
   "outputs": [],
   "source": [
    "import numpy as np\n",
    "\n",
    "def updown_poly(up_days,down_days):\n",
    "    \n",
    "    # 3차 다항식생성\n",
    "    x = list(range(1,len(up_days)+1))\n",
    "    up_p3 = np.polyfit(x,up_days,3)\n",
    "    x = list(range(1,len(down_days)+1))\n",
    "    down_p3 = np.polyfit(x,down_days,3)\n",
    "    return up_p3, down_p3\n",
    "\n"
   ]
  },
  {
   "cell_type": "code",
   "execution_count": 32,
   "metadata": {},
   "outputs": [
    {
     "ename": "SyntaxError",
     "evalue": "invalid syntax (<ipython-input-32-d43b8bcdd878>, line 31)",
     "output_type": "error",
     "traceback": [
      "\u001b[1;36m  File \u001b[1;32m\"<ipython-input-32-d43b8bcdd878>\"\u001b[1;36m, line \u001b[1;32m31\u001b[0m\n\u001b[1;33m    up_d2_coef = up_d2_coef.append(up_d2.subs({x:value}) # x 숫자 지정\u001b[0m\n\u001b[1;37m             ^\u001b[0m\n\u001b[1;31mSyntaxError\u001b[0m\u001b[1;31m:\u001b[0m invalid syntax\n"
     ]
    }
   ],
   "source": [
    "# 출처: http://codepractice.tistory.com/76 [코딩 연습]\n",
    "# Juypter 노트북에서 수학식의 LaTeX 표현을 위해 필요함\n",
    "# sympy.init_printing(use_latex='mathjax')\n",
    "from sympy import symbols, Limit\n",
    "from sympy import Derivative\n",
    "\n",
    "def updown_strength(up_days, down_days):\n",
    "    \n",
    "    # 함수 생성\n",
    "    up_m, down_m = updown_poly(up_days, down_days)\n",
    "\n",
    "    x, a, h = symbols('x, a, h')\n",
    "\n",
    "    # 함수 정의\n",
    "    up_fx = up_m[0] * x ** 3 + up_m[1] * x ** 2 + up_m[2] * x + up_m[3]\n",
    "    down_fx = down_m[0] * x ** 3 + down_m[1] * x ** 2 + down_m[2] * x + down_m[3]\n",
    "\n",
    "\n",
    "    # up_미분 -------------------------\n",
    "\n",
    "    # 1차 도함수\n",
    "    up_d1 = Derivative(up_fx, x).doit()\n",
    "    # 2차 도함수\n",
    "    up_d2 = Derivative(up_fx, x, 2).doit()\n",
    "\n",
    "    # 미분계수\n",
    "    up_d1_coef = []\n",
    "    up_d2_coef = []\n",
    "    for value in range(1,len(up_days)+1):        \n",
    "        up_d1_coef = up_d1_coef.append(up_d1.subs({x:value}) # x 숫자 지정\n",
    "        up_d2_coef = up_d2_coef.append(up_d2.subs({x:value}) # x 숫자 지정\n",
    "\n",
    "\n",
    "    print(\"up함수 : \", up_d1_coef,up_d2_coef)\n",
    "\n",
    "    # down_미분 -------------------------\n",
    "\n",
    "    # 1차 도함수\n",
    "    down_d1 = Derivative(down_fx, x).doit()\n",
    "    # 2차 도함수\n",
    "    down_d2 = Derivative(down_fx, x, 2).doit()\n",
    "\n",
    "    # 미분계수\n",
    "    down_d1_coef = []\n",
    "    down_d2_coef = []\n",
    "    for value in range(1,len(down_days)+1):        \n",
    "        down_d1_coef = down_d1_coef.append(down_d1.subs({x:value}) # x 숫자 지정\n",
    "        down_d2_coef = down_d2_coef.append(down_d2.subs({x:value}) # x 숫자 지정\n",
    "\n",
    "\n",
    "    print(\"down함수 : \", down_d1_coef,down_d2_coef)\n",
    "    \n",
    "    return up_d1_coef, up_d2_coef, down_d1_coef, down_d2_coef"
   ]
  },
  {
   "cell_type": "code",
   "execution_count": 29,
   "metadata": {},
   "outputs": [
    {
     "name": "stdout",
     "output_type": "stream",
     "text": [
      "up함수 :  -21906.2801842085 63.4674709885734\n",
      "down함수 :  -0.0100112778691156 4.48194518146954e-5\n",
      "-21906.2801842085 63.4674709885734 -0.0100112778691156 4.48194518146954e-5\n"
     ]
    }
   ],
   "source": [
    "stock_df = stock_select('005930')\n",
    "v_d1_coef, v_d2_coef, c_d1_coef, c_d2_coef = updown_strength(stock_df.Volume, stock_df.Change)\n",
    "print(v_d1_coef, v_d2_coef, c_d1_coef, c_d2_coef)"
   ]
  },
  {
   "cell_type": "code",
   "execution_count": null,
   "metadata": {},
   "outputs": [],
   "source": [
    "print()"
   ]
  }
 ],
 "metadata": {
  "kernelspec": {
   "display_name": "Python 3",
   "language": "python",
   "name": "python3"
  },
  "language_info": {
   "codemirror_mode": {
    "name": "ipython",
    "version": 3
   },
   "file_extension": ".py",
   "mimetype": "text/x-python",
   "name": "python",
   "nbconvert_exporter": "python",
   "pygments_lexer": "ipython3",
   "version": "3.7.0"
  }
 },
 "nbformat": 4,
 "nbformat_minor": 2
}
