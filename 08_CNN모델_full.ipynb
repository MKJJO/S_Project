{
 "cells": [
  {
   "cell_type": "markdown",
   "metadata": {},
   "source": [
    "## CNN"
   ]
  },
  {
   "cell_type": "markdown",
   "metadata": {},
   "source": [
    "차원 축소하지 않은 데이터 사용"
   ]
  },
  {
   "cell_type": "code",
   "execution_count": null,
   "metadata": {},
   "outputs": [],
   "source": []
  },
  {
   "cell_type": "code",
   "execution_count": null,
   "metadata": {},
   "outputs": [],
   "source": []
  },
  {
   "cell_type": "code",
   "execution_count": 380,
   "metadata": {},
   "outputs": [],
   "source": [
    "import pandas as pd\n",
    "import numpy as np\n",
    "from keras.datasets import mnist\n",
    "from keras.utils import np_utils\n",
    "from keras.models import Sequential\n",
    "from keras.layers import Dense, Activation, Conv2D, MaxPooling2D, Flatten, Dropout, BatchNormalization, initializers\n",
    "from keras.optimizers import RMSprop, Adadelta, Adam, SGD, Adagrad\n",
    "from keras.utils import to_categorical\n",
    "import matplotlib.pyplot as plt\n",
    "%matplotlib inline\n",
    "import pickle # 파이썬 객체저장을 위한 모듈"
   ]
  },
  {
   "cell_type": "markdown",
   "metadata": {},
   "source": [
    "## 사전값 셋팅 확인 필수"
   ]
  },
  {
   "cell_type": "code",
   "execution_count": 384,
   "metadata": {},
   "outputs": [],
   "source": [
    "df = 'core'   # 수정필수\n",
    "# core/all/main\n",
    "\n",
    "\n",
    "\n",
    "\n",
    "# core설정시 확인해야 함\n",
    "# R을 통해 확인한 stepwise 유의 변수 리스트\n",
    "core_factors = ['DR00000136','6000201001O0','6000903016D1','FNMKFN02','6000901002D1','S41000210FD1',\n",
    "'6000207003O0','DR00000052','6000906001D6','DR00000156','6000901001D3','DR00000082',\n",
    "'S41000210FD2','6000902001D2','6000908001D3','6000904001D3','6000908001D2','S41B0D1009O0',\n",
    "'6000901002D3','6000903001D2','6000403001O0','CO10100170O0','DR00000113','6000908001D7']\n",
    "\n",
    "#  키별로 비율 배분이 잘 됐는지 확인\n",
    "if df == 'all':\n",
    "    max_idx = 707\n",
    "else:\n",
    "    max_idx = 124\n",
    "    "
   ]
  },
  {
   "cell_type": "markdown",
   "metadata": {},
   "source": [
    "## 데이터셋 셋팅"
   ]
  },
  {
   "cell_type": "code",
   "execution_count": 385,
   "metadata": {},
   "outputs": [],
   "source": [
    "import pickle # 파이썬 객체저장을 위한 모듈\n",
    "\n",
    "# 파이썬 객체 읽어오기\n",
    "\n",
    "if df == 'all':\n",
    "    with open('./pickles/data6vs4_all.p', 'rb') as file:    # hello.txt 파일을 바이너리 읽기 모드(rb)로 열기\n",
    "        temp_train_set = pickle.load(file)\n",
    "        temp_test_set = pickle.load(file)\n",
    "        af_cols = pickle.load(file)\n",
    "else:\n",
    "    with open('./pickles/data6vs4_main.p', 'rb') as file:    # hello.txt 파일을 바이너리 읽기 모드(rb)로 열기\n",
    "        temp_train_set = pickle.load(file)\n",
    "        temp_test_set = pickle.load(file)\n",
    "        af_cols = pickle.load(file)\n"
   ]
  },
  {
   "cell_type": "code",
   "execution_count": null,
   "metadata": {},
   "outputs": [],
   "source": []
  },
  {
   "cell_type": "code",
   "execution_count": 387,
   "metadata": {},
   "outputs": [
    {
     "data": {
      "text/plain": [
       "((755, 702), (755,), (333, 702), (333,))"
      ]
     },
     "execution_count": 387,
     "metadata": {},
     "output_type": "execute_result"
    }
   ],
   "source": [
    "train_set = temp_train_set.drop(['index', 0, max_idx-1,max_idx],axis=1)  # 열삭제\n",
    "test_set = temp_test_set.drop(['index', 0, max_idx-1,max_idx],axis=1)  # 열삭제\n",
    "x_train.shape, y_train.shape, x_test.shape, y_test.shape"
   ]
  },
  {
   "cell_type": "code",
   "execution_count": 388,
   "metadata": {},
   "outputs": [
    {
     "data": {
      "text/html": [
       "<div>\n",
       "<style scoped>\n",
       "    .dataframe tbody tr th:only-of-type {\n",
       "        vertical-align: middle;\n",
       "    }\n",
       "\n",
       "    .dataframe tbody tr th {\n",
       "        vertical-align: top;\n",
       "    }\n",
       "\n",
       "    .dataframe thead th {\n",
       "        text-align: right;\n",
       "    }\n",
       "</style>\n",
       "<table border=\"1\" class=\"dataframe\">\n",
       "  <thead>\n",
       "    <tr style=\"text-align: right;\">\n",
       "      <th></th>\n",
       "      <th>key</th>\n",
       "      <th>industry</th>\n",
       "      <th>label</th>\n",
       "      <th>6000903001D1</th>\n",
       "      <th>6000902001D1</th>\n",
       "      <th>6000909001D1</th>\n",
       "      <th>6000904001D3</th>\n",
       "      <th>6000901001D1</th>\n",
       "      <th>6000908001O0</th>\n",
       "      <th>3001104004O0</th>\n",
       "      <th>...</th>\n",
       "      <th>DR00000054</th>\n",
       "      <th>DR00000108</th>\n",
       "      <th>DR00000162</th>\n",
       "      <th>DR00000056</th>\n",
       "      <th>DR00000110</th>\n",
       "      <th>DR00000164</th>\n",
       "      <th>S410001300D1</th>\n",
       "      <th>S41000210FD2</th>\n",
       "      <th>S430000600D2</th>\n",
       "      <th>S410001300D2</th>\n",
       "    </tr>\n",
       "  </thead>\n",
       "  <tbody>\n",
       "    <tr>\n",
       "      <th>0</th>\n",
       "      <td>2017217190</td>\n",
       "      <td>C</td>\n",
       "      <td>0</td>\n",
       "      <td>2.09981</td>\n",
       "      <td>0.270822</td>\n",
       "      <td>-0.500636</td>\n",
       "      <td>0</td>\n",
       "      <td>21.7127</td>\n",
       "      <td>22.1255</td>\n",
       "      <td>2.96982</td>\n",
       "      <td>...</td>\n",
       "      <td>0</td>\n",
       "      <td>0</td>\n",
       "      <td>0</td>\n",
       "      <td>0</td>\n",
       "      <td>0</td>\n",
       "      <td>1</td>\n",
       "      <td>2.25459</td>\n",
       "      <td>-2.21916</td>\n",
       "      <td>2.66396</td>\n",
       "      <td>0.420925</td>\n",
       "    </tr>\n",
       "    <tr>\n",
       "      <th>1</th>\n",
       "      <td>2016097870</td>\n",
       "      <td>C</td>\n",
       "      <td>0</td>\n",
       "      <td>0.827262</td>\n",
       "      <td>1.07435</td>\n",
       "      <td>0.772678</td>\n",
       "      <td>1</td>\n",
       "      <td>21.7263</td>\n",
       "      <td>22.1281</td>\n",
       "      <td>2.96982</td>\n",
       "      <td>...</td>\n",
       "      <td>0</td>\n",
       "      <td>0</td>\n",
       "      <td>0</td>\n",
       "      <td>0</td>\n",
       "      <td>0</td>\n",
       "      <td>0</td>\n",
       "      <td>2.25459</td>\n",
       "      <td>-1.13276</td>\n",
       "      <td>2.66396</td>\n",
       "      <td>0.420925</td>\n",
       "    </tr>\n",
       "    <tr>\n",
       "      <th>2</th>\n",
       "      <td>2015115610</td>\n",
       "      <td>C</td>\n",
       "      <td>0</td>\n",
       "      <td>1.0853</td>\n",
       "      <td>1.07435</td>\n",
       "      <td>-0.199992</td>\n",
       "      <td>1</td>\n",
       "      <td>21.7158</td>\n",
       "      <td>22.1272</td>\n",
       "      <td>2.96982</td>\n",
       "      <td>...</td>\n",
       "      <td>0</td>\n",
       "      <td>0</td>\n",
       "      <td>0</td>\n",
       "      <td>0</td>\n",
       "      <td>0</td>\n",
       "      <td>1</td>\n",
       "      <td>2.25459</td>\n",
       "      <td>1.15384</td>\n",
       "      <td>2.66396</td>\n",
       "      <td>0.420925</td>\n",
       "    </tr>\n",
       "    <tr>\n",
       "      <th>3</th>\n",
       "      <td>2017093050</td>\n",
       "      <td>C</td>\n",
       "      <td>0</td>\n",
       "      <td>2.09981</td>\n",
       "      <td>1.07435</td>\n",
       "      <td>0.190371</td>\n",
       "      <td>0</td>\n",
       "      <td>22.0504</td>\n",
       "      <td>22.1439</td>\n",
       "      <td>2.96982</td>\n",
       "      <td>...</td>\n",
       "      <td>0</td>\n",
       "      <td>0</td>\n",
       "      <td>0</td>\n",
       "      <td>0</td>\n",
       "      <td>0</td>\n",
       "      <td>0</td>\n",
       "      <td>2.40525</td>\n",
       "      <td>1.04229</td>\n",
       "      <td>0.267563</td>\n",
       "      <td>2.26534</td>\n",
       "    </tr>\n",
       "    <tr>\n",
       "      <th>4</th>\n",
       "      <td>2013005030</td>\n",
       "      <td>C</td>\n",
       "      <td>0</td>\n",
       "      <td>2.09981</td>\n",
       "      <td>1.75398</td>\n",
       "      <td>-0.23022</td>\n",
       "      <td>1</td>\n",
       "      <td>21.7209</td>\n",
       "      <td>22.1258</td>\n",
       "      <td>2.96982</td>\n",
       "      <td>...</td>\n",
       "      <td>0</td>\n",
       "      <td>0</td>\n",
       "      <td>1</td>\n",
       "      <td>0</td>\n",
       "      <td>0</td>\n",
       "      <td>1</td>\n",
       "      <td>2.25459</td>\n",
       "      <td>-0.61853</td>\n",
       "      <td>2.66396</td>\n",
       "      <td>0.420925</td>\n",
       "    </tr>\n",
       "  </tbody>\n",
       "</table>\n",
       "<p>5 rows × 122 columns</p>\n",
       "</div>"
      ],
      "text/plain": [
       "          key industry label 6000903001D1 6000902001D1 6000909001D1  \\\n",
       "0  2017217190        C     0      2.09981     0.270822    -0.500636   \n",
       "1  2016097870        C     0     0.827262      1.07435     0.772678   \n",
       "2  2015115610        C     0       1.0853      1.07435    -0.199992   \n",
       "3  2017093050        C     0      2.09981      1.07435     0.190371   \n",
       "4  2013005030        C     0      2.09981      1.75398     -0.23022   \n",
       "\n",
       "  6000904001D3 6000901001D1 6000908001O0 3001104004O0     ...      DR00000054  \\\n",
       "0            0      21.7127      22.1255      2.96982     ...               0   \n",
       "1            1      21.7263      22.1281      2.96982     ...               0   \n",
       "2            1      21.7158      22.1272      2.96982     ...               0   \n",
       "3            0      22.0504      22.1439      2.96982     ...               0   \n",
       "4            1      21.7209      22.1258      2.96982     ...               0   \n",
       "\n",
       "  DR00000108 DR00000162 DR00000056 DR00000110 DR00000164 S410001300D1  \\\n",
       "0          0          0          0          0          1      2.25459   \n",
       "1          0          0          0          0          0      2.25459   \n",
       "2          0          0          0          0          1      2.25459   \n",
       "3          0          0          0          0          0      2.40525   \n",
       "4          0          1          0          0          1      2.25459   \n",
       "\n",
       "  S41000210FD2 S430000600D2 S410001300D2  \n",
       "0     -2.21916      2.66396     0.420925  \n",
       "1     -1.13276      2.66396     0.420925  \n",
       "2      1.15384      2.66396     0.420925  \n",
       "3      1.04229     0.267563      2.26534  \n",
       "4     -0.61853      2.66396     0.420925  \n",
       "\n",
       "[5 rows x 122 columns]"
      ]
     },
     "execution_count": 388,
     "metadata": {},
     "output_type": "execute_result"
    }
   ],
   "source": [
    "# 항목명 (열명) 셋팅\n",
    "factor_cols = list(af_cols[1:-2])\n",
    "train_set.columns = factor_cols\n",
    "test_set.columns = factor_cols\n",
    "train_set.head()"
   ]
  },
  {
   "cell_type": "code",
   "execution_count": 391,
   "metadata": {},
   "outputs": [],
   "source": [
    "# core인 경우 main에서 핵심 변수만 추림\n",
    "\n",
    "if df == 'core':\n",
    "    final_factors = ['key', 'industry', 'label']\n",
    "    final_factors = final_factors + core_factors\n",
    "    train_set = train_set[final_factors]\n",
    "    test_set = test_set[final_factors]\n",
    "else:\n",
    "    pass"
   ]
  },
  {
   "cell_type": "code",
   "execution_count": 392,
   "metadata": {},
   "outputs": [
    {
     "data": {
      "text/plain": [
       "('core', (755, 27), (333, 27))"
      ]
     },
     "execution_count": 392,
     "metadata": {},
     "output_type": "execute_result"
    }
   ],
   "source": [
    "df, train_set.shape, test_set.shape"
   ]
  },
  {
   "cell_type": "code",
   "execution_count": 393,
   "metadata": {},
   "outputs": [
    {
     "data": {
      "text/html": [
       "<div>\n",
       "<style scoped>\n",
       "    .dataframe tbody tr th:only-of-type {\n",
       "        vertical-align: middle;\n",
       "    }\n",
       "\n",
       "    .dataframe tbody tr th {\n",
       "        vertical-align: top;\n",
       "    }\n",
       "\n",
       "    .dataframe thead th {\n",
       "        text-align: right;\n",
       "    }\n",
       "</style>\n",
       "<table border=\"1\" class=\"dataframe\">\n",
       "  <thead>\n",
       "    <tr style=\"text-align: right;\">\n",
       "      <th></th>\n",
       "      <th>key</th>\n",
       "      <th>industry</th>\n",
       "      <th>label</th>\n",
       "      <th>DR00000136</th>\n",
       "      <th>6000201001O0</th>\n",
       "      <th>6000903016D1</th>\n",
       "      <th>FNMKFN02</th>\n",
       "      <th>6000901002D1</th>\n",
       "      <th>S41000210FD1</th>\n",
       "      <th>6000207003O0</th>\n",
       "      <th>...</th>\n",
       "      <th>6000908001D3</th>\n",
       "      <th>6000904001D3</th>\n",
       "      <th>6000908001D2</th>\n",
       "      <th>S41B0D1009O0</th>\n",
       "      <th>6000901002D3</th>\n",
       "      <th>6000903001D2</th>\n",
       "      <th>6000403001O0</th>\n",
       "      <th>CO10100170O0</th>\n",
       "      <th>DR00000113</th>\n",
       "      <th>6000908001D7</th>\n",
       "    </tr>\n",
       "  </thead>\n",
       "  <tbody>\n",
       "    <tr>\n",
       "      <th>0</th>\n",
       "      <td>2017217190</td>\n",
       "      <td>C</td>\n",
       "      <td>0</td>\n",
       "      <td>0</td>\n",
       "      <td>0.487848</td>\n",
       "      <td>-0.235578</td>\n",
       "      <td>0</td>\n",
       "      <td>-0.290843</td>\n",
       "      <td>-1.72044</td>\n",
       "      <td>1.49886</td>\n",
       "      <td>...</td>\n",
       "      <td>-0.666377</td>\n",
       "      <td>0</td>\n",
       "      <td>15.2478</td>\n",
       "      <td>0.525266</td>\n",
       "      <td>0.245382</td>\n",
       "      <td>-0.270822</td>\n",
       "      <td>2.04451</td>\n",
       "      <td>0.204754</td>\n",
       "      <td>0</td>\n",
       "      <td>1</td>\n",
       "    </tr>\n",
       "    <tr>\n",
       "      <th>1</th>\n",
       "      <td>2016097870</td>\n",
       "      <td>C</td>\n",
       "      <td>0</td>\n",
       "      <td>0</td>\n",
       "      <td>1.80987</td>\n",
       "      <td>0.746976</td>\n",
       "      <td>0</td>\n",
       "      <td>0.0773512</td>\n",
       "      <td>-1.19475</td>\n",
       "      <td>1.49886</td>\n",
       "      <td>...</td>\n",
       "      <td>0.386142</td>\n",
       "      <td>1</td>\n",
       "      <td>13.645</td>\n",
       "      <td>0.525266</td>\n",
       "      <td>-0.227257</td>\n",
       "      <td>-1.07435</td>\n",
       "      <td>2.04451</td>\n",
       "      <td>0.277946</td>\n",
       "      <td>0</td>\n",
       "      <td>0</td>\n",
       "    </tr>\n",
       "    <tr>\n",
       "      <th>2</th>\n",
       "      <td>2015115610</td>\n",
       "      <td>C</td>\n",
       "      <td>0</td>\n",
       "      <td>0</td>\n",
       "      <td>1.80987</td>\n",
       "      <td>0.315955</td>\n",
       "      <td>0</td>\n",
       "      <td>0.0773512</td>\n",
       "      <td>0.97075</td>\n",
       "      <td>1.49886</td>\n",
       "      <td>...</td>\n",
       "      <td>0.21561</td>\n",
       "      <td>1</td>\n",
       "      <td>12.515</td>\n",
       "      <td>0.689667</td>\n",
       "      <td>-0.227257</td>\n",
       "      <td>-1.07435</td>\n",
       "      <td>2.04451</td>\n",
       "      <td>0.543432</td>\n",
       "      <td>0</td>\n",
       "      <td>0</td>\n",
       "    </tr>\n",
       "    <tr>\n",
       "      <th>3</th>\n",
       "      <td>2017093050</td>\n",
       "      <td>C</td>\n",
       "      <td>0</td>\n",
       "      <td>0</td>\n",
       "      <td>1.80987</td>\n",
       "      <td>0.532843</td>\n",
       "      <td>0</td>\n",
       "      <td>0.0773512</td>\n",
       "      <td>0.349584</td>\n",
       "      <td>1.49886</td>\n",
       "      <td>...</td>\n",
       "      <td>0.234092</td>\n",
       "      <td>0</td>\n",
       "      <td>16.0119</td>\n",
       "      <td>0.525266</td>\n",
       "      <td>-0.227257</td>\n",
       "      <td>-1.07435</td>\n",
       "      <td>2.04451</td>\n",
       "      <td>0.543432</td>\n",
       "      <td>0</td>\n",
       "      <td>0</td>\n",
       "    </tr>\n",
       "    <tr>\n",
       "      <th>4</th>\n",
       "      <td>2013005030</td>\n",
       "      <td>C</td>\n",
       "      <td>0</td>\n",
       "      <td>1</td>\n",
       "      <td>1.80987</td>\n",
       "      <td>-0.189984</td>\n",
       "      <td>0</td>\n",
       "      <td>-1.32118</td>\n",
       "      <td>-0.445309</td>\n",
       "      <td>1.49886</td>\n",
       "      <td>...</td>\n",
       "      <td>-0.108716</td>\n",
       "      <td>1</td>\n",
       "      <td>14.827</td>\n",
       "      <td>0.525266</td>\n",
       "      <td>0.245382</td>\n",
       "      <td>-1.75398</td>\n",
       "      <td>0.980221</td>\n",
       "      <td>0.543432</td>\n",
       "      <td>0</td>\n",
       "      <td>1</td>\n",
       "    </tr>\n",
       "  </tbody>\n",
       "</table>\n",
       "<p>5 rows × 27 columns</p>\n",
       "</div>"
      ],
      "text/plain": [
       "          key industry label DR00000136 6000201001O0 6000903016D1 FNMKFN02  \\\n",
       "0  2017217190        C     0          0     0.487848    -0.235578        0   \n",
       "1  2016097870        C     0          0      1.80987     0.746976        0   \n",
       "2  2015115610        C     0          0      1.80987     0.315955        0   \n",
       "3  2017093050        C     0          0      1.80987     0.532843        0   \n",
       "4  2013005030        C     0          1      1.80987    -0.189984        0   \n",
       "\n",
       "  6000901002D1 S41000210FD1 6000207003O0     ...      6000908001D3  \\\n",
       "0    -0.290843     -1.72044      1.49886     ...         -0.666377   \n",
       "1    0.0773512     -1.19475      1.49886     ...          0.386142   \n",
       "2    0.0773512      0.97075      1.49886     ...           0.21561   \n",
       "3    0.0773512     0.349584      1.49886     ...          0.234092   \n",
       "4     -1.32118    -0.445309      1.49886     ...         -0.108716   \n",
       "\n",
       "  6000904001D3 6000908001D2 S41B0D1009O0 6000901002D3 6000903001D2  \\\n",
       "0            0      15.2478     0.525266     0.245382    -0.270822   \n",
       "1            1       13.645     0.525266    -0.227257     -1.07435   \n",
       "2            1       12.515     0.689667    -0.227257     -1.07435   \n",
       "3            0      16.0119     0.525266    -0.227257     -1.07435   \n",
       "4            1       14.827     0.525266     0.245382     -1.75398   \n",
       "\n",
       "  6000403001O0 CO10100170O0 DR00000113 6000908001D7  \n",
       "0      2.04451     0.204754          0            1  \n",
       "1      2.04451     0.277946          0            0  \n",
       "2      2.04451     0.543432          0            0  \n",
       "3      2.04451     0.543432          0            0  \n",
       "4     0.980221     0.543432          0            1  \n",
       "\n",
       "[5 rows x 27 columns]"
      ]
     },
     "execution_count": 393,
     "metadata": {},
     "output_type": "execute_result"
    }
   ],
   "source": [
    "train_set.head()"
   ]
  },
  {
   "cell_type": "markdown",
   "metadata": {},
   "source": [
    "### 데이터 분리 및 타입변경"
   ]
  },
  {
   "cell_type": "code",
   "execution_count": 394,
   "metadata": {},
   "outputs": [],
   "source": [
    "# 데이터 분리\n",
    "cols = train_set.columns.values\n",
    "train_info = train_set[cols[0:3]]\n",
    "x_train = train_set[cols[3:]]\n",
    "y_train = train_set['label']\n",
    "train_len = x_train.shape[0]\n",
    "\n",
    "cols = test_set.columns.values\n",
    "test_info = test_set[cols[0:3]]\n",
    "x_test = test_set[cols[3:]]\n",
    "y_test = test_set['label']\n",
    "test_len = x_test.shape[0]"
   ]
  },
  {
   "cell_type": "code",
   "execution_count": 395,
   "metadata": {
    "scrolled": true
   },
   "outputs": [
    {
     "data": {
      "text/plain": [
       "((755, 24), (755,))"
      ]
     },
     "execution_count": 395,
     "metadata": {},
     "output_type": "execute_result"
    }
   ],
   "source": [
    "x_train.shape, y_train.shape"
   ]
  },
  {
   "cell_type": "code",
   "execution_count": 396,
   "metadata": {},
   "outputs": [],
   "source": [
    "x_train = np.array(x_train)\n",
    "x_test = np.array(x_test)"
   ]
  },
  {
   "cell_type": "markdown",
   "metadata": {},
   "source": [
    "### 모델 입력값 설정"
   ]
  },
  {
   "cell_type": "code",
   "execution_count": 397,
   "metadata": {},
   "outputs": [],
   "source": [
    "np.random.seed(42)\n",
    "\n",
    "# 분류갯수\n",
    "classes = 2\n",
    "\n",
    "# 학습데이터\n",
    "img_rows = 1\n",
    "img_cols = x_train.shape[1] \n",
    "\n"
   ]
  },
  {
   "cell_type": "code",
   "execution_count": 398,
   "metadata": {},
   "outputs": [
    {
     "data": {
      "text/plain": [
       "(1, 24)"
      ]
     },
     "execution_count": 398,
     "metadata": {},
     "output_type": "execute_result"
    }
   ],
   "source": [
    "img_rows, img_cols"
   ]
  },
  {
   "cell_type": "code",
   "execution_count": null,
   "metadata": {},
   "outputs": [],
   "source": []
  },
  {
   "cell_type": "markdown",
   "metadata": {},
   "source": [
    "### input shape 변경"
   ]
  },
  {
   "cell_type": "code",
   "execution_count": 399,
   "metadata": {},
   "outputs": [
    {
     "name": "stdout",
     "output_type": "stream",
     "text": [
      "(1, 24, 1)\n"
     ]
    }
   ],
   "source": [
    "# X_train = X_train.reshape(X_train.shape[0], img_rows, img_cols, 1)\n",
    "# X_test = X_test.reshape(X_test.shape[0], img_rows, img_cols, 1)\n",
    "X_train = x_train.reshape(x_train.shape[0], 1, x_train.shape[1], 1) # (1, # of features, # of chnnels) # input.shape[1:끝]\n",
    "X_test = x_test.reshape(x_test.shape[0], 1, x_test.shape[1], 1) # (1, # of features, # of chnnels) # input.shape[1:끝]\n",
    "\n",
    "# 변수명 전환\n",
    "Y_train = y_train\n",
    "Y_test = y_test\n",
    "\n",
    "input_shape= X_train.shape[1:4]\n",
    "print(input_shape)"
   ]
  },
  {
   "cell_type": "code",
   "execution_count": 400,
   "metadata": {},
   "outputs": [
    {
     "data": {
      "text/plain": [
       "24"
      ]
     },
     "execution_count": 400,
     "metadata": {},
     "output_type": "execute_result"
    }
   ],
   "source": [
    "x_train.shape[1]"
   ]
  },
  {
   "cell_type": "code",
   "execution_count": 401,
   "metadata": {},
   "outputs": [],
   "source": [
    "if x_train.shape[1] >= 100:\n",
    "    filter_size = 32\n",
    "elif x_train.shape[1] >= 50:\n",
    "    filter_size = 8\n",
    "else:\n",
    "    filter_size = input_shape[1]/2\n"
   ]
  },
  {
   "cell_type": "code",
   "execution_count": 402,
   "metadata": {},
   "outputs": [
    {
     "data": {
      "text/plain": [
       "((755, 2), (333, 2))"
      ]
     },
     "execution_count": 402,
     "metadata": {},
     "output_type": "execute_result"
    }
   ],
   "source": [
    "# Y값을 1개항목에서 카테고리화 함\n",
    "Y_train = to_categorical(y_train, num_classes=classes) # one-hot 인코딩\n",
    "Y_test = to_categorical(y_test, num_classes=classes) # one-hot 인코딩\n",
    "\n",
    "Y_train.shape, Y_test.shape"
   ]
  },
  {
   "cell_type": "markdown",
   "metadata": {},
   "source": [
    "## CNN 모델 설계"
   ]
  },
  {
   "cell_type": "code",
   "execution_count": 403,
   "metadata": {},
   "outputs": [
    {
     "data": {
      "text/plain": [
       "((755, 1, 24, 1), (333, 1, 24, 1), (755, 2), (333, 2))"
      ]
     },
     "execution_count": 403,
     "metadata": {},
     "output_type": "execute_result"
    }
   ],
   "source": [
    "X_train.shape, X_test.shape, Y_train.shape, Y_test.shape"
   ]
  },
  {
   "cell_type": "code",
   "execution_count": 404,
   "metadata": {},
   "outputs": [],
   "source": [
    "filter_size = 4"
   ]
  },
  {
   "cell_type": "code",
   "execution_count": 405,
   "metadata": {},
   "outputs": [
    {
     "name": "stdout",
     "output_type": "stream",
     "text": [
      "Train on 604 samples, validate on 151 samples\n",
      "Epoch 1/100\n",
      "604/604 [==============================] - 2s 4ms/step - loss: 0.6291 - acc: 0.6209 - val_loss: 0.9776 - val_acc: 0.0000e+00\n",
      "Epoch 2/100\n",
      "604/604 [==============================] - 0s 83us/step - loss: 0.6096 - acc: 0.6275 - val_loss: 1.0260 - val_acc: 0.0000e+00\n",
      "Epoch 3/100\n",
      "604/604 [==============================] - 0s 83us/step - loss: 0.5948 - acc: 0.6573 - val_loss: 1.0680 - val_acc: 0.0000e+00\n",
      "Epoch 4/100\n",
      "604/604 [==============================] - 0s 114us/step - loss: 0.5893 - acc: 0.6788 - val_loss: 1.1019 - val_acc: 0.0000e+00\n",
      "Epoch 5/100\n",
      "604/604 [==============================] - 0s 94us/step - loss: 0.6109 - acc: 0.6738 - val_loss: 1.1300 - val_acc: 0.0000e+00\n",
      "Epoch 6/100\n",
      "604/604 [==============================] - 0s 78us/step - loss: 0.5908 - acc: 0.6987 - val_loss: 1.1527 - val_acc: 0.0000e+00\n",
      "Epoch 7/100\n",
      "604/604 [==============================] - 0s 142us/step - loss: 0.5925 - acc: 0.6904 - val_loss: 1.1718 - val_acc: 0.0000e+00\n",
      "Epoch 8/100\n",
      "604/604 [==============================] - 0s 68us/step - loss: 0.5844 - acc: 0.7202 - val_loss: 1.1870 - val_acc: 0.0000e+00\n",
      "Epoch 9/100\n",
      "604/604 [==============================] - 0s 81us/step - loss: 0.6042 - acc: 0.7020 - val_loss: 1.1952 - val_acc: 0.0000e+00\n",
      "Epoch 10/100\n",
      "604/604 [==============================] - 0s 76us/step - loss: 0.5612 - acc: 0.7070 - val_loss: 1.1983 - val_acc: 0.0000e+00\n",
      "Epoch 11/100\n",
      "604/604 [==============================] - 0s 71us/step - loss: 0.5649 - acc: 0.7136 - val_loss: 1.1969 - val_acc: 0.0000e+00\n",
      "Epoch 12/100\n",
      "604/604 [==============================] - 0s 187us/step - loss: 0.5435 - acc: 0.7434 - val_loss: 1.1952 - val_acc: 0.0000e+00\n",
      "Epoch 13/100\n",
      "604/604 [==============================] - 0s 99us/step - loss: 0.5547 - acc: 0.7285 - val_loss: 1.1917 - val_acc: 0.0000e+00\n",
      "Epoch 14/100\n",
      "604/604 [==============================] - 0s 68us/step - loss: 0.5724 - acc: 0.7185 - val_loss: 1.1840 - val_acc: 0.0000e+00\n",
      "Epoch 15/100\n",
      "604/604 [==============================] - 0s 94us/step - loss: 0.5563 - acc: 0.7103 - val_loss: 1.1755 - val_acc: 0.0000e+00\n",
      "Epoch 16/100\n",
      "604/604 [==============================] - 0s 76us/step - loss: 0.5527 - acc: 0.7417 - val_loss: 1.1635 - val_acc: 0.0000e+00\n",
      "Epoch 17/100\n",
      "604/604 [==============================] - 0s 144us/step - loss: 0.5742 - acc: 0.7351 - val_loss: 1.1455 - val_acc: 0.0000e+00\n",
      "Epoch 18/100\n",
      "604/604 [==============================] - 0s 66us/step - loss: 0.5509 - acc: 0.7483 - val_loss: 1.1274 - val_acc: 0.0000e+00\n",
      "Epoch 19/100\n",
      "604/604 [==============================] - 0s 71us/step - loss: 0.5594 - acc: 0.7483 - val_loss: 1.1116 - val_acc: 0.0000e+00\n",
      "Epoch 20/100\n",
      "604/604 [==============================] - 0s 149us/step - loss: 0.5477 - acc: 0.7351 - val_loss: 1.0972 - val_acc: 0.0000e+00\n",
      "Epoch 21/100\n",
      "604/604 [==============================] - 0s 102us/step - loss: 0.5441 - acc: 0.7517 - val_loss: 1.0823 - val_acc: 0.0000e+00\n",
      "Epoch 22/100\n",
      "604/604 [==============================] - 0s 107us/step - loss: 0.5501 - acc: 0.7517 - val_loss: 1.0726 - val_acc: 0.0000e+00\n",
      "Epoch 23/100\n",
      "604/604 [==============================] - 0s 74us/step - loss: 0.5504 - acc: 0.7450 - val_loss: 1.0678 - val_acc: 0.0000e+00\n",
      "Epoch 24/100\n",
      "604/604 [==============================] - 0s 76us/step - loss: 0.5394 - acc: 0.7483 - val_loss: 1.0672 - val_acc: 0.0000e+00\n",
      "Epoch 25/100\n",
      "604/604 [==============================] - 0s 83us/step - loss: 0.5309 - acc: 0.7616 - val_loss: 1.0724 - val_acc: 0.0000e+00\n",
      "Epoch 26/100\n",
      "604/604 [==============================] - 0s 73us/step - loss: 0.5480 - acc: 0.7434 - val_loss: 1.0780 - val_acc: 0.0000e+00\n",
      "Epoch 27/100\n",
      "604/604 [==============================] - 0s 111us/step - loss: 0.5492 - acc: 0.7318 - val_loss: 1.0798 - val_acc: 0.0000e+00\n",
      "Epoch 28/100\n",
      "604/604 [==============================] - 0s 81us/step - loss: 0.5484 - acc: 0.7417 - val_loss: 1.0813 - val_acc: 0.0000e+00\n",
      "Epoch 29/100\n",
      "604/604 [==============================] - 0s 155us/step - loss: 0.5426 - acc: 0.7566 - val_loss: 1.0869 - val_acc: 0.0066\n",
      "Epoch 30/100\n",
      "604/604 [==============================] - 0s 73us/step - loss: 0.5314 - acc: 0.7500 - val_loss: 1.0955 - val_acc: 0.0066\n",
      "Epoch 31/100\n",
      "604/604 [==============================] - 0s 116us/step - loss: 0.5193 - acc: 0.7616 - val_loss: 1.1063 - val_acc: 0.0066\n",
      "Epoch 32/100\n",
      "604/604 [==============================] - 0s 101us/step - loss: 0.5402 - acc: 0.7599 - val_loss: 1.1175 - val_acc: 0.0066\n",
      "Epoch 33/100\n",
      "604/604 [==============================] - 0s 83us/step - loss: 0.5077 - acc: 0.7831 - val_loss: 1.1310 - val_acc: 0.0066\n",
      "Epoch 34/100\n",
      "604/604 [==============================] - 0s 130us/step - loss: 0.5372 - acc: 0.7533 - val_loss: 1.1428 - val_acc: 0.0066\n",
      "Epoch 35/100\n",
      "604/604 [==============================] - 0s 81us/step - loss: 0.5155 - acc: 0.7649 - val_loss: 1.1527 - val_acc: 0.0066\n",
      "Epoch 36/100\n",
      "604/604 [==============================] - 0s 102us/step - loss: 0.5081 - acc: 0.7583 - val_loss: 1.1589 - val_acc: 0.0132\n",
      "Epoch 37/100\n",
      "604/604 [==============================] - 0s 92us/step - loss: 0.5063 - acc: 0.7616 - val_loss: 1.1617 - val_acc: 0.0132\n",
      "Epoch 38/100\n",
      "604/604 [==============================] - 0s 102us/step - loss: 0.5328 - acc: 0.7450 - val_loss: 1.1536 - val_acc: 0.0132\n",
      "Epoch 39/100\n",
      "604/604 [==============================] - 0s 114us/step - loss: 0.5000 - acc: 0.7583 - val_loss: 1.1442 - val_acc: 0.0199\n",
      "Epoch 40/100\n",
      "604/604 [==============================] - 0s 78us/step - loss: 0.5254 - acc: 0.7550 - val_loss: 1.1365 - val_acc: 0.0199\n",
      "Epoch 41/100\n",
      "604/604 [==============================] - 0s 144us/step - loss: 0.5159 - acc: 0.7616 - val_loss: 1.1283 - val_acc: 0.0331\n",
      "Epoch 42/100\n",
      "604/604 [==============================] - 0s 78us/step - loss: 0.4949 - acc: 0.7517 - val_loss: 1.1217 - val_acc: 0.0397\n",
      "Epoch 43/100\n",
      "604/604 [==============================] - 0s 124us/step - loss: 0.5112 - acc: 0.7583 - val_loss: 1.1182 - val_acc: 0.0397\n",
      "Epoch 44/100\n",
      "604/604 [==============================] - 0s 71us/step - loss: 0.5074 - acc: 0.7583 - val_loss: 1.1112 - val_acc: 0.0464\n",
      "Epoch 45/100\n",
      "604/604 [==============================] - 0s 130us/step - loss: 0.5026 - acc: 0.7765 - val_loss: 1.1009 - val_acc: 0.0464\n",
      "Epoch 46/100\n",
      "604/604 [==============================] - 0s 81us/step - loss: 0.5147 - acc: 0.7682 - val_loss: 1.0926 - val_acc: 0.0464\n",
      "Epoch 47/100\n",
      "604/604 [==============================] - 0s 142us/step - loss: 0.5159 - acc: 0.7566 - val_loss: 1.0812 - val_acc: 0.0530\n",
      "Epoch 48/100\n",
      "604/604 [==============================] - 0s 74us/step - loss: 0.4837 - acc: 0.7699 - val_loss: 1.0741 - val_acc: 0.0530\n",
      "Epoch 49/100\n",
      "604/604 [==============================] - 0s 86us/step - loss: 0.4885 - acc: 0.7666 - val_loss: 1.0683 - val_acc: 0.0596\n",
      "Epoch 50/100\n",
      "604/604 [==============================] - 0s 111us/step - loss: 0.4956 - acc: 0.7632 - val_loss: 1.0629 - val_acc: 0.0728\n",
      "Epoch 51/100\n",
      "604/604 [==============================] - 0s 114us/step - loss: 0.4853 - acc: 0.7715 - val_loss: 1.0575 - val_acc: 0.0861\n",
      "Epoch 52/100\n",
      "604/604 [==============================] - 0s 83us/step - loss: 0.4854 - acc: 0.7682 - val_loss: 1.0486 - val_acc: 0.0993\n",
      "Epoch 53/100\n",
      "604/604 [==============================] - 0s 139us/step - loss: 0.5158 - acc: 0.7599 - val_loss: 1.0385 - val_acc: 0.1060\n",
      "Epoch 54/100\n",
      "604/604 [==============================] - 0s 74us/step - loss: 0.4786 - acc: 0.7748 - val_loss: 1.0318 - val_acc: 0.1126\n",
      "Epoch 55/100\n",
      "604/604 [==============================] - 0s 79us/step - loss: 0.4721 - acc: 0.7765 - val_loss: 1.0279 - val_acc: 0.1258\n",
      "Epoch 56/100\n",
      "604/604 [==============================] - 0s 81us/step - loss: 0.4603 - acc: 0.7947 - val_loss: 1.0314 - val_acc: 0.1325\n",
      "Epoch 57/100\n",
      "604/604 [==============================] - 0s 84us/step - loss: 0.4656 - acc: 0.7781 - val_loss: 1.0374 - val_acc: 0.1457\n",
      "Epoch 58/100\n",
      "604/604 [==============================] - 0s 88us/step - loss: 0.4560 - acc: 0.7848 - val_loss: 1.0430 - val_acc: 0.1523\n",
      "Epoch 59/100\n",
      "604/604 [==============================] - 0s 79us/step - loss: 0.4804 - acc: 0.7848 - val_loss: 1.0438 - val_acc: 0.1656\n",
      "Epoch 60/100\n",
      "604/604 [==============================] - 0s 101us/step - loss: 0.4735 - acc: 0.7881 - val_loss: 1.0408 - val_acc: 0.1854\n",
      "Epoch 61/100\n",
      "604/604 [==============================] - 0s 74us/step - loss: 0.4683 - acc: 0.7632 - val_loss: 1.0365 - val_acc: 0.2185\n",
      "Epoch 62/100\n",
      "604/604 [==============================] - 0s 73us/step - loss: 0.4642 - acc: 0.7848 - val_loss: 1.0303 - val_acc: 0.2252\n",
      "Epoch 63/100\n",
      "604/604 [==============================] - 0s 73us/step - loss: 0.4485 - acc: 0.8013 - val_loss: 1.0256 - val_acc: 0.2318\n",
      "Epoch 64/100\n",
      "604/604 [==============================] - 0s 76us/step - loss: 0.4689 - acc: 0.7682 - val_loss: 1.0232 - val_acc: 0.2384\n",
      "Epoch 65/100\n",
      "604/604 [==============================] - 0s 79us/step - loss: 0.4727 - acc: 0.7748 - val_loss: 1.0163 - val_acc: 0.2450\n",
      "Epoch 66/100\n",
      "604/604 [==============================] - 0s 74us/step - loss: 0.4622 - acc: 0.7715 - val_loss: 1.0069 - val_acc: 0.2649\n",
      "Epoch 67/100\n",
      "604/604 [==============================] - 0s 84us/step - loss: 0.4838 - acc: 0.7781 - val_loss: 0.9956 - val_acc: 0.2914\n",
      "Epoch 68/100\n",
      "604/604 [==============================] - 0s 73us/step - loss: 0.4681 - acc: 0.7848 - val_loss: 0.9875 - val_acc: 0.3046\n",
      "Epoch 69/100\n",
      "604/604 [==============================] - 0s 83us/step - loss: 0.4442 - acc: 0.7914 - val_loss: 0.9839 - val_acc: 0.3113\n",
      "Epoch 70/100\n",
      "604/604 [==============================] - 0s 97us/step - loss: 0.4511 - acc: 0.7881 - val_loss: 0.9811 - val_acc: 0.3113\n",
      "Epoch 71/100\n",
      "604/604 [==============================] - 0s 71us/step - loss: 0.4691 - acc: 0.7914 - val_loss: 0.9785 - val_acc: 0.3245\n",
      "Epoch 72/100\n",
      "604/604 [==============================] - 0s 84us/step - loss: 0.4596 - acc: 0.7864 - val_loss: 0.9782 - val_acc: 0.3311\n",
      "Epoch 73/100\n",
      "604/604 [==============================] - 0s 101us/step - loss: 0.4563 - acc: 0.7881 - val_loss: 0.9796 - val_acc: 0.3311\n",
      "Epoch 74/100\n",
      "604/604 [==============================] - 0s 92us/step - loss: 0.4669 - acc: 0.7897 - val_loss: 0.9770 - val_acc: 0.3377\n",
      "Epoch 75/100\n",
      "604/604 [==============================] - 0s 99us/step - loss: 0.4709 - acc: 0.7815 - val_loss: 0.9713 - val_acc: 0.3576\n",
      "Epoch 76/100\n",
      "604/604 [==============================] - 0s 83us/step - loss: 0.4340 - acc: 0.7930 - val_loss: 0.9683 - val_acc: 0.3576\n",
      "Epoch 77/100\n",
      "604/604 [==============================] - 0s 81us/step - loss: 0.4229 - acc: 0.8096 - val_loss: 0.9667 - val_acc: 0.3841\n",
      "Epoch 78/100\n",
      "604/604 [==============================] - 0s 76us/step - loss: 0.4392 - acc: 0.8195 - val_loss: 0.9643 - val_acc: 0.3841\n",
      "Epoch 79/100\n",
      "604/604 [==============================] - 0s 76us/step - loss: 0.4066 - acc: 0.8228 - val_loss: 0.9623 - val_acc: 0.3841\n",
      "Epoch 80/100\n",
      "604/604 [==============================] - 0s 73us/step - loss: 0.4501 - acc: 0.8030 - val_loss: 0.9612 - val_acc: 0.3841\n",
      "Epoch 81/100\n",
      "604/604 [==============================] - 0s 91us/step - loss: 0.4348 - acc: 0.8129 - val_loss: 0.9607 - val_acc: 0.3974\n",
      "Epoch 82/100\n",
      "604/604 [==============================] - 0s 84us/step - loss: 0.4429 - acc: 0.8079 - val_loss: 0.9608 - val_acc: 0.4106\n",
      "Epoch 83/100\n",
      "604/604 [==============================] - 0s 112us/step - loss: 0.4430 - acc: 0.8030 - val_loss: 0.9578 - val_acc: 0.4172\n",
      "Epoch 84/100\n",
      "604/604 [==============================] - 0s 104us/step - loss: 0.4300 - acc: 0.8262 - val_loss: 0.9545 - val_acc: 0.4238\n",
      "Epoch 85/100\n",
      "604/604 [==============================] - 0s 111us/step - loss: 0.4254 - acc: 0.8046 - val_loss: 0.9502 - val_acc: 0.4437\n",
      "Epoch 86/100\n",
      "604/604 [==============================] - 0s 81us/step - loss: 0.4175 - acc: 0.8344 - val_loss: 0.9458 - val_acc: 0.4503\n",
      "Epoch 87/100\n",
      "604/604 [==============================] - 0s 76us/step - loss: 0.4369 - acc: 0.7947 - val_loss: 0.9380 - val_acc: 0.4702\n",
      "Epoch 88/100\n",
      "604/604 [==============================] - 0s 73us/step - loss: 0.4373 - acc: 0.7864 - val_loss: 0.9260 - val_acc: 0.4702\n",
      "Epoch 89/100\n",
      "604/604 [==============================] - 0s 81us/step - loss: 0.4303 - acc: 0.8179 - val_loss: 0.9112 - val_acc: 0.4768\n",
      "Epoch 90/100\n",
      "604/604 [==============================] - 0s 89us/step - loss: 0.4545 - acc: 0.8013 - val_loss: 0.8965 - val_acc: 0.4967\n",
      "Epoch 91/100\n",
      "604/604 [==============================] - 0s 101us/step - loss: 0.4265 - acc: 0.8146 - val_loss: 0.8882 - val_acc: 0.5033\n",
      "Epoch 92/100\n",
      "604/604 [==============================] - 0s 89us/step - loss: 0.4284 - acc: 0.7997 - val_loss: 0.8854 - val_acc: 0.5033\n",
      "Epoch 93/100\n",
      "604/604 [==============================] - 0s 92us/step - loss: 0.4185 - acc: 0.8328 - val_loss: 0.8894 - val_acc: 0.5033\n",
      "Epoch 94/100\n",
      "604/604 [==============================] - 0s 83us/step - loss: 0.4348 - acc: 0.8129 - val_loss: 0.8950 - val_acc: 0.5166\n",
      "Epoch 95/100\n",
      "604/604 [==============================] - 0s 68us/step - loss: 0.4201 - acc: 0.8295 - val_loss: 0.8992 - val_acc: 0.5232\n",
      "Epoch 96/100\n",
      "604/604 [==============================] - 0s 73us/step - loss: 0.4109 - acc: 0.8195 - val_loss: 0.9017 - val_acc: 0.5099\n",
      "Epoch 97/100\n",
      "604/604 [==============================] - 0s 92us/step - loss: 0.4133 - acc: 0.8411 - val_loss: 0.9026 - val_acc: 0.5099\n",
      "Epoch 98/100\n",
      "604/604 [==============================] - 0s 102us/step - loss: 0.4203 - acc: 0.8245 - val_loss: 0.9017 - val_acc: 0.5099\n",
      "Epoch 99/100\n",
      "604/604 [==============================] - 0s 99us/step - loss: 0.4214 - acc: 0.8295 - val_loss: 0.8935 - val_acc: 0.5364\n",
      "Epoch 100/100\n",
      "604/604 [==============================] - 0s 76us/step - loss: 0.4265 - acc: 0.8228 - val_loss: 0.8841 - val_acc: 0.5430\n"
     ]
    }
   ],
   "source": [
    "\n",
    "\n",
    "# 1. 모델구성\n",
    "model = Sequential()\n",
    "\n",
    "model.add(Conv2D(filter_size, (1, 4), input_shape = X_train.shape[1:4], activation = 'elu', padding='same')) # 2D (1, 4) size 필터\n",
    "model.add(Activation('relu'))\n",
    "\n",
    "model.add(Conv2D(filter_size, (1, 4), padding='same'))\n",
    "model.add(Activation('relu'))\n",
    "model.add(MaxPooling2D((1, 2)))\n",
    "model.add(Dropout(0.25))\n",
    "\n",
    "model.add(Conv2D(filter_size, (1, 4), padding='same'))\n",
    "model.add(Activation('relu'))\n",
    "\n",
    "model.add(Conv2D(filter_size, (1, 4)))\n",
    "model.add(Activation('relu'))\n",
    "model.add(MaxPooling2D((1, 2)))\n",
    "model.add(Dropout(0.25))\n",
    "\n",
    "model.add(Flatten())\n",
    "model.add(Dense(classes, activation = 'softmax'))# 마지막 class 분류\n",
    "\n",
    "# 2. 모델 학습과정 설정하기\n",
    "model.compile(loss = 'categorical_crossentropy', optimizer = 'adam', metrics = ['accuracy'])\n",
    "\n",
    "\n",
    "# 3. 모델 학습시키기\n",
    "hist = model.fit(X_train, Y_train, batch_size = 500, epochs = 100, verbose = 1, validation_split = .2)\n",
    "\n"
   ]
  },
  {
   "cell_type": "code",
   "execution_count": 376,
   "metadata": {},
   "outputs": [
    {
     "data": {
      "image/png": "[encoded data removed]",
      "text/plain": [
       "<Figure size 432x288 with 2 Axes>"
      ]
     },
     "metadata": {},
     "output_type": "display_data"
    },
    {
     "name": "stdout",
     "output_type": "stream",
     "text": [
      "755/755 [==============================] - 1s 682us/step\n",
      "Train score: 0.3102\n",
      "Train accuracy: 0.8768\n",
      "333/333 [==============================] - 0s 674us/step\n",
      "Test score: 0.3203\n",
      "Test accuracy: 0.8829\n"
     ]
    }
   ],
   "source": [
    "\n",
    "# 4. 학습과정 살펴보기(그래프)\n",
    "fig, loss_ax = plt.subplots()\n",
    "acc_ax = loss_ax.twinx()\n",
    "\n",
    "loss_ax.plot(hist.history['loss'], 'y', label='train loss')\n",
    "loss_ax.plot(hist.history['val_loss'], 'r', label='val loss')\n",
    "\n",
    "acc_ax.plot(hist.history['acc'], 'b', label='train acc')\n",
    "acc_ax.plot(hist.history['val_acc'], 'g', label='val acc')\n",
    "\n",
    "loss_ax.set_xlabel('epoch')\n",
    "loss_ax.set_ylabel('loss')\n",
    "acc_ax.set_ylabel('accuray')\n",
    "\n",
    "loss_ax.legend(loc='upper left')\n",
    "acc_ax.legend(loc='lower left')\n",
    "\n",
    "plt.show()\n",
    "\n",
    "\n",
    "# 5. 모델 평가하기 - 테스트셋\n",
    "'''\n",
    "score는 비용함수에 대한 평가값\n",
    "'''\n",
    "\n",
    "score = model.evaluate(X_train, Y_train, verbose=1)\n",
    "print('Train score: {:.4f}'.format(score[0]))\n",
    "print('Train accuracy: {:.4f}'.format(score[1]))\n",
    "\n",
    "\n",
    "score = model.evaluate(X_test, Y_test, verbose=1)\n",
    "print('Test score: {:.4f}'.format(score[0]))\n",
    "print('Test accuracy: {:.4f}'.format(score[1]))\n",
    "\n",
    "# model.evaluate ; 손실 값을 계산하는 데 사용\n",
    "# model.predict_classes() ; 범주 출력을 계산하는 데 사용\n",
    "# model.predict_proba() ; 범주 확률을 계산하는 데 사용\n"
   ]
  },
  {
   "cell_type": "code",
   "execution_count": null,
   "metadata": {},
   "outputs": [],
   "source": []
  },
  {
   "cell_type": "code",
   "execution_count": 379,
   "metadata": {},
   "outputs": [
    {
     "data": {
      "image/png": "[encoded data removed]",
      "text/plain": [
       "<Figure size 432x288 with 1 Axes>"
      ]
     },
     "metadata": {},
     "output_type": "display_data"
    },
    {
     "data": {
      "image/png": "[encoded data removed]",
      "text/plain": [
       "<Figure size 432x288 with 1 Axes>"
      ]
     },
     "metadata": {},
     "output_type": "display_data"
    }
   ],
   "source": [
    "\n",
    "# 5. 분리된 그래프\n",
    "\n",
    "# loss\n",
    "fig, loss_ax = plt.subplots()\n",
    "\n",
    "loss_ax.plot(hist.history['loss'], 'y', label='train loss')\n",
    "loss_ax.plot(hist.history['val_loss'], 'r', label='val loss')\n",
    "\n",
    "loss_ax.set_xlabel('epoch')\n",
    "loss_ax.set_ylabel('loss')\n",
    "\n",
    "loss_ax.legend(loc='upper left')\n",
    "\n",
    "plt.show()\n",
    "\n",
    "# accuray\n",
    "fig, acc_ax = plt.subplots()\n",
    "\n",
    "acc_ax.plot(hist.history['acc'], 'b', label='train acc')\n",
    "acc_ax.plot(hist.history['val_acc'], 'g', label='val acc')\n",
    "\n",
    "loss_ax.set_xlabel('epoch')\n",
    "acc_ax.set_ylabel('accuray')\n",
    "\n",
    "acc_ax.legend(loc='upper left')\n",
    "\n",
    "plt.show()\n"
   ]
  },
  {
   "cell_type": "code",
   "execution_count": 378,
   "metadata": {
    "scrolled": true
   },
   "outputs": [
    {
     "data": {
      "text/plain": [
       "array([[10.243702775436176, 2.9698172583599223, 2.8813154498533837, ...,\n",
       "        1.0, 0.0, 0.0],\n",
       "       [11.308235592314265, 2.9698172583599223, 2.8813154498533837, ...,\n",
       "        0.0, 0.0, 0.0],\n",
       "       [10.79655059829098, 2.9698172583599223, 2.8813154498533837, ...,\n",
       "        1.0, 0.0, 0.0],\n",
       "       ...,\n",
       "       [10.737374458155466, 2.9698172583599223, 2.8813154498533837, ...,\n",
       "        1.0, 0.0, 3.0],\n",
       "       [10.872750169176388, 2.9698172583599223, 2.8813154498533837, ...,\n",
       "        3.0, 0.0, 0.0],\n",
       "       [10.236955280137042, 2.9698172583599223, 2.8813154498533837, ...,\n",
       "        2.0, 0.0, 0.0]], dtype=object)"
      ]
     },
     "execution_count": 378,
     "metadata": {},
     "output_type": "execute_result"
    }
   ],
   "source": [
    "X_train.reshape(-1,X_train.shape[2])"
   ]
  },
  {
   "cell_type": "code",
   "execution_count": null,
   "metadata": {},
   "outputs": [],
   "source": []
  },
  {
   "cell_type": "code",
   "execution_count": null,
   "metadata": {},
   "outputs": [],
   "source": []
  },
  {
   "cell_type": "code",
   "execution_count": null,
   "metadata": {},
   "outputs": [],
   "source": []
  },
  {
   "cell_type": "code",
   "execution_count": null,
   "metadata": {},
   "outputs": [],
   "source": []
  },
  {
   "cell_type": "code",
   "execution_count": null,
   "metadata": {},
   "outputs": [],
   "source": []
  },
  {
   "cell_type": "code",
   "execution_count": null,
   "metadata": {},
   "outputs": [],
   "source": []
  },
  {
   "cell_type": "code",
   "execution_count": null,
   "metadata": {},
   "outputs": [],
   "source": []
  },
  {
   "cell_type": "code",
   "execution_count": null,
   "metadata": {},
   "outputs": [],
   "source": []
  },
  {
   "cell_type": "code",
   "execution_count": null,
   "metadata": {},
   "outputs": [],
   "source": []
  },
  {
   "cell_type": "code",
   "execution_count": null,
   "metadata": {},
   "outputs": [],
   "source": [
    "# 사용한 데이터 검증용 (엑셀 전환 후 비교)"
   ]
  },
  {
   "cell_type": "code",
   "execution_count": 80,
   "metadata": {
    "scrolled": false
   },
   "outputs": [],
   "source": [
    "x_train_df = pd.DataFrame(X_train.reshape(-1,X_train.shape[2]))\n",
    "x_test_df = pd.DataFrame(X_test.reshape(-1,X_test.shape[2]))\n",
    "y_train_df = pd.DataFrame(Y_train)\n",
    "y_test_df = pd.DataFrame(Y_test)"
   ]
  },
  {
   "cell_type": "code",
   "execution_count": 86,
   "metadata": {},
   "outputs": [],
   "source": [
    "train_list = [train_info,y_train_df, x_train_df]\n",
    "test_list = [test_info,y_test_df, x_test_df]\n",
    "\n",
    "result_train = pd.concat(train_list,axis=1) \n",
    "result_test = pd.concat(test_list,axis=1) \n",
    "\n",
    "# 파일 생성\n",
    "result_train.to_csv('./datas/train_check.csv')\n",
    "result_test.to_csv('./datas/test_check.csv')"
   ]
  },
  {
   "cell_type": "code",
   "execution_count": 89,
   "metadata": {},
   "outputs": [
    {
     "data": {
      "text/plain": [
       "array(['DR00000136', '6000201001O0', '6000903016D1', 'FNMKFN02',\n",
       "       '6000901002D1', 'S41000210FD1', '6000207003O0', 'DR00000052',\n",
       "       '6000906001D6', 'DR00000156', '6000901001D3', 'DR00000082',\n",
       "       'S41000210FD2', '6000902001D2', '6000908001D3', '6000904001D3',\n",
       "       '6000908001D2', 'S41B0D1009O0', '6000901002D3', '6000903001D2',\n",
       "       '6000403001O0', 'CO10100170O0', 'DR00000113', '6000908001D7'],\n",
       "      dtype=object)"
      ]
     },
     "execution_count": 89,
     "metadata": {},
     "output_type": "execute_result"
    }
   ],
   "source": [
    "cols = train_set.columns.values\n",
    "cols[3:]"
   ]
  },
  {
   "cell_type": "code",
   "execution_count": null,
   "metadata": {},
   "outputs": [],
   "source": []
  }
 ],
 "metadata": {
  "kernelspec": {
   "display_name": "Python 3",
   "language": "python",
   "name": "python3"
  },
  "language_info": {
   "codemirror_mode": {
    "name": "ipython",
    "version": 3
   },
   "file_extension": ".py",
   "mimetype": "text/x-python",
   "name": "python",
   "nbconvert_exporter": "python",
   "pygments_lexer": "ipython3",
   "version": "3.6.5"
  }
 },
 "nbformat": 4,
 "nbformat_minor": 2
}
